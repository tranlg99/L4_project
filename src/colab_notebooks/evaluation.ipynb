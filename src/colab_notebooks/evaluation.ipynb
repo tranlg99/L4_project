{
  "cells": [
    {
      "cell_type": "markdown",
      "source": [
        "##Imports"
      ],
      "metadata": {
        "id": "-77Gz3FYqZSA"
      }
    },
    {
      "cell_type": "code",
      "source": [
        "from google.colab import drive\n",
        "drive.mount('/content/drive')\n",
        "\n",
        "from skimage.metrics import structural_similarity, peak_signal_noise_ratio\n",
        "from skimage import metrics\n",
        "from sklearn.metrics import mean_squared_error, accuracy_score\n",
        "import cv2\n",
        "import numpy as np\n",
        "import torch\n",
        "import torch.nn as nn\n",
        "import torchvision.transforms as transforms\n",
        "from scipy.interpolate import NearestNDInterpolator, CloughTocher2DInterpolator\n",
        "import matplotlib.pyplot as plt\n",
        "from torch.utils.data import Dataset, DataLoader\n",
        "import sys\n",
        "sys.path.append('/content/drive/MyDrive/drive_folder')\n",
        "from custom_dataset_loader import TaiChiDataset, ToTensor, Normalize\n",
        "from helper_functions import set_parameter_requires_grad, meshgrid2d, get_grid, plot_learning_curve, split_dataset, initialise_model, get_predictions"
      ],
      "metadata": {
        "colab": {
          "base_uri": "https://localhost:8080/"
        },
        "id": "GGDacTayqbp0",
        "outputId": "0198b09c-d3dd-4742-d9f6-6166092567c0"
      },
      "execution_count": 22,
      "outputs": [
        {
          "output_type": "stream",
          "name": "stdout",
          "text": [
            "Drive already mounted at /content/drive; to attempt to forcibly remount, call drive.mount(\"/content/drive\", force_remount=True).\n"
          ]
        }
      ]
    },
    {
      "cell_type": "markdown",
      "source": [
        "## Load test dataset"
      ],
      "metadata": {
        "id": "wHGV7hJWq2l5"
      }
    },
    {
      "cell_type": "code",
      "source": [
        "def get_dataloader(dataset, batch_size=16, shuffle=True):\n",
        "  dataloader = DataLoader(dataset, batch_size=batch_size, shuffle=shuffle, num_workers=0)\n",
        "  return dataloader\n",
        "\n",
        "TEST_DATA = \"synthetic_dataset_test_2023-03-09\"\n",
        "!unzip -d \"$TEST_DATA\"/ /content/drive/MyDrive/\"$TEST_DATA\".zip # unziping test data\n",
        "\n",
        "test_dataset = TaiChiDataset(log_file=TEST_DATA+'/sample_ids.txt',\n",
        "                              root_dir=TEST_DATA,\n",
        "                              check=True,\n",
        "                              transform=transforms.Compose([ToTensor()]))\n",
        "\n",
        "print(len(test_dataset))\n",
        "test_dataloader = get_dataloader(test_dataset)"
      ],
      "metadata": {
        "id": "M4DnKqe6q1-u"
      },
      "execution_count": null,
      "outputs": []
    },
    {
      "cell_type": "markdown",
      "source": [
        "## Evaluation helper functions"
      ],
      "metadata": {
        "id": "Q0mbHz3WbdPg"
      }
    },
    {
      "cell_type": "code",
      "source": [
        "# load checkpoint\n",
        "def load_checkpoint(filename):\n",
        "  try:\n",
        "    filepath = \"/content/drive/MyDrive/checkpoints/\"+filename\n",
        "    \n",
        "    checkpoint = torch.load(filepath, map_location='cuda:0')\n",
        "    \n",
        "    t_history = checkpoint['train_loss_history']\n",
        "    v_history = checkpoint['val_loss_history']\n",
        "    train_time = int(checkpoint['train_time'])\n",
        "\n",
        "    t_losses = np.array([x[1] for x in t_history])\n",
        "    v_losses = np.array([x[1] for x in v_history])\n",
        "\n",
        "   \n",
        "    t_min_arg = np.argmin(t_losses)\n",
        "    v_min_arg = np.argmin(v_losses)\n",
        "\n",
        "    print('-' * 50)\n",
        "    print(\"Checkpoint data:\")\n",
        "    print(\"Best train loss: {:.3f} at epoch {}/{}\".format(t_history[t_min_arg][1], t_history[t_min_arg][0], len(t_history)))\n",
        "    print(\"Best valid loss: {:.3f} at epoch {}/{}\".format(v_history[v_min_arg][1], v_history[v_min_arg][0], len(t_history)))\n",
        "    print(\"Train time {}h\".format(int(train_time)//3600))\n",
        "    print('-' * 50)\n",
        "\n",
        "    model_weights = checkpoint['model_weights']\n",
        "    best_model_weights = checkpoint['best_weights']\n",
        "    optimizer_state = checkpoint['optimizer']\n",
        "\n",
        "    return model_weights, best_model_weights, t_history, v_history\n",
        "  except Exception as e:\n",
        "    print(\"ERROR could not load checkpoint:\", e)"
      ],
      "metadata": {
        "id": "QfpYS4Amcihn"
      },
      "execution_count": null,
      "outputs": []
    },
    {
      "cell_type": "code",
      "source": [
        "def run_evaluation(test_dataloader, checkpoint_file=None):\n",
        "  device = 'cuda'\n",
        "  running_mse = 0\n",
        "  running_accuracy = 0\n",
        "  running_ssim = 0\n",
        "  running_psnr = 0\n",
        "  excluded_samples = 0\n",
        "  samples = len(test_dataloader.dataset)\n",
        "\n",
        "  # initialise model with checkpoint\n",
        "  # if no checkpoint use baseline (no prediction model)\n",
        "  if checkpoint_file:\n",
        "    model = initialise_model(device, to_learn=['all'])\n",
        "    _, best_model_weights, _, _ = load_checkpoint(checkpoint_file)\n",
        "    model.load_state_dict(best_model_weights)\n",
        "    model.eval()\n",
        "    \n",
        "  else:\n",
        "    model = BaselineModel().to(device)\n",
        "    model.eval()\n",
        "\n",
        "  # run model at each batch and get predictions \n",
        "  for i_batch, sample_batched in enumerate(test_dataloader):\n",
        "    print(\"batch {} / {}\".format(i_batch, len(test_dataloader)))\n",
        "    batch_size = len(sample_batched['id'])\n",
        "    input1 = sample_batched['image0']\n",
        "    input2 = sample_batched['image3']\n",
        "    true_images = sample_batched['image7']\n",
        "    inputs = torch.cat((input1, input2), dim=1)\n",
        "\n",
        "    # Get ground truth coords and vis\n",
        "    coords = sample_batched['coords']\n",
        "    vis = torch.where(sample_batched['vis'] > 0, 1.0, 0.0)\n",
        "\n",
        "    inputs = inputs.to(device).float() # torch.Size([B, 6, H, W])\n",
        "    coords = coords.to(device) # torch.Size([B, 1, 4096, 2])\n",
        "    vis = vis.to(device) # torch.Size([B, 1, 4096])\n",
        "\n",
        "    with torch.no_grad():\n",
        "      # Get model outputs \n",
        "      outputs = model(inputs).to(device) # torch.Size([B, 3, H, W]) same as inputs shape\n",
        "      outputs_coords = outputs[:, :2, :, :]\n",
        "      outputs_vis = outputs[:, 2, :, :]\n",
        "      outputs_vis = torch.where(outputs_vis > 0, 1.0, 0.0)\n",
        "\n",
        "      outputs_coords_grid, outputs_vis_grid = get_predictions(outputs, coords, batch_size)\n",
        "      outputs_coords = torch.permute(outputs_coords, (0, 2, 3, 1))\n",
        "      outputs_vis = outputs_vis.view(batch_size,1,-1)\n",
        "      outputs_coords = outputs_coords.view(batch_size,1,-1,2) # torch.Size([B, 1, 64*64, 2])\n",
        "\n",
        "      # calculate stats\n",
        "      running_mse += compute_mse(coords.squeeze().cpu(), outputs_coords_grid.squeeze().cpu())\n",
        "      running_accuracy += compute_accuracy(vis.squeeze().cpu(), outputs_vis_grid.squeeze().cpu())\n",
        "\n",
        "      (ssim, psnr, ex) = compute_ssim_psnr(input1, true_images, outputs_coords.cpu().numpy(), outputs_vis.cpu().numpy()) #pass full output and fist image, last image, type of reconstruction\n",
        "      running_ssim += ssim\n",
        "      running_psnr += psnr\n",
        "      excluded_samples += ex\n",
        "\n",
        "  psnr = running_psnr/(samples-excluded_samples)\n",
        "  return running_mse/samples, running_accuracy/samples, running_ssim/samples, psnr"
      ],
      "metadata": {
        "id": "qH54C5AMruyU"
      },
      "execution_count": 38,
      "outputs": []
    },
    {
      "cell_type": "code",
      "source": [
        "import math\n",
        "def compute_mse(true_coords, pred_coords):\n",
        "  batch_score = 0\n",
        "  batch_size = true_coords.shape[0]\n",
        "\n",
        "  for i in range(batch_size):\n",
        "    true_coord = true_coords[i]\n",
        "    pred_coord = pred_coords[i]\n",
        "    score = mean_squared_error(true_coord, pred_coord)\n",
        "    batch_score += score\n",
        "\n",
        "  return batch_score\n",
        "\n",
        "def compute_accuracy(true_vis, pred_vis):\n",
        "  # Compute classification accuracy between ground truth and predicted visibility\n",
        "  batch_score = 0\n",
        "  batch_size = true_vis.shape[0]\n",
        "\n",
        "  for i in range(batch_size):\n",
        "    true_v = true_vis[i].numpy().astype(int)\n",
        "    pred_v = pred_vis[i].numpy().astype(int)\n",
        "    score = accuracy_score(true_v, pred_v, normalize=True)\n",
        "    batch_score += score\n",
        "\n",
        "  return batch_score\n",
        "\n",
        "def compute_ssim_psnr(images0, images7, coords, vis, rec_type=[\"NN\",\"full\"]):\n",
        "  batch_score_ssim = 0\n",
        "  batch_score_psnr = 0\n",
        "  batch_size = images0.shape[0]\n",
        "  ex = 0\n",
        "\n",
        "  for i in range(batch_size):\n",
        "    reconstructed_image = frame_reconstruction(images0[i].permute(1, 2, 0).numpy(), coords[i], vis[i], rec_type=rec_type)\n",
        "    true_image = images7[i].permute(1, 2, 0).numpy()\n",
        "\n",
        "    psnr = peak_signal_noise_ratio(true_image, reconstructed_image, data_range=255)\n",
        "    if math.isinf(psnr):\n",
        "      print('infinity!')\n",
        "      ex +=1\n",
        "    else:\n",
        "      batch_score_psnr += psnr\n",
        "    batch_score_ssim += structural_similarity(true_image, reconstructed_image, channel_axis=2)\n",
        "\n",
        "  return batch_score_ssim, batch_score_psnr, ex\n"
      ],
      "metadata": {
        "id": "oHqC8MOnsd9x"
      },
      "execution_count": 34,
      "outputs": []
    },
    {
      "cell_type": "markdown",
      "source": [
        "### Frame reconstructions"
      ],
      "metadata": {
        "id": "eCo4dDJ0boi1"
      }
    },
    {
      "cell_type": "code",
      "source": [
        "def frame_reconstruction(img0, coords, vis, rec_type=[\"NN\",\"full\"]):\n",
        "  if rec_type[1]=='full':\n",
        "    h = np.arange(0, 360) # Take linspace of H of the image\n",
        "    w = np.arange(0, 640) # Take linspace of W of the image\n",
        "    w, h = np.meshgrid(w, h)\n",
        "    original_x = h.flatten()\n",
        "    original_y = w.flatten()\n",
        "  else:\n",
        "    original_points = get_grid(4096, 1, 360, 640)\n",
        "    original_points = original_points.view(1, 1, -1, 2).squeeze().flatten().cpu().numpy()\n",
        "    original_x = original_points[1::2]\n",
        "    original_y = original_points[::2]\n",
        "    # sample coords and vis from the grid!!!!\n",
        "\n",
        "  vis = vis.squeeze() > 0\n",
        "  original_x = original_x[vis]\n",
        "  original_y = original_y[vis]\n",
        "\n",
        "  coords = coords.squeeze()\n",
        "  \n",
        "  coords_x = coords[:, 1]\n",
        "  coords_y = coords[:, 0]\n",
        "\n",
        "  coords_x = coords_x[vis]\n",
        "  coords_y = coords_y[vis]\n",
        "\n",
        "\n",
        "  if rec_type[1]=='full':\n",
        "    coords_x = original_x+coords_x\n",
        "    coords_y = original_y+coords_y\n",
        "\n",
        "  if rec_type[0]==\"NN\":\n",
        "    reconstructed = interpolate_NN(img0, original_x, original_y, coords_x, coords_y)\n",
        "  elif rec_type[0]==\"CT\":\n",
        "    reconstructed = interpolate_NN(img0, original_x, original_y, coords_x, coords_y) #redo\n",
        "  elif rec_type[0]==\"CT+NN\":\n",
        "    reconstructed = interpolate_NN(img0, original_x, original_y, coords_x, coords_y) #redo\n",
        "\n",
        "  return reconstructed"
      ],
      "metadata": {
        "id": "RbriKjeq05bk"
      },
      "execution_count": 7,
      "outputs": []
    },
    {
      "cell_type": "code",
      "source": [
        "def interpolate_NN(img0, original_x, original_y, coords_x, coords_y):\n",
        "  z = img0\n",
        "  z_R = []\n",
        "  z_G = []\n",
        "  z_B = []\n",
        "\n",
        "  for point in list(zip(original_x, original_y)):\n",
        "    x, y = point\n",
        "    x = int(x)\n",
        "    y = int(y)\n",
        "    z_R.append(img0[x, y, 0]) #(360,640,3)\n",
        "    z_G.append(img0[x, y, 1])\n",
        "    z_B.append(img0[x, y, 2])\n",
        "  \n",
        "\n",
        "  X = np.arange(0, 360) # Take linspace of H of the image\n",
        "  Y = np.arange(0, 640) # Take linspace of W of the image\n",
        "  X, Y = np.meshgrid(X, Y)  # 2D grid for interpolation\n",
        "\n",
        "  points = list(zip(coords_x, coords_y))\n",
        "\n",
        "  interp_R_NN = NearestNDInterpolator(points, z_R) # predicted point coord -> R-intensity\n",
        "  interp_G_NN = NearestNDInterpolator(points, z_G) # predicted point coord -> G-intensity\n",
        "  interp_B_NN = NearestNDInterpolator(points, z_B) # predicted point coord -> B-intensity\n",
        "\n",
        "  Z_R_NN = interp_R_NN(X, Y) \n",
        "  Z_G_NN = interp_G_NN(X, Y)\n",
        "  Z_B_NN = interp_B_NN(X, Y)\n",
        "\n",
        "  concateneted_NN = np.stack([Z_R_NN, Z_G_NN, Z_B_NN])\n",
        "  img_NN = concateneted_NN\n",
        "  reconstruction_NN = img_NN.transpose(2, 1, 0)\n",
        "\n",
        "  return reconstruction_NN\n",
        "\n"
      ],
      "metadata": {
        "id": "E26TpPDz3joG"
      },
      "execution_count": 8,
      "outputs": []
    },
    {
      "cell_type": "code",
      "source": [
        "def interpolate(img0, coords, vis, full=False):\n",
        "  # Make grid\n",
        "  if full:\n",
        "    h = np.arange(0, 360) # Take linspace of H of the image\n",
        "    w = np.arange(0, 640) # Take linspace of W of the image\n",
        "    w, h = np.meshgrid(w, h)\n",
        "    original_x = h.flatten()\n",
        "    original_y = w.flatten()\n",
        "  else:\n",
        "    original_points = get_grid(4096, 1, 360, 640)\n",
        "    original_points = original_points.view(1, 1, -1, 2).squeeze().flatten().cpu().numpy()\n",
        "    original_x = original_points[1::2]\n",
        "    original_y = original_points[::2]\n",
        "\n",
        "    # sample coords and vis from the grid!!\n",
        "\n",
        "  original_x = original_x[vis]\n",
        "  original_y = original_y[vis]\n",
        "\n",
        "  coords = coords.squeeze()\n",
        "  \n",
        "  coords_x = coords[:, 1]\n",
        "  coords_y = coords[:, 0]\n",
        "\n",
        "  coords_x = coords_x[vis]\n",
        "  coords_y = coords_y[vis]\n",
        "\n",
        "\n",
        "  if full:\n",
        "    coords_x = original_x+coords_x\n",
        "    coords_y = original_y+coords_y\n",
        "\n",
        "  # Take RGB values of tracked points\n",
        "  # from the input image take RGB values of original grid points\n",
        "  z = img0\n",
        "  z_R = []\n",
        "  z_G = []\n",
        "  z_B = []\n",
        "\n",
        "  for point in list(zip(original_x, original_y)):\n",
        "    x, y = point\n",
        "    x = int(x)\n",
        "    y = int(y)\n",
        "    z_R.append(img0[x, y, 0]) #(360,640,3)\n",
        "    z_G.append(img0[x, y, 1])\n",
        "    z_B.append(img0[x, y, 2])\n",
        "  \n",
        "\n",
        "  X = np.arange(0, 360) # Take linspace of H of the image\n",
        "  Y = np.arange(0, 640) # Take linspace of W of the image\n",
        "  X, Y = np.meshgrid(X, Y)  # 2D grid for interpolation\n",
        "\n",
        "  points = list(zip(coords_x, coords_y))\n",
        "\n",
        "\n",
        "  interp_R_NN = NearestNDInterpolator(points, z_R) # predicted point coord -> R-intensity\n",
        "  interp_G_NN = NearestNDInterpolator(points, z_G) # predicted point coord -> G-intensity\n",
        "  interp_B_NN = NearestNDInterpolator(points, z_B) # predicted point coord -> B-intensity\n",
        "\n",
        "  interp_R = CloughTocher2DInterpolator(points, z_R) # predicted point coord -> R-intensity\n",
        "  interp_G = CloughTocher2DInterpolator(points, z_G) # predicted point coord -> G-intensity\n",
        "  interp_B = CloughTocher2DInterpolator(points, z_B) # predicted point coord -> B-intensity\n",
        "\n",
        "  # interpolate the whole 2d grid\n",
        "  Z_R = interp_R(X, Y) \n",
        "  Z_G = interp_G(X, Y)\n",
        "  Z_B = interp_B(X, Y)\n",
        "\n",
        "  Z_R_NN = interp_R_NN(X, Y) \n",
        "  Z_G_NN = interp_G_NN(X, Y)\n",
        "  Z_B_NN = interp_B_NN(X, Y)\n",
        "\n",
        "  concateneted = np.stack([Z_R, Z_G, Z_B])\n",
        "  concateneted_NN = np.stack([Z_R_NN, Z_G_NN, Z_B_NN])\n",
        "\n",
        "  img = concateneted\n",
        "  img_NN = concateneted_NN\n",
        "  reconstruction_CT = concateneted.transpose(2,1,0)\n",
        "\n",
        "  # Replace NaN values in img with values in img_NN\n",
        "  replace_nans = np.where(np.isnan(img), img_NN, img)\n",
        "  reconstruction = replace_nans\n",
        "  reconstruction = np.clip(replace_nans, 0, 1)\n",
        "\n",
        "  reconstruction = reconstruction.transpose(2, 1, 0)\n",
        "  reconstruction_NN = img_NN.transpose(2, 1, 0)\n",
        "  return reconstruction, reconstruction_NN, reconstruction_CT"
      ],
      "metadata": {
        "id": "NviLMXJk2MMt"
      },
      "execution_count": 9,
      "outputs": []
    },
    {
      "cell_type": "markdown",
      "source": [
        "## Baseline evaluation"
      ],
      "metadata": {
        "id": "1IEtgfFFqCY6"
      }
    },
    {
      "cell_type": "code",
      "source": [
        "# create baseline model\n",
        "# returns no prediction\n",
        "class BaselineModel(nn.Module):\n",
        "  def __init__(self):\n",
        "      super().__init__()\n",
        "      \n",
        "  def forward(self, x):\n",
        "      output_shape = x[:, :3, :, :].size()\n",
        "      predicted_output = torch.zeros(output_shape)\n",
        "      predicted_vis = torch.ones((output_shape[0], output_shape[2], output_shape[3]))\n",
        "      predicted_output[:, 2 ,: , :] = predicted_vis\n",
        "      return predicted_output"
      ],
      "metadata": {
        "id": "UgymB5IIqFxw"
      },
      "execution_count": 4,
      "outputs": []
    },
    {
      "cell_type": "code",
      "source": [
        "baseline_mse, baseline_acc, baseline_ssim, baseline_psnr = run_evaluation(test_dataloader)"
      ],
      "metadata": {
        "colab": {
          "base_uri": "https://localhost:8080/"
        },
        "id": "YBFY6rberV5f",
        "outputId": "74072f83-8dc3-4968-ca53-94f3bac7e881"
      },
      "execution_count": 39,
      "outputs": [
        {
          "metadata": {
            "tags": null
          },
          "name": "stdout",
          "output_type": "stream",
          "text": [
            "batch 0 / 54\n",
            "batch 1 / 54\n",
            "batch 2 / 54\n"
          ]
        },
        {
          "metadata": {
            "tags": null
          },
          "name": "stderr",
          "output_type": "stream",
          "text": [
            "/usr/local/lib/python3.9/dist-packages/skimage/metrics/simple_metrics.py:163: RuntimeWarning: divide by zero encountered in double_scalars\n",
            "  return 10 * np.log10((data_range ** 2) / err)\n"
          ]
        },
        {
          "metadata": {
            "tags": null
          },
          "name": "stdout",
          "output_type": "stream",
          "text": [
            "infinity!\n",
            "batch 3 / 54\n",
            "batch 4 / 54\n"
          ]
        },
        {
          "metadata": {
            "tags": null
          },
          "name": "stderr",
          "output_type": "stream",
          "text": [
            "/usr/local/lib/python3.9/dist-packages/skimage/metrics/simple_metrics.py:163: RuntimeWarning: divide by zero encountered in double_scalars\n",
            "  return 10 * np.log10((data_range ** 2) / err)\n"
          ]
        },
        {
          "metadata": {
            "tags": null
          },
          "name": "stdout",
          "output_type": "stream",
          "text": [
            "infinity!\n",
            "infinity!\n",
            "batch 5 / 54\n"
          ]
        },
        {
          "metadata": {
            "tags": null
          },
          "name": "stderr",
          "output_type": "stream",
          "text": [
            "/usr/local/lib/python3.9/dist-packages/skimage/metrics/simple_metrics.py:163: RuntimeWarning: divide by zero encountered in double_scalars\n",
            "  return 10 * np.log10((data_range ** 2) / err)\n"
          ]
        },
        {
          "metadata": {
            "tags": null
          },
          "name": "stdout",
          "output_type": "stream",
          "text": [
            "infinity!\n",
            "batch 6 / 54\n",
            "batch 7 / 54\n",
            "batch 8 / 54\n",
            "batch 9 / 54\n",
            "batch 10 / 54\n",
            "batch 11 / 54\n",
            "batch 12 / 54\n",
            "batch 13 / 54\n"
          ]
        },
        {
          "metadata": {
            "tags": null
          },
          "name": "stderr",
          "output_type": "stream",
          "text": [
            "/usr/local/lib/python3.9/dist-packages/skimage/metrics/simple_metrics.py:163: RuntimeWarning: divide by zero encountered in double_scalars\n",
            "  return 10 * np.log10((data_range ** 2) / err)\n"
          ]
        },
        {
          "metadata": {
            "tags": null
          },
          "name": "stdout",
          "output_type": "stream",
          "text": [
            "infinity!\n",
            "infinity!\n",
            "batch 14 / 54\n"
          ]
        },
        {
          "metadata": {
            "tags": null
          },
          "name": "stderr",
          "output_type": "stream",
          "text": [
            "/usr/local/lib/python3.9/dist-packages/skimage/metrics/simple_metrics.py:163: RuntimeWarning: divide by zero encountered in double_scalars\n",
            "  return 10 * np.log10((data_range ** 2) / err)\n"
          ]
        },
        {
          "metadata": {
            "tags": null
          },
          "name": "stdout",
          "output_type": "stream",
          "text": [
            "infinity!\n",
            "batch 15 / 54\n",
            "batch 16 / 54\n",
            "batch 17 / 54\n"
          ]
        },
        {
          "metadata": {
            "tags": null
          },
          "name": "stderr",
          "output_type": "stream",
          "text": [
            "/usr/local/lib/python3.9/dist-packages/skimage/metrics/simple_metrics.py:163: RuntimeWarning: divide by zero encountered in double_scalars\n",
            "  return 10 * np.log10((data_range ** 2) / err)\n"
          ]
        },
        {
          "metadata": {
            "tags": null
          },
          "name": "stdout",
          "output_type": "stream",
          "text": [
            "infinity!\n",
            "batch 18 / 54\n"
          ]
        },
        {
          "metadata": {
            "tags": null
          },
          "name": "stderr",
          "output_type": "stream",
          "text": [
            "/usr/local/lib/python3.9/dist-packages/skimage/metrics/simple_metrics.py:163: RuntimeWarning: divide by zero encountered in double_scalars\n",
            "  return 10 * np.log10((data_range ** 2) / err)\n"
          ]
        },
        {
          "metadata": {
            "tags": null
          },
          "name": "stdout",
          "output_type": "stream",
          "text": [
            "infinity!\n",
            "infinity!\n",
            "batch 19 / 54\n",
            "batch 20 / 54\n"
          ]
        },
        {
          "metadata": {
            "tags": null
          },
          "name": "stderr",
          "output_type": "stream",
          "text": [
            "/usr/local/lib/python3.9/dist-packages/skimage/metrics/simple_metrics.py:163: RuntimeWarning: divide by zero encountered in double_scalars\n",
            "  return 10 * np.log10((data_range ** 2) / err)\n"
          ]
        },
        {
          "metadata": {
            "tags": null
          },
          "name": "stdout",
          "output_type": "stream",
          "text": [
            "infinity!\n",
            "batch 21 / 54\n"
          ]
        },
        {
          "metadata": {
            "tags": null
          },
          "name": "stderr",
          "output_type": "stream",
          "text": [
            "/usr/local/lib/python3.9/dist-packages/skimage/metrics/simple_metrics.py:163: RuntimeWarning: divide by zero encountered in double_scalars\n",
            "  return 10 * np.log10((data_range ** 2) / err)\n"
          ]
        },
        {
          "metadata": {
            "tags": null
          },
          "name": "stdout",
          "output_type": "stream",
          "text": [
            "infinity!\n",
            "batch 22 / 54\n"
          ]
        },
        {
          "metadata": {
            "tags": null
          },
          "name": "stderr",
          "output_type": "stream",
          "text": [
            "/usr/local/lib/python3.9/dist-packages/skimage/metrics/simple_metrics.py:163: RuntimeWarning: divide by zero encountered in double_scalars\n",
            "  return 10 * np.log10((data_range ** 2) / err)\n"
          ]
        },
        {
          "metadata": {
            "tags": null
          },
          "name": "stdout",
          "output_type": "stream",
          "text": [
            "infinity!\n",
            "batch 23 / 54\n",
            "batch 24 / 54\n"
          ]
        },
        {
          "metadata": {
            "tags": null
          },
          "name": "stderr",
          "output_type": "stream",
          "text": [
            "/usr/local/lib/python3.9/dist-packages/skimage/metrics/simple_metrics.py:163: RuntimeWarning: divide by zero encountered in double_scalars\n",
            "  return 10 * np.log10((data_range ** 2) / err)\n"
          ]
        },
        {
          "metadata": {
            "tags": null
          },
          "name": "stdout",
          "output_type": "stream",
          "text": [
            "infinity!\n",
            "infinity!\n",
            "batch 25 / 54\n"
          ]
        },
        {
          "metadata": {
            "tags": null
          },
          "name": "stderr",
          "output_type": "stream",
          "text": [
            "/usr/local/lib/python3.9/dist-packages/skimage/metrics/simple_metrics.py:163: RuntimeWarning: divide by zero encountered in double_scalars\n",
            "  return 10 * np.log10((data_range ** 2) / err)\n"
          ]
        },
        {
          "metadata": {
            "tags": null
          },
          "name": "stdout",
          "output_type": "stream",
          "text": [
            "infinity!\n",
            "batch 26 / 54\n"
          ]
        },
        {
          "metadata": {
            "tags": null
          },
          "name": "stderr",
          "output_type": "stream",
          "text": [
            "/usr/local/lib/python3.9/dist-packages/skimage/metrics/simple_metrics.py:163: RuntimeWarning: divide by zero encountered in double_scalars\n",
            "  return 10 * np.log10((data_range ** 2) / err)\n"
          ]
        },
        {
          "metadata": {
            "tags": null
          },
          "name": "stdout",
          "output_type": "stream",
          "text": [
            "infinity!\n",
            "batch 27 / 54\n"
          ]
        },
        {
          "metadata": {
            "tags": null
          },
          "name": "stderr",
          "output_type": "stream",
          "text": [
            "/usr/local/lib/python3.9/dist-packages/skimage/metrics/simple_metrics.py:163: RuntimeWarning: divide by zero encountered in double_scalars\n",
            "  return 10 * np.log10((data_range ** 2) / err)\n"
          ]
        },
        {
          "metadata": {
            "tags": null
          },
          "name": "stdout",
          "output_type": "stream",
          "text": [
            "infinity!\n",
            "batch 28 / 54\n",
            "batch 29 / 54\n"
          ]
        },
        {
          "metadata": {
            "tags": null
          },
          "name": "stderr",
          "output_type": "stream",
          "text": [
            "/usr/local/lib/python3.9/dist-packages/skimage/metrics/simple_metrics.py:163: RuntimeWarning: divide by zero encountered in double_scalars\n",
            "  return 10 * np.log10((data_range ** 2) / err)\n"
          ]
        },
        {
          "metadata": {
            "tags": null
          },
          "name": "stdout",
          "output_type": "stream",
          "text": [
            "infinity!\n",
            "batch 30 / 54\n",
            "batch 31 / 54\n"
          ]
        },
        {
          "metadata": {
            "tags": null
          },
          "name": "stderr",
          "output_type": "stream",
          "text": [
            "/usr/local/lib/python3.9/dist-packages/skimage/metrics/simple_metrics.py:163: RuntimeWarning: divide by zero encountered in double_scalars\n",
            "  return 10 * np.log10((data_range ** 2) / err)\n"
          ]
        },
        {
          "output_type": "stream",
          "name": "stdout",
          "text": [
            "infinity!\n",
            "batch 32 / 54\n",
            "batch 33 / 54\n",
            "batch 34 / 54\n"
          ]
        },
        {
          "output_type": "stream",
          "name": "stderr",
          "text": [
            "/usr/local/lib/python3.9/dist-packages/skimage/metrics/simple_metrics.py:163: RuntimeWarning: divide by zero encountered in double_scalars\n",
            "  return 10 * np.log10((data_range ** 2) / err)\n"
          ]
        },
        {
          "output_type": "stream",
          "name": "stdout",
          "text": [
            "infinity!\n",
            "batch 35 / 54\n"
          ]
        },
        {
          "output_type": "stream",
          "name": "stderr",
          "text": [
            "/usr/local/lib/python3.9/dist-packages/skimage/metrics/simple_metrics.py:163: RuntimeWarning: divide by zero encountered in double_scalars\n",
            "  return 10 * np.log10((data_range ** 2) / err)\n"
          ]
        },
        {
          "output_type": "stream",
          "name": "stdout",
          "text": [
            "infinity!\n",
            "batch 36 / 54\n"
          ]
        },
        {
          "output_type": "stream",
          "name": "stderr",
          "text": [
            "/usr/local/lib/python3.9/dist-packages/skimage/metrics/simple_metrics.py:163: RuntimeWarning: divide by zero encountered in double_scalars\n",
            "  return 10 * np.log10((data_range ** 2) / err)\n"
          ]
        },
        {
          "output_type": "stream",
          "name": "stdout",
          "text": [
            "infinity!\n",
            "batch 37 / 54\n",
            "batch 38 / 54\n"
          ]
        },
        {
          "output_type": "stream",
          "name": "stderr",
          "text": [
            "/usr/local/lib/python3.9/dist-packages/skimage/metrics/simple_metrics.py:163: RuntimeWarning: divide by zero encountered in double_scalars\n",
            "  return 10 * np.log10((data_range ** 2) / err)\n"
          ]
        },
        {
          "output_type": "stream",
          "name": "stdout",
          "text": [
            "infinity!\n",
            "infinity!\n",
            "batch 39 / 54\n"
          ]
        },
        {
          "output_type": "stream",
          "name": "stderr",
          "text": [
            "/usr/local/lib/python3.9/dist-packages/skimage/metrics/simple_metrics.py:163: RuntimeWarning: divide by zero encountered in double_scalars\n",
            "  return 10 * np.log10((data_range ** 2) / err)\n"
          ]
        },
        {
          "output_type": "stream",
          "name": "stdout",
          "text": [
            "infinity!\n",
            "batch 40 / 54\n"
          ]
        },
        {
          "output_type": "stream",
          "name": "stderr",
          "text": [
            "/usr/local/lib/python3.9/dist-packages/skimage/metrics/simple_metrics.py:163: RuntimeWarning: divide by zero encountered in double_scalars\n",
            "  return 10 * np.log10((data_range ** 2) / err)\n"
          ]
        },
        {
          "output_type": "stream",
          "name": "stdout",
          "text": [
            "infinity!\n",
            "infinity!\n",
            "batch 41 / 54\n"
          ]
        },
        {
          "output_type": "stream",
          "name": "stderr",
          "text": [
            "/usr/local/lib/python3.9/dist-packages/skimage/metrics/simple_metrics.py:163: RuntimeWarning: divide by zero encountered in double_scalars\n",
            "  return 10 * np.log10((data_range ** 2) / err)\n"
          ]
        },
        {
          "output_type": "stream",
          "name": "stdout",
          "text": [
            "infinity!\n",
            "infinity!\n",
            "batch 42 / 54\n",
            "batch 43 / 54\n"
          ]
        },
        {
          "output_type": "stream",
          "name": "stderr",
          "text": [
            "/usr/local/lib/python3.9/dist-packages/skimage/metrics/simple_metrics.py:163: RuntimeWarning: divide by zero encountered in double_scalars\n",
            "  return 10 * np.log10((data_range ** 2) / err)\n"
          ]
        },
        {
          "output_type": "stream",
          "name": "stdout",
          "text": [
            "infinity!\n",
            "batch 44 / 54\n"
          ]
        },
        {
          "output_type": "stream",
          "name": "stderr",
          "text": [
            "/usr/local/lib/python3.9/dist-packages/skimage/metrics/simple_metrics.py:163: RuntimeWarning: divide by zero encountered in double_scalars\n",
            "  return 10 * np.log10((data_range ** 2) / err)\n"
          ]
        },
        {
          "output_type": "stream",
          "name": "stdout",
          "text": [
            "infinity!\n",
            "batch 45 / 54\n"
          ]
        },
        {
          "output_type": "stream",
          "name": "stderr",
          "text": [
            "/usr/local/lib/python3.9/dist-packages/skimage/metrics/simple_metrics.py:163: RuntimeWarning: divide by zero encountered in double_scalars\n",
            "  return 10 * np.log10((data_range ** 2) / err)\n"
          ]
        },
        {
          "output_type": "stream",
          "name": "stdout",
          "text": [
            "infinity!\n",
            "infinity!\n",
            "batch 46 / 54\n",
            "batch 47 / 54\n"
          ]
        },
        {
          "output_type": "stream",
          "name": "stderr",
          "text": [
            "/usr/local/lib/python3.9/dist-packages/skimage/metrics/simple_metrics.py:163: RuntimeWarning: divide by zero encountered in double_scalars\n",
            "  return 10 * np.log10((data_range ** 2) / err)\n"
          ]
        },
        {
          "output_type": "stream",
          "name": "stdout",
          "text": [
            "infinity!\n",
            "batch 48 / 54\n"
          ]
        },
        {
          "output_type": "stream",
          "name": "stderr",
          "text": [
            "/usr/local/lib/python3.9/dist-packages/skimage/metrics/simple_metrics.py:163: RuntimeWarning: divide by zero encountered in double_scalars\n",
            "  return 10 * np.log10((data_range ** 2) / err)\n"
          ]
        },
        {
          "output_type": "stream",
          "name": "stdout",
          "text": [
            "infinity!\n",
            "batch 49 / 54\n",
            "batch 50 / 54\n"
          ]
        },
        {
          "output_type": "stream",
          "name": "stderr",
          "text": [
            "/usr/local/lib/python3.9/dist-packages/skimage/metrics/simple_metrics.py:163: RuntimeWarning: divide by zero encountered in double_scalars\n",
            "  return 10 * np.log10((data_range ** 2) / err)\n"
          ]
        },
        {
          "output_type": "stream",
          "name": "stdout",
          "text": [
            "infinity!\n",
            "batch 51 / 54\n"
          ]
        },
        {
          "output_type": "stream",
          "name": "stderr",
          "text": [
            "/usr/local/lib/python3.9/dist-packages/skimage/metrics/simple_metrics.py:163: RuntimeWarning: divide by zero encountered in double_scalars\n",
            "  return 10 * np.log10((data_range ** 2) / err)\n"
          ]
        },
        {
          "output_type": "stream",
          "name": "stdout",
          "text": [
            "infinity!\n",
            "infinity!\n",
            "batch 52 / 54\n",
            "batch 53 / 54\n"
          ]
        },
        {
          "output_type": "stream",
          "name": "stderr",
          "text": [
            "/usr/local/lib/python3.9/dist-packages/skimage/metrics/simple_metrics.py:163: RuntimeWarning: divide by zero encountered in double_scalars\n",
            "  return 10 * np.log10((data_range ** 2) / err)\n"
          ]
        },
        {
          "output_type": "stream",
          "name": "stdout",
          "text": [
            "infinity!\n",
            "40\n"
          ]
        }
      ]
    },
    {
      "cell_type": "markdown",
      "source": [
        "## Model without shifting"
      ],
      "metadata": {
        "id": "xSO6g7DDb_R6"
      }
    },
    {
      "cell_type": "code",
      "source": [
        "# load model and evaluate\n",
        "m1_mse, m1_acc, m1_ssim, m1_psnr = run_evaluation(test_dataloader, checkpoint=\"\")"
      ],
      "metadata": {
        "id": "kjGNN6h7b-gv"
      },
      "execution_count": null,
      "outputs": []
    },
    {
      "cell_type": "markdown",
      "source": [
        "## Model without shifting"
      ],
      "metadata": {
        "id": "yXUM49AqcJ-m"
      }
    },
    {
      "cell_type": "code",
      "source": [
        "# load model and evaluate"
      ],
      "metadata": {
        "id": "7ePX9Q_2cM1f"
      },
      "execution_count": null,
      "outputs": []
    },
    {
      "cell_type": "markdown",
      "source": [
        "## Results"
      ],
      "metadata": {
        "id": "fVK-npOFrAZL"
      }
    },
    {
      "cell_type": "code",
      "source": [
        "from tabulate import tabulate\n",
        "\n",
        "results = [[\"Model\", \"MSE\", \"Accuracy\", \"SSIM\",\"PSNR\"],\n",
        "           [\"Baseline\", baseline_mse, baseline_acc, baseline_ssim, baseline_psnr]]\n",
        "\n",
        "print(tabulate(results, headers='firstrow', tablefmt='fancy_grid'))"
      ],
      "metadata": {
        "colab": {
          "base_uri": "https://localhost:8080/"
        },
        "id": "uTYh8v-uq_w4",
        "outputId": "ff726691-6068-4c80-bf36-7c69050a8c98"
      },
      "execution_count": 40,
      "outputs": [
        {
          "output_type": "stream",
          "name": "stdout",
          "text": [
            "╒══════════╤═════════╤════════════╤══════════╤═════════╕\n",
            "│ Model    │     MSE │   Accuracy │     SSIM │    PSNR │\n",
            "╞══════════╪═════════╪════════════╪══════════╪═════════╡\n",
            "│ Baseline │ 1254.36 │   0.928639 │ 0.936483 │ 72.3761 │\n",
            "╘══════════╧═════════╧════════════╧══════════╧═════════╛\n"
          ]
        }
      ]
    }
  ],
  "metadata": {
    "accelerator": "GPU",
    "colab": {
      "provenance": [],
      "collapsed_sections": [
        "-77Gz3FYqZSA"
      ],
      "authorship_tag": "ABX9TyN8+nstxoKOVJwD6gF4Rq+M"
    },
    "gpuClass": "standard",
    "kernelspec": {
      "display_name": "Python 3",
      "name": "python3"
    },
    "language_info": {
      "name": "python"
    }
  },
  "nbformat": 4,
  "nbformat_minor": 0
}