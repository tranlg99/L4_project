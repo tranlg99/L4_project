{
  "cells": [
    {
      "cell_type": "markdown",
      "source": [
        "##Imports"
      ],
      "metadata": {
        "id": "-77Gz3FYqZSA"
      }
    },
    {
      "cell_type": "code",
      "source": [
        "from google.colab import drive\n",
        "drive.mount('/content/drive')\n",
        "\n",
        "from skimage.metrics import structural_similarity, peak_signal_noise_ratio\n",
        "from skimage import metrics\n",
        "from sklearn.metrics import mean_squared_error, accuracy_score\n",
        "import cv2\n",
        "import numpy as np\n",
        "import torch\n",
        "import torch.nn as nn\n",
        "import torchvision.transforms as transforms\n",
        "from scipy.interpolate import NearestNDInterpolator, CloughTocher2DInterpolator\n",
        "import matplotlib.pyplot as plt\n",
        "from torch.utils.data import Dataset, DataLoader\n",
        "import sys\n",
        "from tabulate import tabulate\n",
        "sys.path.append('/content/drive/My Drive/drive_folder')\n",
        "from custom_dataset_loader import TaiChiDataset, ToTensor\n",
        "from helper_functions import set_parameter_requires_grad, meshgrid2d, get_grid, plot_learning_curve, split_dataset, initialise_model, get_predictions"
      ],
      "metadata": {
        "colab": {
          "base_uri": "https://localhost:8080/"
        },
        "id": "GGDacTayqbp0",
        "outputId": "3f7a9c9e-bf74-436c-e0ed-1e22d831b675"
      },
      "execution_count": 6,
      "outputs": [
        {
          "output_type": "stream",
          "name": "stdout",
          "text": [
            "Drive already mounted at /content/drive; to attempt to forcibly remount, call drive.mount(\"/content/drive\", force_remount=True).\n"
          ]
        }
      ]
    },
    {
      "cell_type": "markdown",
      "source": [
        "## Load test dataset"
      ],
      "metadata": {
        "id": "wHGV7hJWq2l5"
      }
    },
    {
      "cell_type": "code",
      "source": [
        "def get_dataloader(dataset, batch_size=16, shuffle=True):\n",
        "  dataloader = DataLoader(dataset, batch_size=batch_size, shuffle=shuffle, num_workers=0)\n",
        "  return dataloader\n",
        "\n",
        "TEST_DATA = \"synthetic_dataset_test_2023-03-09\"\n",
        "!unzip -d \"$TEST_DATA\"/ /content/drive/MyDrive/synthetic_dataset/\"$TEST_DATA\".zip # unziping test data\n",
        "\n",
        "test_dataset = TaiChiDataset(log_file=TEST_DATA+'/sample_ids.txt',\n",
        "                              root_dir=TEST_DATA,\n",
        "                              check=True,\n",
        "                              transform=transforms.Compose([ToTensor()]))\n",
        "\n",
        "print(len(test_dataset))\n",
        "test_dataloader = get_dataloader(test_dataset, batch_size=32, shuffle=False)"
      ],
      "metadata": {
        "id": "M4DnKqe6q1-u",
        "colab": {
          "base_uri": "https://localhost:8080/"
        },
        "outputId": "62711172-d272-437b-a98c-e6695a18623f"
      },
      "execution_count": 7,
      "outputs": [
        {
          "output_type": "stream",
          "name": "stdout",
          "text": [
            "Archive:  /content/drive/MyDrive/synthetic_dataset/synthetic_dataset_test_2023-03-09.zip\n",
            "replace synthetic_dataset_test_2023-03-09/coords/2165_2.npy? [y]es, [n]o, [A]ll, [N]one, [r]ename: \n",
            "error:  invalid response [{ENTER}]\n",
            "replace synthetic_dataset_test_2023-03-09/coords/2165_2.npy? [y]es, [n]o, [A]ll, [N]one, [r]ename: N\n",
            "857\n"
          ]
        }
      ]
    },
    {
      "cell_type": "markdown",
      "source": [
        "## Evaluation helper functions"
      ],
      "metadata": {
        "id": "Q0mbHz3WbdPg"
      }
    },
    {
      "cell_type": "code",
      "source": [
        "# load checkpoint\n",
        "def load_checkpoint(filename):\n",
        "  try:\n",
        "    filepath = \"/content/drive/MyDrive/checkpoints/\"+filename\n",
        "    \n",
        "    checkpoint = torch.load(filepath, map_location='cuda:0')\n",
        "    \n",
        "    t_history = checkpoint['train_loss_history']\n",
        "    v_history = checkpoint['val_loss_history']\n",
        "    train_time = int(checkpoint['train_time'])\n",
        "\n",
        "    t_losses = np.array([x[1] for x in t_history])\n",
        "    v_losses = np.array([x[1] for x in v_history])\n",
        "\n",
        "   \n",
        "    t_min_arg = np.argmin(t_losses)\n",
        "    v_min_arg = np.argmin(v_losses)\n",
        "\n",
        "    print('-' * 50)\n",
        "    print(\"Checkpoint data:\")\n",
        "    print(\"Best train loss: {:.3f} at epoch {}/{}\".format(t_history[t_min_arg][1], t_history[t_min_arg][0], len(t_history)))\n",
        "    print(\"Best valid loss: {:.3f} at epoch {}/{}\".format(v_history[v_min_arg][1], v_history[v_min_arg][0], len(t_history)))\n",
        "    print(\"Train time {}h\".format(int(train_time)//3600))\n",
        "    print('-' * 50)\n",
        "\n",
        "    model_weights = checkpoint['model_weights']\n",
        "    best_model_weights = checkpoint['best_weights']\n",
        "    optimizer_state = checkpoint['optimizer']\n",
        "\n",
        "    return model_weights, best_model_weights, t_history, v_history\n",
        "  except Exception as e:\n",
        "    print(\"ERROR could not load checkpoint:\", e)"
      ],
      "metadata": {
        "id": "QfpYS4Amcihn"
      },
      "execution_count": 8,
      "outputs": []
    },
    {
      "cell_type": "code",
      "source": [
        "def run_evaluation(test_dataloader, checkpoint_file=None):\n",
        "  device = 'cuda'\n",
        "  running_mse = []\n",
        "  running_accuracy = []\n",
        "\n",
        "  running_ssim = []\n",
        "  running_psnr = []\n",
        "  running_ssim_CT = []\n",
        "  running_psnr_CT = []\n",
        "\n",
        "  running_ssim_GRID = []\n",
        "  running_psnr_GRID = []\n",
        "  running_ssim_GRID_CT = []\n",
        "  running_psnr_GRID_CT = []\n",
        "\n",
        "  samples = 0\n",
        "\n",
        "  # initialise model with checkpoint\n",
        "  # if no checkpoint use baseline (no prediction model)\n",
        "  if checkpoint_file:\n",
        "    model = initialise_model(device, to_learn=['all'])\n",
        "    _, best_model_weights, _, _ = load_checkpoint(checkpoint_file)\n",
        "    model.load_state_dict(best_model_weights)\n",
        "    model.eval()\n",
        "    \n",
        "  else:\n",
        "    model = BaselineModel().to(device)\n",
        "    model.eval()\n",
        "\n",
        "  # run model at each batch and get predictions \n",
        "  for i_batch, sample_batched in enumerate(test_dataloader):\n",
        "    # if i_batch > 1:\n",
        "    #   continue\n",
        "    print(\"batch {} / {}\".format(i_batch, len(test_dataloader)))\n",
        "    batch_size = len(sample_batched['id'])\n",
        "    samples += batch_size\n",
        "    input1 = sample_batched['image0']\n",
        "    input2 = sample_batched['image3']\n",
        "    true_images = sample_batched['image7']\n",
        "    inputs = torch.cat((input1, input2), dim=1)\n",
        "\n",
        "    # Get ground truth coords and vis\n",
        "    coords = sample_batched['coords']\n",
        "    vis = torch.where(sample_batched['vis'] > 0, 1.0, 0.0)\n",
        "\n",
        "    inputs = inputs.to(device).float() # torch.Size([B, 6, H, W])\n",
        "    coords = coords.to(device) # torch.Size([B, 1, 4096, 2])\n",
        "    vis = vis.to(device) # torch.Size([B, 1, 4096])\n",
        "\n",
        "    with torch.no_grad():\n",
        "      # Get model outputs \n",
        "      outputs = model(inputs) # torch.Size([B, 3, H, W]) same as inputs shape\n",
        "      outputs = outputs['out'].to(device)\n",
        "      outputs_coords = outputs[:, :2, :, :]\n",
        "      outputs_vis = outputs[:, 2, :, :]\n",
        "      outputs_vis = torch.where(outputs_vis > 0, 1.0, 0.0)\n",
        "\n",
        "      outputs_coords_grid, outputs_vis_grid = get_predictions(device, outputs, coords, batch_size)\n",
        "      outputs_vis_grid = torch.where(outputs_vis_grid > 0, 1.0, 0.0)\n",
        "      outputs_coords = torch.permute(outputs_coords, (0, 2, 3, 1))\n",
        "      outputs_vis = outputs_vis.view(batch_size,1,-1)\n",
        "      outputs_coords = outputs_coords.view(batch_size,1,-1,2) # torch.Size([B, 1, 64*64, 2])\n",
        "\n",
        "      \n",
        "      # calculate stats\n",
        "      # MSE and Accuracy\n",
        "      running_mse.extend(compute_mse(coords.squeeze().cpu(), outputs_coords_grid.squeeze().cpu()))\n",
        "      running_accuracy.extend(compute_accuracy(vis.squeeze().cpu(), outputs_vis_grid.squeeze().cpu()))\n",
        "\n",
        "\n",
        "      # SSIM and PSNR on grid/full outptu for both NN anc CT reconstructions\n",
        "      (ssim_NN, ssim_NN_G, ssim_CT, ssim_CT_G, psnr_NN, psnr_NN_G, psnr_CT, psnr_CT_G) = compute_ssim_psnr(input1, true_images,\n",
        "                                                                                                           outputs_coords.cpu().numpy(), outputs_vis.cpu().numpy(),\n",
        "                                                                                                           outputs_coords_grid.cpu().numpy(), outputs_vis_grid.cpu().numpy()) \n",
        "      running_ssim.extend(ssim_NN) \n",
        "      running_psnr.extend(psnr_NN)\n",
        "\n",
        "      running_ssim_GRID.extend(ssim_NN_G)\n",
        "      running_psnr_GRID.extend(psnr_NN_G)\n",
        "\n",
        "      running_ssim_CT.extend(ssim_CT)\n",
        "      running_psnr_CT.extend(psnr_CT)\n",
        "\n",
        "      running_ssim_GRID_CT.extend(ssim_CT_G)\n",
        "      running_psnr_GRID_CT.extend(psnr_CT_G)\n",
        "  \n",
        "  mse = np.mean(running_mse)\n",
        "  mse_errror = np.std(running_mse)\n",
        "  acc = np.mean(running_accuracy)\n",
        "  acc_errror = np.std(running_accuracy)\n",
        "\n",
        "  psnr = np.mean(running_psnr)\n",
        "  psnr_error = np.std(running_psnr)\n",
        "  psnr_GRID = np.mean(running_psnr_GRID)\n",
        "  psnr_GRID_error = np.std(running_psnr_GRID)\n",
        "\n",
        "  psnr_CT = np.mean(running_psnr_CT)\n",
        "  psnr_error_CT = np.std(running_psnr_CT)\n",
        "  psnr_GRID_CT = np.mean(running_psnr_GRID_CT)\n",
        "  psnr_GRID_error_CT = np.std(running_psnr_GRID_CT)\n",
        "\n",
        "  ssim = np.mean(running_ssim)\n",
        "  ssim_error = np.std(running_ssim)\n",
        "  ssim_GRID = np.mean(running_ssim_GRID)\n",
        "  ssim_GRID_error = np.std(running_ssim_GRID)\n",
        "\n",
        "  ssim_CT = np.mean(running_ssim_CT)\n",
        "  ssim_error_CT = np.std(running_ssim_CT)\n",
        "  ssim_GRID_CT = np.mean(running_ssim_GRID_CT)\n",
        "  ssim_GRID_error_CT = np.std(running_ssim_GRID_CT)\n",
        "\n",
        "  return (mse, mse_errror), (acc, acc_errror), (psnr, psnr_error), (ssim, ssim_error), (psnr_GRID, psnr_GRID_error), (ssim_GRID, ssim_GRID_error), (psnr_CT, psnr_error_CT), (ssim_CT, ssim_error_CT), (psnr_GRID_CT, psnr_GRID_error_CT), (ssim_GRID_CT, ssim_GRID_error_CT)"
      ],
      "metadata": {
        "id": "qH54C5AMruyU"
      },
      "execution_count": 3,
      "outputs": []
    },
    {
      "cell_type": "code",
      "source": [
        "import math\n",
        "def compute_mse(true_coords, pred_coords):\n",
        "  mses = []\n",
        "  batch_size = true_coords.shape[0]\n",
        "\n",
        "  for i in range(batch_size):\n",
        "    true_coord = true_coords[i]\n",
        "    pred_coord = pred_coords[i]\n",
        "    score = mean_squared_error(true_coord, pred_coord)\n",
        "    mses.append(score) \n",
        "\n",
        "  return mses\n",
        "\n",
        "def compute_accuracy(true_vis, pred_vis):\n",
        "  # Compute classification accuracy between ground truth and predicted visibility\n",
        "  acc_s = []\n",
        "  batch_size = true_vis.shape[0]\n",
        "\n",
        "  for i in range(batch_size):\n",
        "    true_v = true_vis[i].numpy().flatten().astype(int)\n",
        "    pred_v = pred_vis[i].numpy().flatten().astype(int)\n",
        "    score = accuracy_score(true_v, pred_v, normalize=True)\n",
        "    acc_s.append(score)\n",
        "\n",
        "  return acc_s\n",
        "\n",
        "def compute_ssim_psnr(images0, images7, coords, vis, coords_g, vis_g):\n",
        "  ssim_NN = []\n",
        "  psnr_NN = []\n",
        "  ssim_NN_G = []\n",
        "  psnr_NN_G = []\n",
        "\n",
        "  ssim_CT = []\n",
        "  psnr_CT = []\n",
        "  ssim_CT_G = []\n",
        "  psnr_CT_G = []\n",
        "  batch_size = images0.shape[0]\n",
        "\n",
        "  for i in range(batch_size):\n",
        "    # reconstructed_image_NN, reconstructed_image_CT = frame_reconstruction(images0[i].permute(1, 2, 0).numpy(), coords[i], vis[i], rec_type=['full'])\n",
        "    reconstructed_image_NN_G, reconstructed_image_CT_G = frame_reconstruction(images0[i].permute(1, 2, 0).numpy(), coords_g[i], vis_g[i], rec_type=['grid'])\n",
        "    true_image = images7[i].permute(1, 2, 0).numpy()\n",
        "\n",
        "    # psnr_nn = peak_signal_noise_ratio(true_image, reconstructed_image_NN, data_range=1)\n",
        "    # if not math.isinf(psnr_nn):\n",
        "    #   psnr_NN.append(psnr_nn)\n",
        "\n",
        "    # psnr_ct = peak_signal_noise_ratio(true_image, reconstructed_image_CT, data_range=1)\n",
        "    # if not math.isinf(psnr_ct):\n",
        "    #   psnr_CT.append(psnr_ct)\n",
        "\n",
        "    psnr_nn_g = peak_signal_noise_ratio(true_image, reconstructed_image_NN_G, data_range=1)\n",
        "    if not math.isinf(psnr_nn_g):\n",
        "      psnr_NN_G.append(psnr_nn_g)\n",
        "\n",
        "    psnr_ct_g = peak_signal_noise_ratio(true_image, reconstructed_image_CT_G, data_range=1)\n",
        "    if not math.isinf(psnr_ct_g):\n",
        "      psnr_CT_G.append(psnr_ct_g)\n",
        "    \n",
        "    # ssim = structural_similarity(true_image, reconstructed_image_NN, channel_axis=2)\n",
        "    # ssim_NN.append(ssim)\n",
        "\n",
        "    # ssim = structural_similarity(true_image, reconstructed_image_CT, channel_axis=2)\n",
        "    # ssim_CT.append(ssim)\n",
        "\n",
        "    ssim = structural_similarity(true_image, reconstructed_image_NN_G, channel_axis=2)\n",
        "    ssim_NN_G.append(ssim)\n",
        "\n",
        "    ssim = structural_similarity(true_image, reconstructed_image_CT_G, channel_axis=2)\n",
        "    ssim_CT_G.append(ssim)\n",
        "\n",
        "  return ssim_NN, ssim_NN_G, ssim_CT, ssim_CT_G, psnr_NN, psnr_NN_G, psnr_CT, psnr_CT_G\n"
      ],
      "metadata": {
        "id": "oHqC8MOnsd9x"
      },
      "execution_count": 2,
      "outputs": []
    },
    {
      "cell_type": "markdown",
      "source": [
        "### Frame reconstructions"
      ],
      "metadata": {
        "id": "eCo4dDJ0boi1"
      }
    },
    {
      "cell_type": "code",
      "source": [
        "def frame_reconstruction(img0, coords, vis, rec_type=[\"full\"]):\n",
        "  if rec_type[0]=='full':\n",
        "    h = np.arange(0, 360) # Take linspace of H of the image\n",
        "    w = np.arange(0, 640) # Take linspace of W of the image\n",
        "    w, h = np.meshgrid(w, h)\n",
        "    original_x = h.flatten()\n",
        "    original_y = w.flatten()\n",
        "  else:\n",
        "    original_points = get_grid('cuda', 4096, 1, 360, 640)\n",
        "    original_points = original_points.view(1, 1, -1, 2).squeeze().flatten().cpu().numpy()\n",
        "    original_x = original_points[1::2]\n",
        "    original_y = original_points[::2]\n",
        "\n",
        "  vis = vis.squeeze() > 0\n",
        "  original_x = original_x[vis]\n",
        "  original_y = original_y[vis]\n",
        "\n",
        "  coords = coords.squeeze()\n",
        "  \n",
        "  coords_x = coords[:, 1]\n",
        "  coords_y = coords[:, 0]\n",
        "\n",
        "  coords_x = coords_x[vis]\n",
        "  coords_y = coords_y[vis]\n",
        "\n",
        "\n",
        "  if rec_type[0]=='full':\n",
        "    coords_x = original_x+coords_x\n",
        "    coords_y = original_y+coords_y\n",
        "\n",
        "  \n",
        "  reconstructed_NN, reconstructed_CT = interpolate(img0, original_x, original_y, coords_x, coords_y)\n",
        "\n",
        "  return reconstructed_NN, reconstructed_CT"
      ],
      "metadata": {
        "id": "RbriKjeq05bk"
      },
      "execution_count": 9,
      "outputs": []
    },
    {
      "cell_type": "code",
      "source": [
        "def interpolate(img0, original_x, original_y, coords_x, coords_y):\n",
        "  z = img0\n",
        "  z_R = []\n",
        "  z_G = []\n",
        "  z_B = []\n",
        "\n",
        "  for point in list(zip(original_x, original_y)):\n",
        "    x, y = point\n",
        "    x = int(x)\n",
        "    y = int(y)\n",
        "    z_R.append(img0[x, y, 0]) #(360,640,3)\n",
        "    z_G.append(img0[x, y, 1])\n",
        "    z_B.append(img0[x, y, 2])\n",
        "  \n",
        "\n",
        "  X = np.arange(0, 360) # Take linspace of H of the image\n",
        "  Y = np.arange(0, 640) # Take linspace of W of the image\n",
        "  X, Y = np.meshgrid(X, Y)  # 2D grid for interpolation\n",
        "\n",
        "  points = list(zip(coords_x, coords_y))\n",
        "\n",
        "  interp_R_NN = NearestNDInterpolator(points, z_R) # predicted point coord -> R-intensity\n",
        "  interp_G_NN = NearestNDInterpolator(points, z_G) # predicted point coord -> G-intensity\n",
        "  interp_B_NN = NearestNDInterpolator(points, z_B) # predicted point coord -> B-intensity\n",
        "\n",
        "  interp_R_CT = CloughTocher2DInterpolator(points, z_R) # predicted point coord -> R-intensity\n",
        "  interp_G_CT = CloughTocher2DInterpolator(points, z_G) # predicted point coord -> G-intensity\n",
        "  interp_B_CT = CloughTocher2DInterpolator(points, z_B) # predicted point coord -> B-intensity\n",
        "\n",
        "  Z_R_NN = interp_R_NN(X, Y) \n",
        "  Z_G_NN = interp_G_NN(X, Y)\n",
        "  Z_B_NN = interp_B_NN(X, Y)\n",
        "\n",
        "  Z_R = interp_R_CT(X, Y) \n",
        "  Z_G = interp_G_CT(X, Y)\n",
        "  Z_B = interp_B_CT(X, Y)\n",
        "\n",
        "  concateneted = np.stack([Z_R, Z_G, Z_B])\n",
        "  concateneted_NN = np.stack([Z_R_NN, Z_G_NN, Z_B_NN])\n",
        "\n",
        "  img = concateneted\n",
        "  img_NN = concateneted_NN\n",
        "\n",
        "  # Replace NaN values in img with values in img_NN\n",
        "  replace_nans = np.where(np.isnan(img), img_NN, img)\n",
        "  reconstruction = replace_nans\n",
        "  reconstruction = np.clip(replace_nans, 0, 1)\n",
        "\n",
        "  reconstruction = reconstruction.transpose(2, 1, 0)\n",
        "  reconstruction_NN = img_NN.transpose(2, 1, 0)\n",
        "\n",
        "  return reconstruction_NN, reconstruction"
      ],
      "metadata": {
        "id": "E26TpPDz3joG"
      },
      "execution_count": 10,
      "outputs": []
    },
    {
      "cell_type": "markdown",
      "source": [
        "## Baseline evaluation"
      ],
      "metadata": {
        "id": "1IEtgfFFqCY6"
      }
    },
    {
      "cell_type": "code",
      "source": [
        "# create baseline model\n",
        "# returns no prediction\n",
        "class BaselineModel(nn.Module):\n",
        "  def __init__(self):\n",
        "      super().__init__()\n",
        "      \n",
        "  def forward(self, x):\n",
        "      output_shape = x[:, :3, :, :].size()\n",
        "      predicted_output = torch.zeros(output_shape)\n",
        "      predicted_vis = torch.ones((output_shape[0], output_shape[2], output_shape[3]))\n",
        "      predicted_output[:, 2 ,: , :] = predicted_vis\n",
        "      return {'out': predicted_output}"
      ],
      "metadata": {
        "id": "UgymB5IIqFxw"
      },
      "execution_count": 11,
      "outputs": []
    },
    {
      "cell_type": "code",
      "source": [
        "baseline_mse, baseline_acc, baseline_psnr, baseline_ssim, baseline_psnr_grid, baseline_ssim_grid, baseline_psnr_CT, baseline_ssim_CT, baseline_psnr_grid_CT, baseline_ssim_grid_CT = run_evaluation(test_dataloader)"
      ],
      "metadata": {
        "id": "YBFY6rberV5f",
        "colab": {
          "base_uri": "https://localhost:8080/"
        },
        "outputId": "24e74070-3ff5-473b-f7fe-8f4d74d1d681"
      },
      "execution_count": 12,
      "outputs": [
        {
          "output_type": "stream",
          "name": "stdout",
          "text": [
            "batch 0 / 27\n",
            "batch 1 / 27\n",
            "batch 2 / 27\n",
            "batch 3 / 27\n",
            "batch 4 / 27\n",
            "batch 5 / 27\n",
            "batch 6 / 27\n",
            "batch 7 / 27\n",
            "batch 8 / 27\n",
            "batch 9 / 27\n",
            "batch 10 / 27\n",
            "batch 11 / 27\n",
            "batch 12 / 27\n",
            "batch 13 / 27\n",
            "batch 14 / 27\n",
            "batch 15 / 27\n",
            "batch 16 / 27\n",
            "batch 17 / 27\n",
            "batch 18 / 27\n",
            "batch 19 / 27\n",
            "batch 20 / 27\n",
            "batch 21 / 27\n",
            "batch 22 / 27\n",
            "batch 23 / 27\n",
            "batch 24 / 27\n",
            "batch 25 / 27\n",
            "batch 26 / 27\n"
          ]
        },
        {
          "output_type": "stream",
          "name": "stderr",
          "text": [
            "/usr/local/lib/python3.9/dist-packages/numpy/core/fromnumeric.py:3474: RuntimeWarning: Mean of empty slice.\n",
            "  return _methods._mean(a, axis=axis, dtype=dtype,\n",
            "/usr/local/lib/python3.9/dist-packages/numpy/core/_methods.py:189: RuntimeWarning: invalid value encountered in double_scalars\n",
            "  ret = ret.dtype.type(ret / rcount)\n",
            "/usr/local/lib/python3.9/dist-packages/numpy/core/_methods.py:264: RuntimeWarning: Degrees of freedom <= 0 for slice\n",
            "  ret = _var(a, axis=axis, dtype=dtype, out=out, ddof=ddof,\n",
            "/usr/local/lib/python3.9/dist-packages/numpy/core/_methods.py:222: RuntimeWarning: invalid value encountered in true_divide\n",
            "  arrmean = um.true_divide(arrmean, div, out=arrmean, casting='unsafe',\n",
            "/usr/local/lib/python3.9/dist-packages/numpy/core/_methods.py:256: RuntimeWarning: invalid value encountered in double_scalars\n",
            "  ret = ret.dtype.type(ret / rcount)\n"
          ]
        }
      ]
    },
    {
      "cell_type": "code",
      "source": [
        "from tabulate import tabulate\n",
        "\n",
        "results = [[\"Model\", \"MSE\", \"Accuracy\"],\n",
        "           [\"Baseline\",\n",
        "            \"{:.3f}+-{:.2f}\".format(baseline_mse[0], baseline_mse[1]),\n",
        "            \"{:.3f}+-{:.2f}\".format(baseline_acc[0], baseline_acc[1])]\n",
        "            ]\n",
        "\n",
        "results_r = [[\"Model\", \"NN: PSNR\", \"NN: SSIM\",\"NN: PSNR grid\", \"NN: SSIM grid\", \"CT: PSNR\", \"CT: SSIM\",\"CT: PSNR grid\", \"CT: SSIM grid\"],\n",
        "           [\"Baseline\",\n",
        "            \"{:.3f}+-{:.2f}\".format(baseline_psnr[0], baseline_psnr[1]),\n",
        "            \"{:.3f}+-{:.2f}\".format(baseline_ssim[0], baseline_ssim[1]),\n",
        "            \"{:.3f}+-{:.2f}\".format(baseline_psnr_grid[0], baseline_psnr_grid[1]),\n",
        "            \"{:.3f}+-{:.2f}\".format(baseline_ssim_grid[0], baseline_ssim_grid[1]),\n",
        "            \"{:.3f}+-{:.2f}\".format(baseline_psnr_CT[0], baseline_psnr_CT[1]),\n",
        "            \"{:.3f}+-{:.2f}\".format(baseline_ssim_CT[0], baseline_ssim_CT[1]),\n",
        "            \"{:.3f}+-{:.2f}\".format(baseline_psnr_grid_CT[0], baseline_psnr_grid_CT[1]),\n",
        "            \"{:.3f}+-{:.2f}\".format(baseline_ssim_grid_CT[0], baseline_ssim_grid_CT[1])]\n",
        "            ]\n",
        "\n",
        "print(tabulate(results, headers='firstrow', tablefmt='fancy_grid'))\n",
        "print(tabulate(results_r, headers='firstrow', tablefmt='fancy_grid'))"
      ],
      "metadata": {
        "colab": {
          "base_uri": "https://localhost:8080/"
        },
        "id": "LNeodhDnFkYO",
        "outputId": "0a317af5-8d04-4c4d-d63d-78db4d4c799d"
      },
      "execution_count": 13,
      "outputs": [
        {
          "output_type": "stream",
          "name": "stdout",
          "text": [
            "╒══════════╤═══════════════════╤═════════════╕\n",
            "│ Model    │ MSE               │ Accuracy    │\n",
            "╞══════════╪═══════════════════╪═════════════╡\n",
            "│ Baseline │ 1254.358+-1708.99 │ 0.941+-0.05 │\n",
            "╘══════════╧═══════════════════╧═════════════╛\n",
            "╒══════════╤════════════╤════════════╤═════════════════╤═════════════════╤════════════╤════════════╤═════════════════╤═════════════════╕\n",
            "│ Model    │ NN: PSNR   │ NN: SSIM   │ NN: PSNR grid   │ NN: SSIM grid   │ CT: PSNR   │ CT: SSIM   │ CT: PSNR grid   │ CT: SSIM grid   │\n",
            "╞══════════╪════════════╪════════════╪═════════════════╪═════════════════╪════════════╪════════════╪═════════════════╪═════════════════╡\n",
            "│ Baseline │ nan+-nan   │ nan+-nan   │ 19.162+-2.66    │ 0.656+-0.10     │ nan+-nan   │ nan+-nan   │ 19.928+-2.86    │ 0.711+-0.09     │\n",
            "╘══════════╧════════════╧════════════╧═════════════════╧═════════════════╧════════════╧════════════╧═════════════════╧═════════════════╛\n"
          ]
        }
      ]
    },
    {
      "cell_type": "markdown",
      "source": [
        "## Model without shifting 1A"
      ],
      "metadata": {
        "id": "xSO6g7DDb_R6"
      }
    },
    {
      "cell_type": "code",
      "source": [
        "# load model and evaluate\n",
        "_, _, t_history, v_history=load_checkpoint(\"no_shifting_checkpoint_2023-03-20_1702.pth\")\n",
        "plot_learning_curve(t_history, v_history)\n",
        "m1_mse, m1_acc, m1_psnr, m1_ssim, m1_psnr_grid, m1_ssim_grid, m1_psnr_ct, m1_ssim_ct, m1_psnr_grid_ct, m1_ssim_grid_ct = run_evaluation(test_dataloader, checkpoint_file=\"no_shifting_checkpoint_2023-03-20_1702.pth\")"
      ],
      "metadata": {
        "id": "O7GW6jGDYscx",
        "outputId": "4a0aeff3-69d4-4315-954d-b6440c8763fc",
        "colab": {
          "base_uri": "https://localhost:8080/",
          "height": 1000
        }
      },
      "execution_count": 15,
      "outputs": [
        {
          "output_type": "stream",
          "name": "stdout",
          "text": [
            "--------------------------------------------------\n",
            "Checkpoint data:\n",
            "Best train loss: 0.354 at epoch 400/402\n",
            "Best valid loss: 0.344 at epoch 401/402\n",
            "Train time 3h\n",
            "--------------------------------------------------\n"
          ]
        },
        {
          "output_type": "display_data",
          "data": {
            "text/plain": [
              "<Figure size 432x288 with 1 Axes>"
            ],
            "image/png": "[encoded data removed]"
          },
          "metadata": {
            "needs_background": "light"
          }
        },
        {
          "output_type": "stream",
          "name": "stdout",
          "text": [
            "--------------------------------------------------\n",
            "Checkpoint data:\n",
            "Best train loss: 0.354 at epoch 400/402\n",
            "Best valid loss: 0.344 at epoch 401/402\n",
            "Train time 3h\n",
            "--------------------------------------------------\n",
            "batch 0 / 27\n",
            "batch 1 / 27\n",
            "batch 2 / 27\n",
            "batch 3 / 27\n",
            "batch 5 / 27\n",
            "batch 6 / 27\n",
            "batch 7 / 27\n",
            "batch 8 / 27\n",
            "batch 9 / 27\n",
            "batch 10 / 27\n",
            "batch 11 / 27\n",
            "batch 12 / 27\n",
            "batch 13 / 27\n",
            "batch 14 / 27\n",
            "batch 15 / 27\n",
            "batch 16 / 27\n",
            "batch 17 / 27\n",
            "batch 18 / 27\n",
            "batch 19 / 27\n",
            "batch 20 / 27\n",
            "batch 21 / 27\n",
            "batch 22 / 27\n",
            "batch 23 / 27\n",
            "batch 24 / 27\n",
            "batch 25 / 27\n",
            "batch 26 / 27\n"
          ]
        },
        {
          "output_type": "stream",
          "name": "stderr",
          "text": [
            "/usr/local/lib/python3.9/dist-packages/numpy/core/fromnumeric.py:3474: RuntimeWarning: Mean of empty slice.\n",
            "  return _methods._mean(a, axis=axis, dtype=dtype,\n",
            "/usr/local/lib/python3.9/dist-packages/numpy/core/_methods.py:189: RuntimeWarning: invalid value encountered in double_scalars\n",
            "  ret = ret.dtype.type(ret / rcount)\n",
            "/usr/local/lib/python3.9/dist-packages/numpy/core/_methods.py:264: RuntimeWarning: Degrees of freedom <= 0 for slice\n",
            "  ret = _var(a, axis=axis, dtype=dtype, out=out, ddof=ddof,\n",
            "/usr/local/lib/python3.9/dist-packages/numpy/core/_methods.py:222: RuntimeWarning: invalid value encountered in true_divide\n",
            "  arrmean = um.true_divide(arrmean, div, out=arrmean, casting='unsafe',\n",
            "/usr/local/lib/python3.9/dist-packages/numpy/core/_methods.py:256: RuntimeWarning: invalid value encountered in double_scalars\n",
            "  ret = ret.dtype.type(ret / rcount)\n"
          ]
        }
      ]
    },
    {
      "cell_type": "code",
      "source": [
        "from tabulate import tabulate\n",
        "results = [[\"Model\", \"MSE\", \"Accuracy\"],\n",
        "           [\"Model 1A\",\n",
        "            \"{:.3f}+-{:.2f}\".format(m1_mse[0], m1_mse[1]),\n",
        "            \"{:.3f}+-{:.2f}\".format(m1_acc[0], m1_acc[1]),\n",
        "            ]]\n",
        "\n",
        "results_r = [[\"Model\", \"NN: PSNR\", \"NN: SSIM\",\"NN: PSNR grid\", \"NN: SSIM grid\", \"CT: PSNR\", \"CT: SSIM\",\"CT: PSNR grid\", \"CT: SSIM grid\"],\n",
        "           [\"Model 1A\",\n",
        "            \"{:.3f}+-{:.2f}\".format(m1_psnr[0], m1_psnr[1]),\n",
        "            \"{:.3f}+-{:.2f}\".format(m1_ssim[0], m1_ssim[1]),\n",
        "            \"{:.3f}+-{:.2f}\".format(m1_psnr_grid[0], m1_psnr_grid[1]),\n",
        "            \"{:.3f}+-{:.2f}\".format(m1_ssim_grid[0], m1_ssim_grid[1]),\n",
        "            \"{:.3f}+-{:.2f}\".format(m1_psnr_ct[0], m1_psnr_ct[1]),\n",
        "            \"{:.3f}+-{:.2f}\".format(m1_ssim_ct[0], m1_ssim_ct[1]),\n",
        "            \"{:.3f}+-{:.2f}\".format(m1_psnr_grid_ct[0], m1_psnr_grid_ct[1]),\n",
        "            \"{:.3f}+-{:.2f}\".format(m1_ssim_grid_ct[0], m1_ssim_grid_ct[1])]\n",
        "            ]\n",
        "\n",
        "print(tabulate(results, headers='firstrow', tablefmt='fancy_grid'))\n",
        "print(tabulate(results_r, headers='firstrow', tablefmt='fancy_grid'))"
      ],
      "metadata": {
        "colab": {
          "base_uri": "https://localhost:8080/"
        },
        "id": "Juti6Rkyo8l5",
        "outputId": "cd68b996-fbb4-4a2d-f5f8-999d1bcd208d"
      },
      "execution_count": 16,
      "outputs": [
        {
          "output_type": "stream",
          "name": "stdout",
          "text": [
            "╒══════════╤═════════════════╤═════════════╕\n",
            "│ Model    │ MSE             │ Accuracy    │\n",
            "╞══════════╪═════════════════╪═════════════╡\n",
            "│ Model 1A │ 440.888+-778.80 │ 0.999+-0.00 │\n",
            "╘══════════╧═════════════════╧═════════════╛\n",
            "╒══════════╤════════════╤════════════╤═════════════════╤═════════════════╤════════════╤════════════╤═════════════════╤═════════════════╕\n",
            "│ Model    │ NN: PSNR   │ NN: SSIM   │ NN: PSNR grid   │ NN: SSIM grid   │ CT: PSNR   │ CT: SSIM   │ CT: PSNR grid   │ CT: SSIM grid   │\n",
            "╞══════════╪════════════╪════════════╪═════════════════╪═════════════════╪════════════╪════════════╪═════════════════╪═════════════════╡\n",
            "│ Baseline │ nan+-nan   │ nan+-nan   │ 20.726+-2.53    │ 0.665+-0.10     │ nan+-nan   │ nan+-nan   │ 20.917+-2.80    │ 0.707+-0.09     │\n",
            "╘══════════╧════════════╧════════════╧═════════════════╧═════════════════╧════════════╧════════════╧═════════════════╧═════════════════╛\n"
          ]
        }
      ]
    },
    {
      "cell_type": "markdown",
      "source": [
        "## Model with shifting 1B"
      ],
      "metadata": {
        "id": "yXUM49AqcJ-m"
      }
    },
    {
      "cell_type": "code",
      "source": [
        "# load model and evaluate\n",
        "_, _, t_history, v_history = load_checkpoint(\"model_shifting_checkpoint_2023-03-20_2257.pth\")\n",
        "plot_learning_curve(t_history, v_history)\n",
        "m2_mse, m2_acc, m2_psnr, m2_ssim, m2_psnr_grid, m2_ssim_grid, m2_psnr_ct, m2_ssim_ct, m2_psnr_grid_ct, m2_ssim_grid_ct = run_evaluation(test_dataloader, checkpoint_file=\"model_shifting_checkpoint_2023-03-20_2257.pth\")"
      ],
      "metadata": {
        "id": "7ePX9Q_2cM1f",
        "colab": {
          "base_uri": "https://localhost:8080/",
          "height": 1000
        },
        "outputId": "c9462eae-ff2d-405e-faee-7a7e8f4e7f56"
      },
      "execution_count": 17,
      "outputs": [
        {
          "metadata": {
            "tags": null
          },
          "name": "stdout",
          "output_type": "stream",
          "text": [
            "--------------------------------------------------\n",
            "Checkpoint data:\n",
            "Best train loss: 1.499 at epoch 437/442\n",
            "Best valid loss: 1.237 at epoch 402/442\n",
            "Train time 8h\n",
            "--------------------------------------------------\n"
          ]
        },
        {
          "data": {
            "image/png": "[encoded data removed]",
            "text/plain": [
              "<Figure size 432x288 with 1 Axes>"
            ]
          },
          "metadata": {},
          "output_type": "display_data"
        },
        {
          "output_type": "stream",
          "name": "stdout",
          "text": [
            "--------------------------------------------------\n",
            "Checkpoint data:\n",
            "Best train loss: 1.499 at epoch 437/442\n",
            "Best valid loss: 1.237 at epoch 402/442\n",
            "Train time 8h\n",
            "--------------------------------------------------\n",
            "batch 0 / 27\n",
            "batch 1 / 27\n",
            "batch 2 / 27\n",
            "batch 3 / 27\n",
            "batch 4 / 27\n",
            "batch 5 / 27\n",
            "batch 6 / 27\n",
            "batch 7 / 27\n",
            "batch 8 / 27\n",
            "batch 9 / 27\n",
            "batch 10 / 27\n",
            "batch 11 / 27\n",
            "batch 12 / 27\n",
            "batch 13 / 27\n",
            "batch 14 / 27\n",
            "batch 15 / 27\n",
            "batch 16 / 27\n",
            "batch 17 / 27\n",
            "batch 18 / 27\n",
            "batch 19 / 27\n",
            "batch 20 / 27\n",
            "batch 21 / 27\n",
            "batch 22 / 27\n",
            "batch 23 / 27\n",
            "batch 24 / 27\n",
            "batch 25 / 27\n",
            "batch 26 / 27\n"
          ]
        },
        {
          "output_type": "stream",
          "name": "stderr",
          "text": [
            "/usr/local/lib/python3.9/dist-packages/numpy/core/fromnumeric.py:3474: RuntimeWarning: Mean of empty slice.\n",
            "  return _methods._mean(a, axis=axis, dtype=dtype,\n",
            "/usr/local/lib/python3.9/dist-packages/numpy/core/_methods.py:189: RuntimeWarning: invalid value encountered in double_scalars\n",
            "  ret = ret.dtype.type(ret / rcount)\n",
            "/usr/local/lib/python3.9/dist-packages/numpy/core/_methods.py:264: RuntimeWarning: Degrees of freedom <= 0 for slice\n",
            "  ret = _var(a, axis=axis, dtype=dtype, out=out, ddof=ddof,\n",
            "/usr/local/lib/python3.9/dist-packages/numpy/core/_methods.py:222: RuntimeWarning: invalid value encountered in true_divide\n",
            "  arrmean = um.true_divide(arrmean, div, out=arrmean, casting='unsafe',\n",
            "/usr/local/lib/python3.9/dist-packages/numpy/core/_methods.py:256: RuntimeWarning: invalid value encountered in double_scalars\n",
            "  ret = ret.dtype.type(ret / rcount)\n"
          ]
        }
      ]
    },
    {
      "cell_type": "code",
      "source": [
        "from tabulate import tabulate\n",
        "results = [[\"Model\", \"MSE\", \"Accuracy\",\"PSNR\", \"SSIM\",\"PSNR grid\", \"SSIM grid\"],\n",
        "           [\"Model 1B\",\n",
        "            \"{:.3f}+-{:.2f}\".format(m2_mse[0], m2_mse[1]),\n",
        "            \"{:.3f}+-{:.2f}\".format(m2_acc[0], m2_acc[1])]]\n",
        "\n",
        "results_r = [[\"Model\", \"NN: PSNR\", \"NN: SSIM\",\"NN: PSNR grid\", \"NN: SSIM grid\", \"CT: PSNR\", \"CT: SSIM\",\"CT: PSNR grid\", \"CT: SSIM grid\"],\n",
        "           [\"Baseline\",\n",
        "            \"{:.3f}+-{:.2f}\".format(m2_psnr[0], m2_psnr[1]),\n",
        "            \"{:.3f}+-{:.2f}\".format(m2_ssim[0], m2_ssim[1]),\n",
        "            \"{:.3f}+-{:.2f}\".format(m2_psnr_grid[0], m2_psnr_grid[1]),\n",
        "            \"{:.3f}+-{:.2f}\".format(m2_ssim_grid[0], m2_ssim_grid[1]),\n",
        "            \"{:.3f}+-{:.2f}\".format(m2_psnr_ct[0], m2_psnr_ct[1]),\n",
        "            \"{:.3f}+-{:.2f}\".format(m2_ssim_ct[0], m2_ssim_ct[1]),\n",
        "            \"{:.3f}+-{:.2f}\".format(m2_psnr_grid_ct[0], m2_psnr_grid_ct[1]),\n",
        "            \"{:.3f}+-{:.2f}\".format(m2_ssim_grid_ct[0], m2_ssim_grid_ct[1])]\n",
        "            ]\n",
        "\n",
        "print(tabulate(results, headers='firstrow', tablefmt='fancy_grid'))\n",
        "print(tabulate(results_r, headers='firstrow', tablefmt='fancy_grid'))"
      ],
      "metadata": {
        "colab": {
          "base_uri": "https://localhost:8080/"
        },
        "id": "161X-b1xo7yZ",
        "outputId": "ef96663c-7c28-4275-b19c-af5f7f6985c1"
      },
      "execution_count": 18,
      "outputs": [
        {
          "output_type": "stream",
          "name": "stdout",
          "text": [
            "╒══════════╤═════════════════╤═════════════╕\n",
            "│ Model    │ MSE             │ Accuracy    │\n",
            "╞══════════╪═════════════════╪═════════════╡\n",
            "│ Model 1B │ 530.950+-871.49 │ 0.992+-0.01 │\n",
            "╘══════════╧═════════════════╧═════════════╛\n",
            "╒══════════╤════════════╤════════════╤═════════════════╤═════════════════╤════════════╤════════════╤═════════════════╤═════════════════╕\n",
            "│ Model    │ NN: PSNR   │ NN: SSIM   │ NN: PSNR grid   │ NN: SSIM grid   │ CT: PSNR   │ CT: SSIM   │ CT: PSNR grid   │ CT: SSIM grid   │\n",
            "╞══════════╪════════════╪════════════╪═════════════════╪═════════════════╪════════════╪════════════╪═════════════════╪═════════════════╡\n",
            "│ Baseline │ nan+-nan   │ nan+-nan   │ 20.574+-2.59    │ 0.662+-0.10     │ nan+-nan   │ nan+-nan   │ 20.832+-2.90    │ 0.706+-0.10     │\n",
            "╘══════════╧════════════╧════════════╧═════════════════╧═════════════════╧════════════╧════════════╧═════════════════╧═════════════════╛\n"
          ]
        }
      ]
    },
    {
      "cell_type": "markdown",
      "source": [
        "## Model with shifting and data augmentations 1C"
      ],
      "metadata": {
        "id": "fOEnU47ADzXs"
      }
    },
    {
      "cell_type": "code",
      "source": [
        "# load model and evaluate\n",
        "_, _, t_history, v_history = load_checkpoint(\"augmented_checkpoint_2023-03-20_2158.pth\")\n",
        "plot_learning_curve(t_history, v_history)\n",
        "m3_mse, m3_acc, m3_psnr, m3_ssim, m3_psnr_grid, m3_ssim_grid = run_evaluation(test_dataloader, checkpoint_file=\"augmented_checkpoint_2023-03-20_2158.pth\")"
      ],
      "metadata": {
        "id": "XVIOvXcaDdqN",
        "outputId": "dfefac7b-f68a-4a8d-bc24-16ab9fc5f1de",
        "colab": {
          "base_uri": "https://localhost:8080/",
          "height": 904,
          "referenced_widgets": [
            "c14ce4c26606411e84ae85061b8a9818",
            "c5562fe3a0a14a97b0f0e29c687c4943",
            "6794109dfd254c2e951644eaa3d98f78",
            "56545b6b11234ad6b9df1653843384ac",
            "d178ddb5215b4b0695dabf5221e1648b",
            "d165cc8ec1634d208f36824046b6c315",
            "5d36d21f1c824ef48577005dd07379f5",
            "e58071f0efb74906af1dfb308c02dc99",
            "a30d4b89055f48b6b0b6e2257ca99cfd",
            "72bb48e05f1f48c09fcfb95555bb527e",
            "1649cb1ad5124e6bbd5bb37b6eb40076"
          ]
        }
      },
      "execution_count": null,
      "outputs": [
        {
          "output_type": "stream",
          "name": "stdout",
          "text": [
            "--------------------------------------------------\n",
            "Checkpoint data:\n",
            "Best train loss: 9.010 at epoch 39/41\n",
            "Best valid loss: 6.964 at epoch 40/41\n",
            "Train time 4h\n",
            "--------------------------------------------------\n"
          ]
        },
        {
          "output_type": "display_data",
          "data": {
            "text/plain": [
              "<Figure size 432x288 with 1 Axes>"
            ],
            "image/png": "[encoded data removed]"
          },
          "metadata": {
            "needs_background": "light"
          }
        },
        {
          "output_type": "stream",
          "name": "stderr",
          "text": [
            "Downloading: \"https://download.pytorch.org/models/fcn_resnet50_coco-1167a1af.pth\" to /root/.cache/torch/hub/checkpoints/fcn_resnet50_coco-1167a1af.pth\n"
          ]
        },
        {
          "output_type": "display_data",
          "data": {
            "text/plain": [
              "  0%|          | 0.00/135M [00:00<?, ?B/s]"
            ],
            "application/vnd.jupyter.widget-view+json": {
              "version_major": 2,
              "version_minor": 0,
              "model_id": "c14ce4c26606411e84ae85061b8a9818"
            }
          },
          "metadata": {}
        },
        {
          "output_type": "stream",
          "name": "stdout",
          "text": [
            "--------------------------------------------------\n",
            "Checkpoint data:\n",
            "Best train loss: 9.010 at epoch 39/41\n",
            "Best valid loss: 6.964 at epoch 40/41\n",
            "Train time 4h\n",
            "--------------------------------------------------\n",
            "batch 0 / 54\n",
            "batch 1 / 54\n",
            "batch 2 / 54\n",
            "batch 3 / 54\n",
            "batch 4 / 54\n",
            "batch 5 / 54\n",
            "batch 6 / 54\n",
            "batch 7 / 54\n",
            "batch 8 / 54\n",
            "batch 9 / 54\n",
            "batch 10 / 54\n",
            "batch 11 / 54\n",
            "batch 12 / 54\n",
            "batch 13 / 54\n",
            "batch 14 / 54\n",
            "batch 15 / 54\n",
            "batch 16 / 54\n",
            "batch 17 / 54\n",
            "batch 18 / 54\n",
            "batch 19 / 54\n",
            "batch 20 / 54\n"
          ]
        }
      ]
    },
    {
      "cell_type": "code",
      "source": [
        "from tabulate import tabulate\n",
        "results = [[\"Model\", \"MSE\", \"Accuracy\",\"PSNR\", \"SSIM\",\"PSNR grid\", \"SSIM grid\"],\n",
        "           [\"Model 1C\",\n",
        "            \"{:.3f}+-{:.2f}\".format(m3_mse[0], m3_mse[1]),\n",
        "            \"{:.3f}+-{:.2f}\".format(m3_acc[0], m3_acc[1]),\n",
        "            \"{:.3f}+-{:.2f}\".format(m3_psnr[0], m3_psnr[1]),\n",
        "            \"{:.3f}+-{:.2f}\".format(m3_ssim[0], m3_ssim[1]),\n",
        "            \"{:.3f}+-{:.2f}\".format(m3_psnr_grid[0], m3_psnr_grid[1]),\n",
        "            \"{:.3f}+-{:.2f}\".format(m3_ssim_grid[0], m3_ssim_grid[1])]]\n",
        "\n",
        "print(tabulate(results, headers='firstrow', tablefmt='fancy_grid'))"
      ],
      "metadata": {
        "id": "ol9Uk1wHDhFt",
        "outputId": "46dfd0bc-1e8e-44f1-a723-6b636a9c673d",
        "colab": {
          "base_uri": "https://localhost:8080/"
        }
      },
      "execution_count": null,
      "outputs": [
        {
          "output_type": "stream",
          "name": "stdout",
          "text": [
            "╒══════════╤═════════════════╤═════════════╤══════════════╤═════════════╤══════════════╤═════════════╕\n",
            "│ Model    │ MSE             │ Accuracy    │ PSNR         │ SSIM        │ PSNR grid    │ SSIM grid   │\n",
            "╞══════════╪═════════════════╪═════════════╪══════════════╪═════════════╪══════════════╪═════════════╡\n",
            "│ Model 1C │ 459.306+-676.83 │ 0.956+-0.05 │ 26.247+-7.17 │ 0.906+-0.09 │ 20.061+-2.85 │ 0.653+-0.10 │\n",
            "╘══════════╧═════════════════╧═════════════╧══════════════╧═════════════╧══════════════╧═════════════╛\n"
          ]
        }
      ]
    },
    {
      "cell_type": "markdown",
      "source": [
        "# Natural Data"
      ],
      "metadata": {
        "id": "FYiyLPrC91Kd"
      }
    },
    {
      "cell_type": "code",
      "source": [
        "TEST_DATA = \"full_dataset_valid_2023-02-19\"\n",
        "!unzip -d \"$TEST_DATA\"/ /content/drive/MyDrive/\"$TEST_DATA\".zip # unziping test data\n",
        "\n",
        "test_dataset = TaiChiDataset(log_file=TEST_DATA+'/sample_ids.txt',\n",
        "                              root_dir=TEST_DATA,\n",
        "                              check=True,\n",
        "                              transform=transforms.Compose([ToTensor()]))\n",
        "\n",
        "print(len(test_dataset))\n",
        "test_dataloader = get_dataloader(test_dataset, batch_size=32, shuffle=False)"
      ],
      "metadata": {
        "id": "pMzqOMYh9UFT"
      },
      "execution_count": null,
      "outputs": []
    },
    {
      "cell_type": "markdown",
      "source": [
        "## Baseline"
      ],
      "metadata": {
        "id": "VWMrrzDN-W8t"
      }
    },
    {
      "cell_type": "code",
      "source": [
        "baseline_mse, baseline_acc, baseline_psnr, baseline_ssim, baseline_psnr_grid, baseline_ssim_grid, baseline_psnr_CT, baseline_ssim_CT, baseline_psnr_grid_CT, baseline_ssim_grid_CT = run_evaluation(test_dataloader)\n",
        "from tabulate import tabulate\n",
        "\n",
        "results = [[\"Model\", \"MSE\", \"Accuracy\"],\n",
        "           [\"Baseline\",\n",
        "            \"{:.3f}+-{:.2f}\".format(baseline_mse[0], baseline_mse[1]),\n",
        "            \"{:.3f}+-{:.2f}\".format(baseline_acc[0], baseline_acc[1])]\n",
        "            ]\n",
        "\n",
        "results_r = [[\"Model\", \"NN: PSNR\", \"NN: SSIM\",\"NN: PSNR grid\", \"NN: SSIM grid\", \"CT: PSNR\", \"CT: SSIM\",\"CT: PSNR grid\", \"CT: SSIM grid\"],\n",
        "           [\"Baseline\",\n",
        "            \"{:.3f}+-{:.2f}\".format(baseline_psnr[0], baseline_psnr[1]),\n",
        "            \"{:.3f}+-{:.2f}\".format(baseline_ssim[0], baseline_ssim[1]),\n",
        "            \"{:.3f}+-{:.2f}\".format(baseline_psnr_grid[0], baseline_psnr_grid[1]),\n",
        "            \"{:.3f}+-{:.2f}\".format(baseline_ssim_grid[0], baseline_ssim_grid[1]),\n",
        "            \"{:.3f}+-{:.2f}\".format(baseline_psnr_CT[0], baseline_psnr_CT[1]),\n",
        "            \"{:.3f}+-{:.2f}\".format(baseline_ssim_CT[0], baseline_ssim_CT[1]),\n",
        "            \"{:.3f}+-{:.2f}\".format(baseline_psnr_grid_CT[0], baseline_psnr_grid_CT[1]),\n",
        "            \"{:.3f}+-{:.2f}\".format(baseline_ssim_grid_CT[0], baseline_ssim_grid_CT[1])]\n",
        "            ]\n",
        "\n",
        "print(tabulate(results, headers='firstrow', tablefmt='fancy_grid'))\n",
        "print(tabulate(results_r, headers='firstrow', tablefmt='fancy_grid'))"
      ],
      "metadata": {
        "id": "LV3POFjR-WGC",
        "outputId": "6a0043d1-bb2c-4ab9-e603-07db10960ffb",
        "colab": {
          "base_uri": "https://localhost:8080/"
        }
      },
      "execution_count": 24,
      "outputs": [
        {
          "output_type": "stream",
          "name": "stdout",
          "text": [
            "batch 0 / 15\n",
            "batch 1 / 15\n",
            "batch 2 / 15\n",
            "batch 3 / 15\n",
            "batch 4 / 15\n",
            "batch 5 / 15\n",
            "batch 6 / 15\n",
            "batch 7 / 15\n",
            "batch 8 / 15\n",
            "batch 9 / 15\n",
            "batch 10 / 15\n",
            "batch 11 / 15\n",
            "batch 12 / 15\n",
            "batch 13 / 15\n",
            "batch 14 / 15\n",
            "╒══════════╤═════════════════╤═════════════╕\n",
            "│ Model    │ MSE             │ Accuracy    │\n",
            "╞══════════╪═════════════════╪═════════════╡\n",
            "│ Baseline │ 115.655+-291.65 │ 0.953+-0.05 │\n",
            "╘══════════╧═════════════════╧═════════════╛\n",
            "╒══════════╤════════════╤════════════╤═════════════════╤═════════════════╤════════════╤════════════╤═════════════════╤═════════════════╕\n",
            "│ Model    │ NN: PSNR   │ NN: SSIM   │ NN: PSNR grid   │ NN: SSIM grid   │ CT: PSNR   │ CT: SSIM   │ CT: PSNR grid   │ CT: SSIM grid   │\n",
            "╞══════════╪════════════╪════════════╪═════════════════╪═════════════════╪════════════╪════════════╪═════════════════╪═════════════════╡\n",
            "│ Baseline │ nan+-nan   │ nan+-nan   │ 18.961+-2.16    │ 0.692+-0.09     │ nan+-nan   │ nan+-nan   │ 19.670+-2.30    │ 0.730+-0.08     │\n",
            "╘══════════╧════════════╧════════════╧═════════════════╧═════════════════╧════════════╧════════════╧═════════════════╧═════════════════╛\n"
          ]
        },
        {
          "output_type": "stream",
          "name": "stderr",
          "text": [
            "/usr/local/lib/python3.9/dist-packages/numpy/core/fromnumeric.py:3474: RuntimeWarning: Mean of empty slice.\n",
            "  return _methods._mean(a, axis=axis, dtype=dtype,\n",
            "/usr/local/lib/python3.9/dist-packages/numpy/core/_methods.py:189: RuntimeWarning: invalid value encountered in double_scalars\n",
            "  ret = ret.dtype.type(ret / rcount)\n",
            "/usr/local/lib/python3.9/dist-packages/numpy/core/_methods.py:264: RuntimeWarning: Degrees of freedom <= 0 for slice\n",
            "  ret = _var(a, axis=axis, dtype=dtype, out=out, ddof=ddof,\n",
            "/usr/local/lib/python3.9/dist-packages/numpy/core/_methods.py:222: RuntimeWarning: invalid value encountered in true_divide\n",
            "  arrmean = um.true_divide(arrmean, div, out=arrmean, casting='unsafe',\n",
            "/usr/local/lib/python3.9/dist-packages/numpy/core/_methods.py:256: RuntimeWarning: invalid value encountered in double_scalars\n",
            "  ret = ret.dtype.type(ret / rcount)\n"
          ]
        }
      ]
    },
    {
      "cell_type": "markdown",
      "source": [
        "## Model 2A"
      ],
      "metadata": {
        "id": "PQY-ZD3e95t4"
      }
    },
    {
      "cell_type": "code",
      "source": [
        "# load model and evaluate\n",
        "_, _, t_history, v_history = load_checkpoint(\"natural_checkpoint_2023-03-21_0536.pth\")\n",
        "plot_learning_curve(t_history, v_history)\n",
        "m4_mse, m4_acc, m4_psnr, m4_ssim, m4_psnr_grid, m4_ssim_grid, m4_psnr_ct, m4_ssim_ct, m4_psnr_grid_ct, m4_ssim_grid_ct = run_evaluation(test_dataloader, checkpoint_file=\"natural_checkpoint_2023-03-21_0536.pth\")"
      ],
      "metadata": {
        "id": "F7lMW-FW-Aff",
        "outputId": "01a52683-65d7-4ec2-f814-3b42f8981990",
        "colab": {
          "base_uri": "https://localhost:8080/",
          "height": 926
        }
      },
      "execution_count": 22,
      "outputs": [
        {
          "output_type": "stream",
          "name": "stdout",
          "text": [
            "--------------------------------------------------\n",
            "Checkpoint data:\n",
            "Best train loss: 0.779 at epoch 120/121\n",
            "Best valid loss: 3.119 at epoch 60/121\n",
            "Train time 6h\n",
            "--------------------------------------------------\n"
          ]
        },
        {
          "output_type": "display_data",
          "data": {
            "text/plain": [
              "<Figure size 432x288 with 1 Axes>"
            ],
            "image/png": "[encoded data removed]"
          },
          "metadata": {
            "needs_background": "light"
          }
        },
        {
          "output_type": "stream",
          "name": "stdout",
          "text": [
            "--------------------------------------------------\n",
            "Checkpoint data:\n",
            "Best train loss: 0.779 at epoch 120/121\n",
            "Best valid loss: 3.119 at epoch 60/121\n",
            "Train time 6h\n",
            "--------------------------------------------------\n",
            "batch 0 / 15\n",
            "batch 1 / 15\n",
            "batch 2 / 15\n",
            "batch 3 / 15\n",
            "batch 4 / 15\n",
            "batch 5 / 15\n",
            "batch 6 / 15\n",
            "batch 7 / 15\n",
            "batch 8 / 15\n",
            "batch 9 / 15\n",
            "batch 10 / 15\n",
            "batch 11 / 15\n",
            "batch 12 / 15\n",
            "batch 13 / 15\n",
            "batch 14 / 15\n"
          ]
        },
        {
          "output_type": "stream",
          "name": "stderr",
          "text": [
            "/usr/local/lib/python3.9/dist-packages/numpy/core/fromnumeric.py:3474: RuntimeWarning: Mean of empty slice.\n",
            "  return _methods._mean(a, axis=axis, dtype=dtype,\n",
            "/usr/local/lib/python3.9/dist-packages/numpy/core/_methods.py:189: RuntimeWarning: invalid value encountered in double_scalars\n",
            "  ret = ret.dtype.type(ret / rcount)\n",
            "/usr/local/lib/python3.9/dist-packages/numpy/core/_methods.py:264: RuntimeWarning: Degrees of freedom <= 0 for slice\n",
            "  ret = _var(a, axis=axis, dtype=dtype, out=out, ddof=ddof,\n",
            "/usr/local/lib/python3.9/dist-packages/numpy/core/_methods.py:222: RuntimeWarning: invalid value encountered in true_divide\n",
            "  arrmean = um.true_divide(arrmean, div, out=arrmean, casting='unsafe',\n",
            "/usr/local/lib/python3.9/dist-packages/numpy/core/_methods.py:256: RuntimeWarning: invalid value encountered in double_scalars\n",
            "  ret = ret.dtype.type(ret / rcount)\n"
          ]
        }
      ]
    },
    {
      "cell_type": "code",
      "source": [
        "from tabulate import tabulate\n",
        "results = [[\"Model\", \"MSE\", \"Accuracy\",\"PSNR\", \"SSIM\",\"PSNR grid\", \"SSIM grid\"],\n",
        "           [\"Model 1B\",\n",
        "            \"{:.3f}+-{:.2f}\".format(m4_mse[0], m4_mse[1]),\n",
        "            \"{:.3f}+-{:.2f}\".format(m4_acc[0], m4_acc[1])]]\n",
        "\n",
        "results_r = [[\"Model\", \"NN: PSNR\", \"NN: SSIM\",\"NN: PSNR grid\", \"NN: SSIM grid\", \"CT: PSNR\", \"CT: SSIM\",\"CT: PSNR grid\", \"CT: SSIM grid\"],\n",
        "           [\"Baseline\",\n",
        "            \"{:.3f}+-{:.2f}\".format(m4_psnr[0], m4_psnr[1]),\n",
        "            \"{:.3f}+-{:.2f}\".format(m4_ssim[0], m4_ssim[1]),\n",
        "            \"{:.3f}+-{:.2f}\".format(m4_psnr_grid[0], m4_psnr_grid[1]),\n",
        "            \"{:.3f}+-{:.2f}\".format(m4_ssim_grid[0], m4_ssim_grid[1]),\n",
        "            \"{:.3f}+-{:.2f}\".format(m4_psnr_ct[0], m4_psnr_ct[1]),\n",
        "            \"{:.3f}+-{:.2f}\".format(m4_ssim_ct[0], m4_ssim_ct[1]),\n",
        "            \"{:.3f}+-{:.2f}\".format(m4_psnr_grid_ct[0], m4_psnr_grid_ct[1]),\n",
        "            \"{:.3f}+-{:.2f}\".format(m4_ssim_grid_ct[0], m4_ssim_grid_ct[1])]\n",
        "            ]\n",
        "\n",
        "print(tabulate(results, headers='firstrow', tablefmt='fancy_grid'))\n",
        "print(tabulate(results_r, headers='firstrow', tablefmt='fancy_grid'))"
      ],
      "metadata": {
        "id": "797_ij8E-lsx",
        "outputId": "61ca34c8-5498-464a-db64-7becac02d83c",
        "colab": {
          "base_uri": "https://localhost:8080/"
        }
      },
      "execution_count": 23,
      "outputs": [
        {
          "output_type": "stream",
          "name": "stdout",
          "text": [
            "╒══════════╤════════════════╤═════════════╕\n",
            "│ Model    │ MSE            │ Accuracy    │\n",
            "╞══════════╪════════════════╪═════════════╡\n",
            "│ Model 1B │ 43.244+-105.05 │ 0.962+-0.04 │\n",
            "╘══════════╧════════════════╧═════════════╛\n",
            "╒══════════╤════════════╤════════════╤═════════════════╤═════════════════╤════════════╤════════════╤═════════════════╤═════════════════╕\n",
            "│ Model    │ NN: PSNR   │ NN: SSIM   │ NN: PSNR grid   │ NN: SSIM grid   │ CT: PSNR   │ CT: SSIM   │ CT: PSNR grid   │ CT: SSIM grid   │\n",
            "╞══════════╪════════════╪════════════╪═════════════════╪═════════════════╪════════════╪════════════╪═════════════════╪═════════════════╡\n",
            "│ Baseline │ nan+-nan   │ nan+-nan   │ 19.776+-2.02    │ 0.706+-0.09     │ nan+-nan   │ nan+-nan   │ 20.492+-2.12    │ 0.742+-0.08     │\n",
            "╘══════════╧════════════╧════════════╧═════════════════╧═════════════════╧════════════╧════════════╧═════════════════╧═════════════════╛\n"
          ]
        }
      ]
    },
    {
      "cell_type": "markdown",
      "source": [
        "## Model 2B"
      ],
      "metadata": {
        "id": "dln-jignBlg3"
      }
    },
    {
      "cell_type": "code",
      "source": [
        "# load model and evaluate\n",
        "_, _, t_history, v_history = load_checkpoint(\"shift_natural_checkpoint_2023-03-21_1740.pth\")\n",
        "plot_learning_curve(t_history, v_history)\n",
        "m5_mse, m5_acc, m5_psnr, m5_ssim, m5_psnr_grid, m5_ssim_grid, m5_psnr_ct, m5_ssim_ct, m5_psnr_grid_ct, m5_ssim_grid_ct = run_evaluation(test_dataloader, checkpoint_file=\"shift_natural_checkpoint_2023-03-21_1740.pth\")"
      ],
      "metadata": {
        "id": "HyImmgZsBmYv",
        "outputId": "39dbc159-c6cd-4b3a-a6dc-320d5b7ce079",
        "colab": {
          "base_uri": "https://localhost:8080/",
          "height": 926
        }
      },
      "execution_count": 25,
      "outputs": [
        {
          "output_type": "stream",
          "name": "stdout",
          "text": [
            "--------------------------------------------------\n",
            "Checkpoint data:\n",
            "Best train loss: 1.786 at epoch 178/180\n",
            "Best valid loss: 2.999 at epoch 119/180\n",
            "Train time 3h\n",
            "--------------------------------------------------\n"
          ]
        },
        {
          "output_type": "display_data",
          "data": {
            "text/plain": [
              "<Figure size 432x288 with 1 Axes>"
            ],
            "image/png": "[encoded data removed]"
          },
          "metadata": {
            "needs_background": "light"
          }
        },
        {
          "output_type": "stream",
          "name": "stdout",
          "text": [
            "--------------------------------------------------\n",
            "Checkpoint data:\n",
            "Best train loss: 1.786 at epoch 178/180\n",
            "Best valid loss: 2.999 at epoch 119/180\n",
            "Train time 3h\n",
            "--------------------------------------------------\n",
            "batch 0 / 15\n",
            "batch 1 / 15\n",
            "batch 2 / 15\n",
            "batch 3 / 15\n",
            "batch 4 / 15\n",
            "batch 5 / 15\n",
            "batch 6 / 15\n",
            "batch 7 / 15\n",
            "batch 8 / 15\n",
            "batch 9 / 15\n",
            "batch 10 / 15\n",
            "batch 11 / 15\n",
            "batch 12 / 15\n",
            "batch 13 / 15\n",
            "batch 14 / 15\n"
          ]
        },
        {
          "output_type": "stream",
          "name": "stderr",
          "text": [
            "/usr/local/lib/python3.9/dist-packages/numpy/core/fromnumeric.py:3474: RuntimeWarning: Mean of empty slice.\n",
            "  return _methods._mean(a, axis=axis, dtype=dtype,\n",
            "/usr/local/lib/python3.9/dist-packages/numpy/core/_methods.py:189: RuntimeWarning: invalid value encountered in double_scalars\n",
            "  ret = ret.dtype.type(ret / rcount)\n",
            "/usr/local/lib/python3.9/dist-packages/numpy/core/_methods.py:264: RuntimeWarning: Degrees of freedom <= 0 for slice\n",
            "  ret = _var(a, axis=axis, dtype=dtype, out=out, ddof=ddof,\n",
            "/usr/local/lib/python3.9/dist-packages/numpy/core/_methods.py:222: RuntimeWarning: invalid value encountered in true_divide\n",
            "  arrmean = um.true_divide(arrmean, div, out=arrmean, casting='unsafe',\n",
            "/usr/local/lib/python3.9/dist-packages/numpy/core/_methods.py:256: RuntimeWarning: invalid value encountered in double_scalars\n",
            "  ret = ret.dtype.type(ret / rcount)\n"
          ]
        }
      ]
    },
    {
      "cell_type": "code",
      "source": [
        "from tabulate import tabulate\n",
        "results = [[\"Model\", \"MSE\", \"Accuracy\",\"PSNR\", \"SSIM\",\"PSNR grid\", \"SSIM grid\"],\n",
        "           [\"Model 2B\",\n",
        "            \"{:.3f}+-{:.2f}\".format(m5_mse[0], m5_mse[1]),\n",
        "            \"{:.3f}+-{:.2f}\".format(m5_acc[0], m5_acc[1])]]\n",
        "\n",
        "results_r = [[\"Model\", \"NN: PSNR\", \"NN: SSIM\",\"NN: PSNR grid\", \"NN: SSIM grid\", \"CT: PSNR\", \"CT: SSIM\",\"CT: PSNR grid\", \"CT: SSIM grid\"],\n",
        "           [\"Baseline\",\n",
        "            \"{:.3f}+-{:.2f}\".format(m5_psnr[0], m5_psnr[1]),\n",
        "            \"{:.3f}+-{:.2f}\".format(m5_ssim[0], m5_ssim[1]),\n",
        "            \"{:.3f}+-{:.2f}\".format(m5_psnr_grid[0], m5_psnr_grid[1]),\n",
        "            \"{:.3f}+-{:.2f}\".format(m5_ssim_grid[0], m5_ssim_grid[1]),\n",
        "            \"{:.3f}+-{:.2f}\".format(m5_psnr_ct[0], m5_psnr_ct[1]),\n",
        "            \"{:.3f}+-{:.2f}\".format(m5_ssim_ct[0], m5_ssim_ct[1]),\n",
        "            \"{:.3f}+-{:.2f}\".format(m5_psnr_grid_ct[0], m5_psnr_grid_ct[1]),\n",
        "            \"{:.3f}+-{:.2f}\".format(m5_ssim_grid_ct[0], m5_ssim_grid_ct[1])]\n",
        "            ]\n",
        "\n",
        "print(tabulate(results, headers='firstrow', tablefmt='fancy_grid'))\n",
        "print(tabulate(results_r, headers='firstrow', tablefmt='fancy_grid'))"
      ],
      "metadata": {
        "id": "IcgG5-CBBz8A",
        "outputId": "f3b17abc-387a-4030-d993-3de34d703e69",
        "colab": {
          "base_uri": "https://localhost:8080/"
        }
      },
      "execution_count": 26,
      "outputs": [
        {
          "output_type": "stream",
          "name": "stdout",
          "text": [
            "╒══════════╤═══════════════╤═════════════╕\n",
            "│ Model    │ MSE           │ Accuracy    │\n",
            "╞══════════╪═══════════════╪═════════════╡\n",
            "│ Model 2B │ 39.258+-90.07 │ 0.962+-0.04 │\n",
            "╘══════════╧═══════════════╧═════════════╛\n",
            "╒══════════╤════════════╤════════════╤═════════════════╤═════════════════╤════════════╤════════════╤═════════════════╤═════════════════╕\n",
            "│ Model    │ NN: PSNR   │ NN: SSIM   │ NN: PSNR grid   │ NN: SSIM grid   │ CT: PSNR   │ CT: SSIM   │ CT: PSNR grid   │ CT: SSIM grid   │\n",
            "╞══════════╪════════════╪════════════╪═════════════════╪═════════════════╪════════════╪════════════╪═════════════════╪═════════════════╡\n",
            "│ Baseline │ nan+-nan   │ nan+-nan   │ 19.740+-2.00    │ 0.705+-0.09     │ nan+-nan   │ nan+-nan   │ 20.426+-2.09    │ 0.740+-0.08     │\n",
            "╘══════════╧════════════╧════════════╧═════════════════╧═════════════════╧════════════╧════════════╧═════════════════╧═════════════════╛\n"
          ]
        }
      ]
    }
  ],
  "metadata": {
    "accelerator": "GPU",
    "colab": {
      "provenance": [],
      "collapsed_sections": [
        "-77Gz3FYqZSA"
      ],
      "authorship_tag": "ABX9TyO7vgtGW6W8RaFABsh0p6uv"
    },
    "gpuClass": "standard",
    "kernelspec": {
      "display_name": "Python 3",
      "name": "python3"
    },
    "language_info": {
      "name": "python"
    },
    "widgets": {
      "application/vnd.jupyter.widget-state+json": {
        "c14ce4c26606411e84ae85061b8a9818": {
          "model_module": "@jupyter-widgets/controls",
          "model_name": "HBoxModel",
          "model_module_version": "1.5.0",
          "state": {
            "_dom_classes": [],
            "_model_module": "@jupyter-widgets/controls",
            "_model_module_version": "1.5.0",
            "_model_name": "HBoxModel",
            "_view_count": null,
            "_view_module": "@jupyter-widgets/controls",
            "_view_module_version": "1.5.0",
            "_view_name": "HBoxView",
            "box_style": "",
            "children": [
              "IPY_MODEL_c5562fe3a0a14a97b0f0e29c687c4943",
              "IPY_MODEL_6794109dfd254c2e951644eaa3d98f78",
              "IPY_MODEL_56545b6b11234ad6b9df1653843384ac"
            ],
            "layout": "IPY_MODEL_d178ddb5215b4b0695dabf5221e1648b"
          }
        },
        "c5562fe3a0a14a97b0f0e29c687c4943": {
          "model_module": "@jupyter-widgets/controls",
          "model_name": "HTMLModel",
          "model_module_version": "1.5.0",
          "state": {
            "_dom_classes": [],
            "_model_module": "@jupyter-widgets/controls",
            "_model_module_version": "1.5.0",
            "_model_name": "HTMLModel",
            "_view_count": null,
            "_view_module": "@jupyter-widgets/controls",
            "_view_module_version": "1.5.0",
            "_view_name": "HTMLView",
            "description": "",
            "description_tooltip": null,
            "layout": "IPY_MODEL_d165cc8ec1634d208f36824046b6c315",
            "placeholder": "​",
            "style": "IPY_MODEL_5d36d21f1c824ef48577005dd07379f5",
            "value": "100%"
          }
        },
        "6794109dfd254c2e951644eaa3d98f78": {
          "model_module": "@jupyter-widgets/controls",
          "model_name": "FloatProgressModel",
          "model_module_version": "1.5.0",
          "state": {
            "_dom_classes": [],
            "_model_module": "@jupyter-widgets/controls",
            "_model_module_version": "1.5.0",
            "_model_name": "FloatProgressModel",
            "_view_count": null,
            "_view_module": "@jupyter-widgets/controls",
            "_view_module_version": "1.5.0",
            "_view_name": "ProgressView",
            "bar_style": "success",
            "description": "",
            "description_tooltip": null,
            "layout": "IPY_MODEL_e58071f0efb74906af1dfb308c02dc99",
            "max": 141567418,
            "min": 0,
            "orientation": "horizontal",
            "style": "IPY_MODEL_a30d4b89055f48b6b0b6e2257ca99cfd",
            "value": 141567418
          }
        },
        "56545b6b11234ad6b9df1653843384ac": {
          "model_module": "@jupyter-widgets/controls",
          "model_name": "HTMLModel",
          "model_module_version": "1.5.0",
          "state": {
            "_dom_classes": [],
            "_model_module": "@jupyter-widgets/controls",
            "_model_module_version": "1.5.0",
            "_model_name": "HTMLModel",
            "_view_count": null,
            "_view_module": "@jupyter-widgets/controls",
            "_view_module_version": "1.5.0",
            "_view_name": "HTMLView",
            "description": "",
            "description_tooltip": null,
            "layout": "IPY_MODEL_72bb48e05f1f48c09fcfb95555bb527e",
            "placeholder": "​",
            "style": "IPY_MODEL_1649cb1ad5124e6bbd5bb37b6eb40076",
            "value": " 135M/135M [00:00&lt;00:00, 278MB/s]"
          }
        },
        "d178ddb5215b4b0695dabf5221e1648b": {
          "model_module": "@jupyter-widgets/base",
          "model_name": "LayoutModel",
          "model_module_version": "1.2.0",
          "state": {
            "_model_module": "@jupyter-widgets/base",
            "_model_module_version": "1.2.0",
            "_model_name": "LayoutModel",
            "_view_count": null,
            "_view_module": "@jupyter-widgets/base",
            "_view_module_version": "1.2.0",
            "_view_name": "LayoutView",
            "align_content": null,
            "align_items": null,
            "align_self": null,
            "border": null,
            "bottom": null,
            "display": null,
            "flex": null,
            "flex_flow": null,
            "grid_area": null,
            "grid_auto_columns": null,
            "grid_auto_flow": null,
            "grid_auto_rows": null,
            "grid_column": null,
            "grid_gap": null,
            "grid_row": null,
            "grid_template_areas": null,
            "grid_template_columns": null,
            "grid_template_rows": null,
            "height": null,
            "justify_content": null,
            "justify_items": null,
            "left": null,
            "margin": null,
            "max_height": null,
            "max_width": null,
            "min_height": null,
            "min_width": null,
            "object_fit": null,
            "object_position": null,
            "order": null,
            "overflow": null,
            "overflow_x": null,
            "overflow_y": null,
            "padding": null,
            "right": null,
            "top": null,
            "visibility": null,
            "width": null
          }
        },
        "d165cc8ec1634d208f36824046b6c315": {
          "model_module": "@jupyter-widgets/base",
          "model_name": "LayoutModel",
          "model_module_version": "1.2.0",
          "state": {
            "_model_module": "@jupyter-widgets/base",
            "_model_module_version": "1.2.0",
            "_model_name": "LayoutModel",
            "_view_count": null,
            "_view_module": "@jupyter-widgets/base",
            "_view_module_version": "1.2.0",
            "_view_name": "LayoutView",
            "align_content": null,
            "align_items": null,
            "align_self": null,
            "border": null,
            "bottom": null,
            "display": null,
            "flex": null,
            "flex_flow": null,
            "grid_area": null,
            "grid_auto_columns": null,
            "grid_auto_flow": null,
            "grid_auto_rows": null,
            "grid_column": null,
            "grid_gap": null,
            "grid_row": null,
            "grid_template_areas": null,
            "grid_template_columns": null,
            "grid_template_rows": null,
            "height": null,
            "justify_content": null,
            "justify_items": null,
            "left": null,
            "margin": null,
            "max_height": null,
            "max_width": null,
            "min_height": null,
            "min_width": null,
            "object_fit": null,
            "object_position": null,
            "order": null,
            "overflow": null,
            "overflow_x": null,
            "overflow_y": null,
            "padding": null,
            "right": null,
            "top": null,
            "visibility": null,
            "width": null
          }
        },
        "5d36d21f1c824ef48577005dd07379f5": {
          "model_module": "@jupyter-widgets/controls",
          "model_name": "DescriptionStyleModel",
          "model_module_version": "1.5.0",
          "state": {
            "_model_module": "@jupyter-widgets/controls",
            "_model_module_version": "1.5.0",
            "_model_name": "DescriptionStyleModel",
            "_view_count": null,
            "_view_module": "@jupyter-widgets/base",
            "_view_module_version": "1.2.0",
            "_view_name": "StyleView",
            "description_width": ""
          }
        },
        "e58071f0efb74906af1dfb308c02dc99": {
          "model_module": "@jupyter-widgets/base",
          "model_name": "LayoutModel",
          "model_module_version": "1.2.0",
          "state": {
            "_model_module": "@jupyter-widgets/base",
            "_model_module_version": "1.2.0",
            "_model_name": "LayoutModel",
            "_view_count": null,
            "_view_module": "@jupyter-widgets/base",
            "_view_module_version": "1.2.0",
            "_view_name": "LayoutView",
            "align_content": null,
            "align_items": null,
            "align_self": null,
            "border": null,
            "bottom": null,
            "display": null,
            "flex": null,
            "flex_flow": null,
            "grid_area": null,
            "grid_auto_columns": null,
            "grid_auto_flow": null,
            "grid_auto_rows": null,
            "grid_column": null,
            "grid_gap": null,
            "grid_row": null,
            "grid_template_areas": null,
            "grid_template_columns": null,
            "grid_template_rows": null,
            "height": null,
            "justify_content": null,
            "justify_items": null,
            "left": null,
            "margin": null,
            "max_height": null,
            "max_width": null,
            "min_height": null,
            "min_width": null,
            "object_fit": null,
            "object_position": null,
            "order": null,
            "overflow": null,
            "overflow_x": null,
            "overflow_y": null,
            "padding": null,
            "right": null,
            "top": null,
            "visibility": null,
            "width": null
          }
        },
        "a30d4b89055f48b6b0b6e2257ca99cfd": {
          "model_module": "@jupyter-widgets/controls",
          "model_name": "ProgressStyleModel",
          "model_module_version": "1.5.0",
          "state": {
            "_model_module": "@jupyter-widgets/controls",
            "_model_module_version": "1.5.0",
            "_model_name": "ProgressStyleModel",
            "_view_count": null,
            "_view_module": "@jupyter-widgets/base",
            "_view_module_version": "1.2.0",
            "_view_name": "StyleView",
            "bar_color": null,
            "description_width": ""
          }
        },
        "72bb48e05f1f48c09fcfb95555bb527e": {
          "model_module": "@jupyter-widgets/base",
          "model_name": "LayoutModel",
          "model_module_version": "1.2.0",
          "state": {
            "_model_module": "@jupyter-widgets/base",
            "_model_module_version": "1.2.0",
            "_model_name": "LayoutModel",
            "_view_count": null,
            "_view_module": "@jupyter-widgets/base",
            "_view_module_version": "1.2.0",
            "_view_name": "LayoutView",
            "align_content": null,
            "align_items": null,
            "align_self": null,
            "border": null,
            "bottom": null,
            "display": null,
            "flex": null,
            "flex_flow": null,
            "grid_area": null,
            "grid_auto_columns": null,
            "grid_auto_flow": null,
            "grid_auto_rows": null,
            "grid_column": null,
            "grid_gap": null,
            "grid_row": null,
            "grid_template_areas": null,
            "grid_template_columns": null,
            "grid_template_rows": null,
            "height": null,
            "justify_content": null,
            "justify_items": null,
            "left": null,
            "margin": null,
            "max_height": null,
            "max_width": null,
            "min_height": null,
            "min_width": null,
            "object_fit": null,
            "object_position": null,
            "order": null,
            "overflow": null,
            "overflow_x": null,
            "overflow_y": null,
            "padding": null,
            "right": null,
            "top": null,
            "visibility": null,
            "width": null
          }
        },
        "1649cb1ad5124e6bbd5bb37b6eb40076": {
          "model_module": "@jupyter-widgets/controls",
          "model_name": "DescriptionStyleModel",
          "model_module_version": "1.5.0",
          "state": {
            "_model_module": "@jupyter-widgets/controls",
            "_model_module_version": "1.5.0",
            "_model_name": "DescriptionStyleModel",
            "_view_count": null,
            "_view_module": "@jupyter-widgets/base",
            "_view_module_version": "1.2.0",
            "_view_name": "StyleView",
            "description_width": ""
          }
        }
      }
    }
  },
  "nbformat": 4,
  "nbformat_minor": 0
}