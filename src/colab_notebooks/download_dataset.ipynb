{
  "nbformat": 4,
  "nbformat_minor": 0,
  "metadata": {
    "colab": {
      "provenance": [],
      "collapsed_sections": [],
      "authorship_tag": "ABX9TyMonTybgNINeeLwzthDnF8X"
    },
    "kernelspec": {
      "name": "python3",
      "display_name": "Python 3"
    },
    "language_info": {
      "name": "python"
    }
  },
  "cells": [
    {
      "cell_type": "code",
      "source": [
        "# connecting drive to colab notebook\n",
        "from google.colab import drive\n",
        "drive.mount('/content/drive')"
      ],
      "metadata": {
        "id": "uey4jQnTV9Qf"
      },
      "execution_count": null,
      "outputs": []
    },
    {
      "cell_type": "code",
      "execution_count": null,
      "metadata": {
        "id": "hbvzjUnBVLz_"
      },
      "outputs": [],
      "source": [
        "# bash scripts taken from https://github.com/gsssrao/youtube-8m-videos-frames\n",
        "# installing dependencies\n",
        "!sudo -H pip install --upgrade youtube-dl\n",
        "!apt install ffmpeg"
      ]
    },
    {
      "cell_type": "code",
      "source": [
        "# change working directory\n",
        "%cd drive/MyDrive/youtube-8m-videos-frames"
      ],
      "metadata": {
        "id": "5e-l0vD-u__p"
      },
      "execution_count": null,
      "outputs": []
    },
    {
      "cell_type": "code",
      "source": [
        "# downloading 150 videos from youtube dataset of Tai chi cateory (specified in selectedcategories.txt)\n",
        "# a troll video is being downloaded at the end, make sure to stop the execution then\n",
        "!bash downloadmulticategoryvideos.sh 150 selectedcategories.txt"
      ],
      "metadata": {
        "id": "IOzEedmUteAi"
      },
      "execution_count": null,
      "outputs": []
    },
    {
      "cell_type": "code",
      "source": [
        "# change working directory and create folder to store the frames in\n",
        "%cd /content\n",
        "!mkdir frames"
      ],
      "metadata": {
        "id": "z0PT6_xH5gfj"
      },
      "execution_count": null,
      "outputs": []
    },
    {
      "cell_type": "code",
      "source": [
        "# generate .jpg frames from the videos in /videos folder and store them in the frames folder\n",
        "!bash \"drive/MyDrive/youtube-8m-videos-frames/generateframesfromvideos.sh\" \"drive/MyDrive/youtube-8m-videos-frames/videos\" frames jpg"
      ],
      "metadata": {
        "id": "SRr-txfNVoJ8"
      },
      "execution_count": null,
      "outputs": []
    },
    {
      "cell_type": "code",
      "source": [
        "# zip the folder\n",
        "!zip -r /content/frames2.zip /content/frames"
      ],
      "metadata": {
        "id": "ZPUJ_4wJ9J-1"
      },
      "execution_count": null,
      "outputs": []
    },
    {
      "cell_type": "code",
      "source": [
        "# copy zip file to drive\n",
        "!cp frames2.zip /content/drive/MyDrive/"
      ],
      "metadata": {
        "id": "a9JVJffDB_xt"
      },
      "execution_count": 5,
      "outputs": []
    },
    {
      "cell_type": "code",
      "source": [
        "# alternatively download the zip file\n",
        "from google.colab import files\n",
        "files.download('/content/frames.zip')"
      ],
      "metadata": {
        "id": "b2EzW0kIBBKe"
      },
      "execution_count": null,
      "outputs": []
    },
    {
      "cell_type": "code",
      "source": [
        "# check the size of the zip file\n",
        "!du -h frames.zip"
      ],
      "metadata": {
        "id": "bHChSZgxFBQy"
      },
      "execution_count": null,
      "outputs": []
    },
    {
      "cell_type": "markdown",
      "source": [],
      "metadata": {
        "id": "M6k-6lrcA2gA"
      }
    }
  ]
}
