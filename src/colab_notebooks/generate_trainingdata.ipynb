{
  "cells": [
    {
      "cell_type": "markdown",
      "source": [
        "# Script for Generating Training Data from Frames using PIPs\n",
        "https://github.com/aharley/pips"
      ],
      "metadata": {
        "id": "7aDztnqsvgfZ"
      },
      "id": "7aDztnqsvgfZ"
    },
    {
      "cell_type": "markdown",
      "source": [
        "## Initial set up\n",
        "Connection to MyDrive, requirements, imports, downloading models weights"
      ],
      "metadata": {
        "id": "II3QRFFivngi"
      },
      "id": "II3QRFFivngi"
    },
    {
      "cell_type": "code",
      "execution_count": 1,
      "id": "239cca92",
      "metadata": {
        "id": "239cca92",
        "outputId": "7697e2e0-3103-452b-c3a3-b9432df5156b",
        "colab": {
          "base_uri": "https://localhost:8080/"
        }
      },
      "outputs": [
        {
          "output_type": "stream",
          "name": "stdout",
          "text": [
            "Mounted at /content/drive\n"
          ]
        }
      ],
      "source": [
        "# connecting drive to colab notebook\n",
        "from google.colab import drive\n",
        "drive.mount('/content/drive')"
      ]
    },
    {
      "cell_type": "code",
      "source": [
        "# installing requirements\n",
        "!pip install imageio==2.19.3\n",
        "!pip install opencv-python==4.6.0.66\n",
        "!pip install einops==0.4.1\n",
        "!pip install scikit-learn==1.1.1\n",
        "!pip install matplotlib==3.5.1\n",
        "!pip install protobuf==3.20.0\n",
        "!pip install fire==0.4.0"
      ],
      "metadata": {
        "id": "daqRwkpfAq6L"
      },
      "id": "daqRwkpfAq6L",
      "execution_count": null,
      "outputs": []
    },
    {
      "cell_type": "code",
      "source": [
        "import sys\n",
        "sys.path.append('/content/drive/MyDrive/drive_folder/pips')\n",
        "import time\n",
        "import numpy as np\n",
        "import io\n",
        "import os\n",
        "from PIL import Image\n",
        "import cv2\n",
        "import saverloader\n",
        "from nets.pips import Pips\n",
        "import utils.improc\n",
        "import random\n",
        "import glob\n",
        "from utils.basic import print_, print_stats\n",
        "import torch\n",
        "import torch.nn.functional as F\n",
        "import matplotlib.pyplot as plt\n",
        "import gc\n",
        "import imageio.v2 as imageio\n",
        "from csv import writer\n",
        "# imports pytorch\n",
        "import torch"
      ],
      "metadata": {
        "id": "O_R-IzS1EPcy"
      },
      "id": "O_R-IzS1EPcy",
      "execution_count": 4,
      "outputs": []
    },
    {
      "cell_type": "code",
      "source": [
        "# downloading their reference model\n",
        "!bash /content/drive/MyDrive/drive_folder/pips/get_reference_model.sh"
      ],
      "metadata": {
        "id": "VngwyXNrAuQd"
      },
      "id": "VngwyXNrAuQd",
      "execution_count": null,
      "outputs": []
    },
    {
      "cell_type": "markdown",
      "source": [
        "## Loading zip folder with data frames\n",
        "used to compute particle flow"
      ],
      "metadata": {
        "id": "R9V-6CiZvycm"
      },
      "id": "R9V-6CiZvycm"
    },
    {
      "cell_type": "code",
      "source": [
        "DATA_DIR = \"frames\" # specify the name of the data folder located in drive\n",
        "!unzip -d \"$DATA_DIR\"/ /content/drive/MyDrive/\"$DATA_DIR\".zip # unziping frames"
      ],
      "metadata": {
        "id": "lLBW0C-an9sl"
      },
      "id": "lLBW0C-an9sl",
      "execution_count": null,
      "outputs": []
    },
    {
      "cell_type": "code",
      "source": [
        "# List of videos to go through\n",
        "videos_list = [f for f in os.listdir(DATA_DIR+'/content/frames/') if not f.startswith('.')]\n",
        "print(videos_list)"
      ],
      "metadata": {
        "id": "_DmrwfqCnJVH"
      },
      "id": "_DmrwfqCnJVH",
      "execution_count": null,
      "outputs": []
    },
    {
      "cell_type": "markdown",
      "source": [
        "## Generating training data"
      ],
      "metadata": {
        "id": "qBTvq9aKwUkL"
      },
      "id": "qBTvq9aKwUkL"
    },
    {
      "cell_type": "markdown",
      "source": [
        "## Helper functions"
      ],
      "metadata": {
        "id": "3IobyVPxiz-c"
      },
      "id": "3IobyVPxiz-c"
    },
    {
      "cell_type": "code",
      "source": [
        "def img_to_array(tensor_img):\n",
        "  \"\"\"\n",
        "  Change tensor to numpy array for storing of images\n",
        "  - resizing to 640x360 (to match coords resolution)\n",
        "  - normalising pixel value to range 0-1 (required for input to FCN ResNet-50)\n",
        "  \"\"\"\n",
        "  x = tensor_img.permute(1, 2, 0).numpy()\n",
        "  x = cv2.resize(x, (640, 360))\n",
        "  x = x.astype(float) / 255\n",
        "  return x\n",
        "\n",
        "def save_data(sample_id, frame0, frame3, frame7, trajs, vis):\n",
        "  \"\"\"\n",
        "  Saving\n",
        "  - coordinates to COORDS_DIR as .npy files\n",
        "  - visibility of coordinates to VIS_DIR as .npy files\n",
        "  - 0th frames to FRAME0_DIR directory as .npy files\n",
        "  - 7th frames to FRAME7_DIR directory as .npy files\n",
        "  \n",
        "  - Coordinates, visibility and frames are mapped with sample_id, all sample_ids are stored in sample_ids.txt\n",
        "  \"\"\"\n",
        "  img0 = img_to_array(frame0) # transform 0th frame to array\n",
        "  img3 = img_to_array(frame3) # transform 2nd frame to array\n",
        "  img7 = img_to_array(frame7) # tranform last frame (8th) to array\n",
        "  coords = trajs.cpu().numpy()\n",
        "  vis = vis.cpu().numpy()\n",
        "\n",
        "  # Store coords, frame0, frame1\n",
        "  np.save(COORDS_DIR+sample_id, coords)\n",
        "  np.save(VIS_DIR+sample_id, vis)\n",
        "  np.save(FRAME0_DIR+sample_id, img0)\n",
        "  np.save(FRAME3_DIR+sample_id, img3)\n",
        "  np.save(FRAME7_DIR+sample_id, img7)\n",
        "\n",
        "  # Add sample_id to log list\n",
        "  LOG_LIST.append(sample_id)\n",
        "  save_log(LOG_LIST)\n",
        "\n",
        "def save_log(log_list):\n",
        "  with open(LOG_FILE, \"w\") as outfile:\n",
        "    outfile.write(\"\\n\".join(log_list))"
      ],
      "metadata": {
        "id": "7JZqCwd8iw4D"
      },
      "id": "7JZqCwd8iw4D",
      "execution_count": null,
      "outputs": []
    },
    {
      "cell_type": "markdown",
      "source": [
        "## PIPs implementation"
      ],
      "metadata": {
        "id": "Rp5xw41PJcEu"
      },
      "id": "Rp5xw41PJcEu"
    },
    {
      "cell_type": "code",
      "source": [
        "def create_model(model_weights):\n",
        "  model = Pips(stride=4).cuda()\n",
        "  parameters = list(model.parameters())\n",
        "  _ = saverloader.load(model_weights, model)\n",
        "  global_step = 0\n",
        "  model.eval()\n",
        "  return model\n",
        "\n",
        "def run_model(model, rgbs, N, split):\n",
        "    rgbs = rgbs.cuda().float() # B, S, C, H, W\n",
        "\n",
        "    B, S, C, H, W = rgbs.shape\n",
        "    rgbs_ = rgbs.reshape(B*S, C, H, W)\n",
        "    H_, W_ = 360, 640\n",
        "    rgbs_ = F.interpolate(rgbs_, (H_, W_), mode='bilinear')\n",
        "    H, W = H_, W_\n",
        "    rgbs = rgbs_.reshape(B, S, C, H, W)\n",
        "\n",
        "    # Pick N points to track; we'll use a uniform grid\n",
        "    N_ = np.sqrt(N).round().astype(np.int32)\n",
        "    grid_y, grid_x = utils.basic.meshgrid2d(B, N_, N_, stack=False, norm=False, device='cuda')\n",
        "    grid_y = 8 + grid_y.reshape(B, -1)/float(N_-1) * (H-16)\n",
        "    grid_x = 8 + grid_x.reshape(B, -1)/float(N_-1) * (W-16)\n",
        "    xy = torch.stack([grid_x, grid_y], dim=-1) # B, N_*N_, 2\n",
        "    _, S, C, H, W = rgbs.shape\n",
        "\n",
        "    print_stats('rgbs', rgbs)\n",
        "\n",
        "    # Splitting grid of points into tensors of size 1500 along dim=1\n",
        "    if split:\n",
        "       xy_split = torch.split(xy, 1500, dim=1)\n",
        "       preds_split = []\n",
        "       vis_split = []\n",
        "\n",
        "      # For each splitted point compute trajs\n",
        "       for i in range(len(xy_split)):\n",
        "         preds, preds_anim, vis, stats = model(xy_split[i], rgbs, iters=6)\n",
        "         preds_split.append(preds[-1])\n",
        "         vis_split.append(vis[-1])\n",
        "\n",
        "       # Put trajs back together\n",
        "       trajs_e = torch.cat(preds_split, 2)\n",
        "       vis_e = torch.cat(vis_split, 1).unsqueeze(0)\n",
        "       \n",
        "\n",
        "    else:\n",
        "      preds, preds_anim, vis, stats = model(xy, rgbs, iters=6)\n",
        "      # preds is a list of torch tensors \n",
        "      trajs_e = preds[-1] # tensor of shape (frames, tracking points, 2)\n",
        "      vis_e = vis\n",
        "\n",
        "    print_stats('vis_e', vis_e)\n",
        "    return trajs_e[:,-1,:,:], vis_e[:,-1,:]\n",
        "\n",
        "def generate_training_data(pips_model, video_name, n, split=True):\n",
        "    model = pips_model\n",
        "    \n",
        "    # Choose hyps\n",
        "    B = 1\n",
        "    S = 8\n",
        "    N = n**2 # number of points to track\n",
        "\n",
        "    # Get frames of a file\n",
        "    filenames = glob.glob(DATA_DIR+'/content/frames/'+video_name+'/frames/*.jpg')\n",
        "    filenames = sorted(filenames)\n",
        "\n",
        "    # Remove every second frame from a list\n",
        "    n = 2\n",
        "    del filenames[n - 1::n]\n",
        "\n",
        "    max_iters = (len(filenames)//S)-100 # run each unique subsequence\n",
        "    global_step = 100\n",
        "\n",
        "    # Run model each of 8 frames, from frame 100 to frame end-100 (to avoid titles in the video)\n",
        "    while global_step < max_iters:\n",
        "        global_step += 1\n",
        "        \n",
        "        try:\n",
        "            rgbs = []\n",
        "            sample_id = video_name[-11:]+\"_\"+str((global_step-1)*S)\n",
        "            print(\"sample {}: step {}/{}\".format(sample_id, global_step, max_iters))\n",
        "\n",
        "            # Skip generating this sample if it is already in the log list\n",
        "            if sample_id in LOG_LIST:\n",
        "                  print(sample_id+\" already in log list\")\n",
        "                  continue\n",
        "\n",
        "            for s in range(S):\n",
        "                frame_num = (global_step-1)*S+s\n",
        "                fn = filenames[frame_num]\n",
        "                if s==0:\n",
        "                    print('start frame', fn)\n",
        "                im = imageio.imread(fn)\n",
        "                im = im.astype(np.uint8)\n",
        "                im = torch.from_numpy(im).permute(2,0,1)\n",
        "                rgbs.append(im)\n",
        "            rgbs = torch.stack(rgbs, dim=0).unsqueeze(0) # 1, S, C, H, W\n",
        "\n",
        "            with torch.no_grad():\n",
        "                trajs_e, vis_e = run_model(model, rgbs, N, split)\n",
        "\n",
        "            # Store img0, img3 and img7 (first, middle and last frame) and trajs_e, vis_e\n",
        "            save_data(sample_id, rgbs[0][0], rgbs[0][3], rgbs[0][-1], trajs_e, vis_e)\n",
        "\n",
        "        except FileNotFoundError as e:\n",
        "            print('error', e)"
      ],
      "metadata": {
        "id": "jWzwnNKZKFyj"
      },
      "id": "jWzwnNKZKFyj",
      "execution_count": null,
      "outputs": []
    },
    {
      "cell_type": "code",
      "source": [
        "model = create_model('reference_model')"
      ],
      "metadata": {
        "id": "LTZQnKzeKl6r"
      },
      "id": "LTZQnKzeKl6r",
      "execution_count": null,
      "outputs": []
    },
    {
      "cell_type": "markdown",
      "source": [
        "## Creating/Loading folder to store data in"
      ],
      "metadata": {
        "id": "YYg8VkJJJh0P"
      },
      "id": "YYg8VkJJJh0P"
    },
    {
      "cell_type": "code",
      "source": [
        "# Run this cell if you want to create a new dataset,\n",
        "# will create a folder to store training data in\n",
        "!rm -r training_data\n",
        "!mkdir training_data\n",
        "!mkdir training_data/frame0/\n",
        "!mkdir training_data/frame3/\n",
        "!mkdir training_data/frame7/\n",
        "!mkdir training_data/coords/\n",
        "!mkdir training_data/vis/\n",
        "!touch training_data/sample_ids.txt\n",
        "PATH = \"/content/training_data\""
      ],
      "metadata": {
        "id": "4cZ_q9I6tBNj",
        "outputId": "2881c6ea-7a43-49fd-9a14-6b9493e7edef",
        "colab": {
          "base_uri": "https://localhost:8080/"
        }
      },
      "id": "4cZ_q9I6tBNj",
      "execution_count": null,
      "outputs": [
        {
          "output_type": "stream",
          "name": "stdout",
          "text": [
            "rm: cannot remove 'training_data': No such file or directory\n"
          ]
        }
      ]
    },
    {
      "cell_type": "code",
      "source": [
        "# Run this cell if we want to use an old training data folder\n",
        "# specify the name of the data folder located in drive\n",
        "TRAIN_DATA_DIR = \"full_dataset_2023-02-18\"\n",
        "!unzip -d \"$TRAIN_DATA_DIR\"/ /content/drive/MyDrive/\"$TRAIN_DATA_DIR\".zip\n",
        "\n",
        "# Set path to that folder\n",
        "PATH = \"/content/\"+TRAIN_DATA_DIR"
      ],
      "metadata": {
        "id": "O1J89KpEaKfw"
      },
      "id": "O1J89KpEaKfw",
      "execution_count": null,
      "outputs": []
    },
    {
      "cell_type": "code",
      "source": [
        "TRANING_DATA_DIR = PATH+\"/\"\n",
        "COORDS_DIR = PATH+\"/coords/\"\n",
        "VIS_DIR = PATH+\"/vis/\"\n",
        "FRAME0_DIR= PATH+\"/frame0/\"\n",
        "FRAME3_DIR= PATH+\"/frame3/\"\n",
        "FRAME7_DIR= PATH+\"/frame7/\"\n",
        "LOG_FILE = PATH+\"/sample_ids.txt\"\n",
        "LOG_LIST = open(LOG_FILE).read().splitlines()"
      ],
      "metadata": {
        "id": "lyp0MVe7uWwf"
      },
      "id": "lyp0MVe7uWwf",
      "execution_count": 6,
      "outputs": []
    },
    {
      "cell_type": "markdown",
      "source": [
        "### Deleting corrupted files"
      ],
      "metadata": {
        "id": "KB1uI5VXuz4o"
      },
      "id": "KB1uI5VXuz4o"
    },
    {
      "cell_type": "code",
      "source": [
        "import os\n",
        "import fnmatch\n",
        "corrupted = [\"-CR4xjdQbkc\", \"MGYF1aDwUKg\", \"vB8XTJfV4rY\", \"KjMxdYJOwqI\", \"asL3ZyuNeB0\", \"KMO1BluPtU4\", \"sm6-dbG5Rho\"]\n",
        "folders = ['/frame0/', '/frame3/', '/frame7/', '/coords/', '/vis/']\n",
        "for c in corrupted:\n",
        "  print(c)\n",
        "  for folder in folders:\n",
        "    for file in os.listdir(PATH+folder):\n",
        "      if fnmatch.fnmatch(file, c+'*.npy'):\n",
        "        os.remove(PATH+folder+'/'+file)"
      ],
      "metadata": {
        "id": "b4yi7tc_qOGi"
      },
      "id": "b4yi7tc_qOGi",
      "execution_count": null,
      "outputs": []
    },
    {
      "cell_type": "markdown",
      "source": [
        "## Generating data"
      ],
      "metadata": {
        "id": "LxUcvQog0_ke"
      },
      "id": "LxUcvQog0_ke"
    },
    {
      "cell_type": "code",
      "source": [
        "videos_part1 = ['Tai chiKunlun Si Xiang Quan Demonstrated by Huang Shuanqing--CR4xjdQbkc', #corrupted\n",
        "                'Tai chi陈式太极拳五十六式-vB8XTJfV4rY', # corrupted\n",
        "                'Tai chiTrần thức giản hóa do Vs - Thiều Ngọc Sơn diễn luyện.-MGYF1aDwUKg', #corrupted\n",
        "                'Tai chiYang Taijiquan 16 vorm-KjMxdYJOwqI', #corrupted\n",
        "                ]\n",
        "\n",
        "for v in videos_part1:\n",
        "  print(\"Now generating training data for {}.\".format(v))\n",
        "  generate_training_data(model, v, n=64)"
      ],
      "metadata": {
        "id": "HNvo9dPWXfmz"
      },
      "id": "HNvo9dPWXfmz",
      "execution_count": null,
      "outputs": []
    },
    {
      "cell_type": "code",
      "source": [
        "videos_part2 = ['Tai chiTai Chi 32 Yang Stil Schwertform  _ 32 Step Yang Style Tai Chi Sword Routine-asL3ZyuNeB0', #corrupted,\n",
        "                'Tai chi吳式太極快架-KMO1BluPtU4', # corrupted\n",
        "                'Tai chiTai Chi sword form-sm6-dbG5Rho' #corrupted\n",
        "                ]\n",
        "\n",
        "for v in videos_part2:\n",
        "  print(\"Now generating training data for {}.\".format(v))\n",
        "  generate_training_data(model, v, n=64)"
      ],
      "metadata": {
        "id": "Z6DwMDrMnmH-"
      },
      "id": "Z6DwMDrMnmH-",
      "execution_count": null,
      "outputs": []
    },
    {
      "cell_type": "code",
      "source": [
        "videos_part3 = ['Tai chizhaobao Taichi 24 刘钢 示范 武当赵堡和式太极拳二十四式简化太极拳-FmJ33H476pI',\n",
        "                'Tai chi56式夕陽美功夫扇-uOw-z7CR7x8',\n",
        "                'Tai chiTai Chi for Osteoporosis Front Demo-AUzpWyGi8Gw',\n",
        "                'Tai chichen 56-l0aKiGrTUGw',\n",
        "                'Tai chi陳氏太極拳：老架一路(上)王西安.flv-CA9-8CydW4A',\n",
        "                'Tai chiTaijiquan Tai Chi Pai Lin part 2-6f6nS3PCeQM'\n",
        "                ]\n",
        "\n",
        "for v in videos_part3:\n",
        "  print(\"Now generating training data for {}.\".format(v))\n",
        "  generate_training_data(model, v, n=64)"
      ],
      "metadata": {
        "id": "0r05ihBqoVfE"
      },
      "id": "0r05ihBqoVfE",
      "execution_count": null,
      "outputs": []
    },
    {
      "cell_type": "code",
      "source": [
        "videos_part4 = [\n",
        "                'Tai chiSun style - short form (30 forms)-FzJJ_bWLzcA',\n",
        "                \"Tai chiTai Chi Chuan -Yang Style - Grand Master William C.C. Chen's 60 Revolving Movements - 1st Section-DXO_BbscaFg\",\n",
        "                'Tai chiGuang Ping Yang Tai Ji Quan (Tai Chi Chuan)-VidZQ6yA7I4']\n",
        "\n",
        "for v in videos_part4:\n",
        "  print(\"Now generating training data for {}.\".format(v))\n",
        "  generate_training_data(model, v, n=64)"
      ],
      "metadata": {
        "id": "iHjZhDU6ymsK"
      },
      "id": "iHjZhDU6ymsK",
      "execution_count": null,
      "outputs": []
    },
    {
      "cell_type": "code",
      "source": [
        "videos_part5 = [\n",
        "                'Tai chiTai Chi Chuan-vFDuL2-zhvQ',\n",
        "                'Tai chi陳式太極拳56式 - 游振芳 吳志芬-ypIdWCYjHuo',\n",
        "                'Tai chiLiu He Ba Fa performed by Paul Dillon-BKLJ4mRzYuE',\n",
        "                'Tai chiInstitut Français de Taï Ji Zhang Dongwu-jFuiqvVaESE']\n",
        "\n",
        "for v in videos_part5:\n",
        "  print(\"Now generating training data for {}.\".format(v))\n",
        "  generate_training_data(model, v, n=64)"
      ],
      "metadata": {
        "id": "5bEKAsu5pKe1"
      },
      "id": "5bEKAsu5pKe1",
      "execution_count": null,
      "outputs": []
    },
    {
      "cell_type": "markdown",
      "source": [
        "## Zip data and store in Drive"
      ],
      "metadata": {
        "id": "y7K9XdyxJwAc"
      },
      "id": "y7K9XdyxJwAc"
    },
    {
      "cell_type": "markdown",
      "source": [
        "### Check data was generated correctly"
      ],
      "metadata": {
        "id": "IkMNTxSiT69c"
      },
      "id": "IkMNTxSiT69c"
    },
    {
      "cell_type": "code",
      "source": [
        "from datetime import date\n",
        "TODAY = date.today()\n",
        "FILENAME = \"full_dataset\"\n",
        "\n",
        "# zip training data\n",
        "!cd \"$PATH\" && zip -r /content/\"$FILENAME\"_\"$TODAY\".zip .\n",
        "# cp NumPy zip file into drive\n",
        "!cp \"$FILENAME\"_\"$TODAY\".zip /content/drive/MyDrive/"
      ],
      "metadata": {
        "id": "PH9XF70MulWV"
      },
      "id": "PH9XF70MulWV",
      "execution_count": null,
      "outputs": []
    },
    {
      "cell_type": "code",
      "source": [
        "import os\n",
        "import fnmatch\n",
        "\n",
        "x = [f for f in os.listdir(PATH+'/coords/') if not f.startswith('.')] \n",
        "for name in x:\n",
        "  if fnmatch.fnmatch(name, 'ypIdWCYjHuo'+'*.npy'):\n",
        "     print(name, np.load(PATH+'/coords/'+name, encoding='bytes').shape)\n",
        "     coords = np.load(PATH+'/coords/'+name, encoding='bytes')\n",
        "     coords = coords.squeeze()\n",
        "     plt.scatter(coords[:, 0], coords[:, 1], s=0.5, marker='.', cmap=plt.cm.coolwarm)\n",
        "     plt.ylim(max(plt.ylim()), min(plt.ylim()))\n",
        "     plt.pause(0.001)  # pause a bit so that plots are updated"
      ],
      "metadata": {
        "id": "W2w3Cmkin5hJ"
      },
      "id": "W2w3Cmkin5hJ",
      "execution_count": null,
      "outputs": []
    },
    {
      "cell_type": "markdown",
      "source": [
        "## Split dataset"
      ],
      "metadata": {
        "id": "KFw51QL8zysV"
      },
      "id": "KFw51QL8zysV"
    },
    {
      "cell_type": "code",
      "source": [
        "!rm -r train_data\n",
        "!mkdir train_data\n",
        "!mkdir train_data/frame0/\n",
        "!mkdir train_data/frame3/\n",
        "!mkdir train_data/frame7/\n",
        "!mkdir train_data/coords/\n",
        "!mkdir train_data/vis/\n",
        "!touch train_data/sample_ids.txt\n",
        "PATH_TRAIN = \"/content/train_data\"\n",
        "\n",
        "!rm -r validation_data\n",
        "!mkdir validation_data\n",
        "!mkdir validation_data/frame0/\n",
        "!mkdir validation_data/frame3/\n",
        "!mkdir validation_data/frame7/\n",
        "!mkdir validation_data/coords/\n",
        "!mkdir validation_data/vis/\n",
        "!touch validation_data/sample_ids.txt\n",
        "PATH_VALID = \"/content/validation_data\"\n",
        "\n",
        "!rm -r test_data\n",
        "!mkdir test_data\n",
        "!mkdir test_data/frame0/\n",
        "!mkdir test_data/frame3/\n",
        "!mkdir test_data/frame7/\n",
        "!mkdir test_data/coords/\n",
        "!mkdir test_data/vis/\n",
        "!touch test_data/sample_ids.txt\n",
        "PATH_TEST = \"/content/test_data\"\n",
        "\n",
        "LOG_FILE = PATH+\"/sample_ids.txt\"\n",
        "LOG_LIST = open(LOG_FILE).read().splitlines()"
      ],
      "metadata": {
        "id": "eTU5F7NJz0S2"
      },
      "id": "eTU5F7NJz0S2",
      "execution_count": 15,
      "outputs": []
    },
    {
      "cell_type": "code",
      "source": [
        "def save_log_to_file(log_list, file):\n",
        "  with open(file, \"w\") as outfile:\n",
        "    outfile.write(\"\\n\".join(log_list))"
      ],
      "metadata": {
        "id": "FQw5H6N35giZ"
      },
      "id": "FQw5H6N35giZ",
      "execution_count": 8,
      "outputs": []
    },
    {
      "cell_type": "code",
      "source": [
        "# 80/10/10 train/valid/test split\n",
        "np.random.seed(42)\n",
        "np.random.shuffle(LOG_LIST)\n",
        "\n",
        "train_list = LOG_LIST[:int(len(LOG_LIST)*0.8)]\n",
        "valid_list = LOG_LIST[len(train_list):len(train_list)+int(len(LOG_LIST)*0.1)]\n",
        "test_list = LOG_LIST[len(train_list)+len(valid_list):]\n",
        "\n",
        "print(len(train_list))"
      ],
      "metadata": {
        "id": "Gb5-jv421UiW",
        "outputId": "e91bdb7b-1c1a-48b4-f337-a0768c1e6244",
        "colab": {
          "base_uri": "https://localhost:8080/"
        }
      },
      "id": "Gb5-jv421UiW",
      "execution_count": 13,
      "outputs": [
        {
          "output_type": "stream",
          "name": "stdout",
          "text": [
            "3656\n"
          ]
        }
      ]
    },
    {
      "cell_type": "code",
      "source": [
        "import shutil\n",
        "def save_split_dataset(path_from, path_to, sample_id_list):\n",
        "  log_file = path_to+\"/sample_ids.txt\"\n",
        "  log_list = open(log_file).read().splitlines()\n",
        "\n",
        "  for sample_id in sample_id_list:\n",
        "    shutil.move(path_from+\"/frame0/\"+sample_id+\".npy\", path_to+\"/frame0/\")\n",
        "    shutil.move(path_from+\"/frame3/\"+sample_id+\".npy\", path_to+\"/frame3/\")\n",
        "    shutil.move(path_from+\"/frame7/\"+sample_id+\".npy\", path_to+\"/frame7/\")\n",
        "    shutil.move(path_from+\"/coords/\"+sample_id+\".npy\", path_to+\"/coords/\")\n",
        "    shutil.move(path_from+\"/vis/\"+sample_id+\".npy\", path_to+\"/vis/\")\n",
        "    log_list.append(sample_id)\n",
        "  save_log_to_file(log_list, log_file)\n",
        "\n",
        "  print(len(log_list))\n"
      ],
      "metadata": {
        "id": "ji9-WGAY5plG"
      },
      "id": "ji9-WGAY5plG",
      "execution_count": 16,
      "outputs": []
    },
    {
      "cell_type": "code",
      "source": [
        "save_split_dataset(PATH, PATH_TRAIN, train_list)\n",
        "save_split_dataset(PATH, PATH_VALID, valid_list)\n",
        "save_split_dataset(PATH, PATH_TEST, test_list)"
      ],
      "metadata": {
        "id": "BfLi1bXA1Zth",
        "outputId": "a674dc4b-d34f-4564-887c-dfc321374556",
        "colab": {
          "base_uri": "https://localhost:8080/"
        }
      },
      "id": "BfLi1bXA1Zth",
      "execution_count": 18,
      "outputs": [
        {
          "output_type": "stream",
          "name": "stdout",
          "text": [
            "457\n",
            "458\n"
          ]
        }
      ]
    },
    {
      "cell_type": "code",
      "source": [
        "from datetime import date\n",
        "TODAY = date.today()\n",
        "FILENAME_TRAIN = \"full_dataset_train\"\n",
        "FILENAME_VALID = \"full_dataset_valid\"\n",
        "FILENAME_TEST = \"full_dataset_test\"\n",
        "\n",
        "# zip train data\n",
        "!cd \"$PATH_TRAIN\" && zip -r /content/\"$FILENAME_TRAIN\"_\"$TODAY\".zip .\n",
        "# cp NumPy zip file into drive\n",
        "!cp \"$FILENAME_TRAIN\"_\"$TODAY\".zip /content/drive/MyDrive/\n",
        "\n",
        "# zip validation data\n",
        "!cd \"$PATH_VALID\" && zip -r /content/\"$FILENAME_VALID\"_\"$TODAY\".zip .\n",
        "# cp NumPy zip file into drive\n",
        "!cp \"$FILENAME_VALID\"_\"$TODAY\".zip /content/drive/MyDrive/\n",
        "\n",
        "# zip test data\n",
        "!cd \"$PATH_TEST\" && zip -r /content/\"$FILENAME_TEST\"_\"$TODAY\".zip .\n",
        "# cp NumPy zip file into drive\n",
        "!cp \"$FILENAME_TEST\"_\"$TODAY\".zip /content/drive/MyDrive/"
      ],
      "metadata": {
        "id": "pHP8vBL_72gP"
      },
      "id": "pHP8vBL_72gP",
      "execution_count": null,
      "outputs": []
    }
  ],
  "metadata": {
    "kernelspec": {
      "display_name": "Python 3 (ipykernel)",
      "language": "python",
      "name": "python3"
    },
    "language_info": {
      "codemirror_mode": {
        "name": "ipython",
        "version": 3
      },
      "file_extension": ".py",
      "mimetype": "text/x-python",
      "name": "python",
      "nbconvert_exporter": "python",
      "pygments_lexer": "ipython3",
      "version": "3.8.3"
    },
    "colab": {
      "provenance": []
    },
    "gpuClass": "standard",
    "accelerator": "GPU"
  },
  "nbformat": 4,
  "nbformat_minor": 5
}