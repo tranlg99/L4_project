{
  "nbformat": 4,
  "nbformat_minor": 0,
  "metadata": {
    "colab": {
      "provenance": []
    },
    "kernelspec": {
      "name": "python3",
      "display_name": "Python 3"
    },
    "language_info": {
      "name": "python"
    },
    "accelerator": "GPU",
    "gpuClass": "standard"
  },
  "cells": [
    {
      "cell_type": "markdown",
      "source": [
        "# Fine-tuning the modified model with our data"
      ],
      "metadata": {
        "id": "bn3RvCIca8I4"
      }
    },
    {
      "cell_type": "markdown",
      "source": [
        "## Imports\n"
      ],
      "metadata": {
        "id": "Pzg01dJvZX7c"
      }
    },
    {
      "cell_type": "code",
      "source": [
        "# connecting drive to colab notebook\n",
        "from google.colab import drive\n",
        "drive.mount('/content/drive')"
      ],
      "metadata": {
        "colab": {
          "base_uri": "https://localhost:8080/"
        },
        "id": "d8EsrI8UYlGq",
        "outputId": "1247f100-b3d9-4bf8-db73-d24c51434ea8"
      },
      "execution_count": 3,
      "outputs": [
        {
          "output_type": "stream",
          "name": "stdout",
          "text": [
            "Mounted at /content/drive\n"
          ]
        }
      ]
    },
    {
      "cell_type": "code",
      "source": [
        "import torchvision\n",
        "import numpy as np\n",
        "import torch\n",
        "import argparse\n",
        "import cv2\n",
        "from PIL import Image\n",
        "from google.colab.patches import cv2_imshow\n",
        "import torch.nn as nn\n",
        "from collections import OrderedDict\n",
        "import torch.optim as optim\n",
        "import time\n",
        "import copy\n",
        "import torchvision.transforms as transforms\n",
        "from torchvision.io.image import read_image\n",
        "from torchvision.models.segmentation import fcn_resnet50, FCN_ResNet50_Weights\n",
        "from torchvision.transforms.functional import to_pil_image\n",
        "from torch.utils.data import Dataset, DataLoader\n",
        "from torch.utils.data.sampler import SubsetRandomSampler\n",
        "\n",
        "import sys\n",
        "sys.path.append('/content/drive/MyDrive/drive_folder')\n",
        "from custom_dataset_loader import TaiChiDataset, ToTensor"
      ],
      "metadata": {
        "id": "Bp5Dfv5mYtHW"
      },
      "execution_count": 15,
      "outputs": []
    },
    {
      "cell_type": "markdown",
      "source": [
        "## Helper functions"
      ],
      "metadata": {
        "id": "7pjuHO5HZhxE"
      }
    },
    {
      "cell_type": "code",
      "execution_count": 7,
      "metadata": {
        "id": "PyfjK8dkYgUA"
      },
      "outputs": [],
      "source": [
        "# converting all the images to tensors and then normalize them\n",
        "transform = transforms.Compose([\n",
        "    transforms.ToTensor(),\n",
        "    transforms.Normalize(mean=[0.485, 0.456, 0.406],\n",
        "                         std=[0.229, 0.224, 0.225])\n",
        "])\n",
        "\n",
        "def set_parameter_requires_grad(model, feature_extracting):\n",
        "    if feature_extracting:\n",
        "        for param in model.parameters():\n",
        "            param.requires_grad = False"
      ]
    },
    {
      "cell_type": "markdown",
      "source": [
        "## Our prediction model"
      ],
      "metadata": {
        "id": "6bCCvwlYaTa6"
      }
    },
    {
      "cell_type": "code",
      "source": [
        "# Initialize model with the best available weights\n",
        "# create an instance of (e.g.) torchvision.models.segmentation.fcn_resnet50\n",
        "# and tell it to load pretrained weights\n",
        "weights = FCN_ResNet50_Weights.DEFAULT\n",
        "modified_model = fcn_resnet50(weights=weights)\n",
        "\n",
        "# set computation device\n",
        "device = torch.device('cuda')\n",
        "\n",
        "# model to train() and load onto computation devicce\n",
        "modified_model.to(device)\n",
        "\n",
        "# we are feature extracting so we only need to compute weights for the new layer\n",
        "set_parameter_requires_grad(modified_model, True)"
      ],
      "metadata": {
        "id": "1IHNxy3-Y6d6"
      },
      "execution_count": 39,
      "outputs": []
    },
    {
      "cell_type": "code",
      "source": [
        "# modify that model by removing its final layer and replacing with a 2D vector output at each pixel(?) (instead of 20 class logits)\n",
        "\n",
        "# (classifier): FCNHead(\n",
        "#     (0): Conv2d(2048, 512, kernel_size=(3, 3), stride=(1, 1), padding=(1, 1), bias=False)\n",
        "#     (1): BatchNorm2d(512, eps=1e-05, momentum=0.1, affine=True, track_running_stats=True)\n",
        "#     (2): ReLU()\n",
        "#     (3): Dropout(p=0.1, inplace=False)\n",
        "#     (4): Conv2d(512, 21, kernel_size=(1, 1), stride=(1, 1))\n",
        "#   )\n",
        "# (aux_classifier): FCNHead(\n",
        "#     (0): Conv2d(1024, 256, kernel_size=(3, 3), stride=(1, 1), padding=(1, 1), bias=False)\n",
        "#     (1): BatchNorm2d(256, eps=1e-05, momentum=0.1, affine=True, track_running_stats=True)\n",
        "#     (2): ReLU()\n",
        "#     (3): Dropout(p=0.1, inplace=False)\n",
        "#     (4): Conv2d(256, 21, kernel_size=(1, 1), stride=(1, 1))\n",
        "#   )\n",
        "# )\n",
        "\n",
        "# instead of torch.Size([1, 21, 120, 240]) -> torch.Size([1, 2, 120, 240])\n",
        "modified_model.classifier[3] = nn.Sequential()\n",
        "modified_model.classifier[4] = nn.Conv2d(512, 2, kernel_size=(1, 1), stride=(1, 1))\n",
        "# modified_model.aux_classifier[3] = nn.Sequential()\n",
        "# modified_model.aux_classifier[4] = nn.Conv2d(256, 2, kernel_size=(1, 1), stride=(1, 1))\n",
        "print(modified_model)"
      ],
      "metadata": {
        "id": "fZta1fBFZJ9d"
      },
      "execution_count": null,
      "outputs": []
    },
    {
      "cell_type": "code",
      "source": [
        "# see what parameters will be tuned\n",
        "params_to_update = modified_model.parameters()\n",
        "print('Params to learn:')\n",
        "for name, param in modified_model.named_parameters():\n",
        "  if param.requires_grad:\n",
        "      print(name)"
      ],
      "metadata": {
        "id": "3ejQlnWfZSt2",
        "colab": {
          "base_uri": "https://localhost:8080/"
        },
        "outputId": "b7c80740-79ca-443e-ba3d-3891df21c4a8"
      },
      "execution_count": 53,
      "outputs": [
        {
          "output_type": "stream",
          "name": "stdout",
          "text": [
            "Params to learn:\n",
            "classifier.4.weight\n",
            "classifier.4.bias\n"
          ]
        }
      ]
    },
    {
      "cell_type": "markdown",
      "source": [
        "### Train function"
      ],
      "metadata": {
        "id": "cb1eFevUae33"
      }
    },
    {
      "cell_type": "code",
      "source": [
        "# define train function\n",
        "def train_model(model, dataloaders, criterion, optimizer, num_epochs=25, is_aux=False):\n",
        "  model.to(device)\n",
        "  since = time.time()\n",
        "\n",
        "  val_loss_history = []\n",
        "\n",
        "  best_model_wts = copy.deepcopy(model.state_dict())\n",
        "\n",
        "  for epoch in range(num_epochs):\n",
        "        print('-' * 10)\n",
        "        print('Epoch {}/{}'.format(epoch, num_epochs - 1))\n",
        "        print('-' * 10)\n",
        "        \n",
        "        # Each epoch has a training and validation phase\n",
        "        for phase in ['train', 'val']:\n",
        "            if phase == 'train':\n",
        "                model.train()  # Set model to training mode\n",
        "            else:\n",
        "                model.eval()   # Set model to evaluate mode\n",
        "\n",
        "            running_loss = 0.0\n",
        "\n",
        "            # Iterate over data.\n",
        "            for i_batch, sample_batched in enumerate(dataloaders[phase]):\n",
        "              inputs = sample_batched['image0']\n",
        "              # print(inputs.shape)\n",
        "              coords = sample_batched['coords']\n",
        "              coords = coords.view(16,2,-1,1)\n",
        "              # print(coords.shape)\n",
        "\n",
        "              inputs = inputs.to(device).float() #torch.Size([16, 3, 120, 240])\n",
        "              coords = coords.to(device) \n",
        "              # NEED TO RESHAPE COORDS ACCORDING TO MODEL OUTPUT:\n",
        "              # torch.Size([16, 1, 4096, 2])-> torch.Size([16, 2, 120, 240])\n",
        "\n",
        "              # zero the parameter gradients\n",
        "              optimizer.zero_grad()\n",
        "\n",
        "              # forward\n",
        "              # track history if only in train\n",
        "              with torch.set_grad_enabled(phase == 'train'):\n",
        "                    # Get model outputs and calculate loss\n",
        "                    outputs = model(inputs)\n",
        "                    outputs = outputs['out'].view(16,2,-1,1) # torch.Size([16, 2, 120*240, 1])\n",
        "                    # print(outputs.shape)\n",
        "                    outputs = outputs[:, :, :coords.shape[2], :]\n",
        "                    loss = criterion(outputs, coords)\n",
        "                    \n",
        "                    _, preds = torch.max(outputs, 1)\n",
        "\n",
        "                    # backward + optimize only if in training phase\n",
        "                    if phase == 'train':\n",
        "                        loss.backward()\n",
        "                        optimizer.step()\n",
        "\n",
        "                    # statistics\n",
        "                    running_loss += loss.item() * inputs.size(0)\n",
        "\n",
        "            epoch_loss = running_loss / len(dataloaders[phase].dataset)\n",
        "            print('{} Loss: {:.4f}'.format(phase, epoch_loss, ))\n",
        "\n",
        "            # deep copy the model\n",
        "            if epoch == 0:\n",
        "              best_loss = epoch_loss\n",
        "            if phase == 'val' and epoch_loss < best_loss:\n",
        "                best_loss = epoch_loss\n",
        "                best_model_wts = copy.deepcopy(model.state_dict())\n",
        "            if phase == 'val':\n",
        "                val_loss_history.append(epoch_loss)\n",
        "\n",
        "            print()\n",
        "            \n",
        "        time_elapsed = time.time() - since\n",
        "        print('Training complete in {:.0f}m {:.0f}s'.format(time_elapsed // 60, time_elapsed % 60))\n",
        "        print('Best val loss: {:4f}\\n'.format(best_loss))\n",
        "\n",
        "  # load best model weights\n",
        "  model.load_state_dict(best_model_wts)\n",
        "  return model, val_loss_history\n"
      ],
      "metadata": {
        "id": "ItzqEpfDZWoJ"
      },
      "execution_count": 83,
      "outputs": []
    },
    {
      "cell_type": "markdown",
      "source": [
        "\n",
        "\n",
        "## Initializing Datasets and Dataloaders"
      ],
      "metadata": {
        "id": "jB0a8m5Ral92"
      }
    },
    {
      "cell_type": "code",
      "source": [
        "TRAIN_DATA = \"training_data_2023-01-02\"\n",
        "!unzip -d \"$TRAIN_DATA\"/ /content/drive/MyDrive/\"$TRAIN_DATA\".zip # unziping training data"
      ],
      "metadata": {
        "id": "fPDDjpIcb1ec"
      },
      "execution_count": null,
      "outputs": []
    },
    {
      "cell_type": "code",
      "source": [
        "# Load dataset\n",
        "dataset = TaiChiDataset(log_file=TRAIN_DATA+'/sample_ids.txt',\n",
        "                        root_dir=TRAIN_DATA,\n",
        "                        check=True,\n",
        "                        transform=ToTensor()\n",
        "                        )\n",
        "\n",
        "# Split dataset into train and val\n",
        "validation_split = .2\n",
        "shuffle_dataset = True\n",
        "random_seed= 42\n",
        "batch_size = 16\n",
        "\n",
        "dataset_size = len(dataset)\n",
        "indices = list(range(dataset_size))\n",
        "\n",
        "split = int(np.floor(validation_split * dataset_size))\n",
        "if shuffle_dataset:\n",
        "    np.random.seed(random_seed)\n",
        "    np.random.shuffle(indices)\n",
        "train_indices, val_indices = indices[split:], indices[:split]\n",
        "train_sampler = SubsetRandomSampler(train_indices)\n",
        "valid_sampler = SubsetRandomSampler(val_indices)\n",
        "\n",
        "train_loader = DataLoader(dataset, batch_size=batch_size, \n",
        "                                           sampler=train_sampler)\n",
        "validation_loader = DataLoader(dataset, batch_size=batch_size,\n",
        "                                                sampler=valid_sampler)\n",
        "\n",
        "# and load data\n",
        "dataloaders_dict = {'train': train_loader, 'val': validation_loader}"
      ],
      "metadata": {
        "id": "RP7650LcaoNf"
      },
      "execution_count": 16,
      "outputs": []
    },
    {
      "cell_type": "markdown",
      "source": [
        "## Training & evaluating the model"
      ],
      "metadata": {
        "id": "B_XIRuWYaotC"
      }
    },
    {
      "cell_type": "code",
      "source": [
        "batch_size = 8\n",
        "num_epochs = 15\n",
        "\n",
        "# define optimizer\n",
        "params_to_update = modified_model.parameters()\n",
        "my_optimizer = optim.SGD(params_to_update, lr=0.001, momentum=0.9)\n",
        "\n",
        "# Setup the loss\n",
        "my_criterion = nn.MSELoss()\n",
        "\n",
        "# Train and evaluate\n",
        "modified_model, hist = train_model(modified_model,\n",
        "                                   dataloaders_dict,\n",
        "                                   my_criterion,\n",
        "                                   my_optimizer,\n",
        "                                   num_epochs=num_epochs)"
      ],
      "metadata": {
        "id": "Cp-DDzyHaqvk",
        "colab": {
          "base_uri": "https://localhost:8080/",
          "height": 1000
        },
        "outputId": "41d5ddb9-7b00-4c99-e21e-18387be5d9fc"
      },
      "execution_count": 84,
      "outputs": [
        {
          "output_type": "stream",
          "name": "stdout",
          "text": [
            "Epoch 0/14\n",
            "----------\n",
            "train Loss: 20045.7848\n",
            "\n",
            "val Loss: 5001.8282\n",
            "\n",
            "Training complete in 0m 40s\n",
            "Best val loss: 5001.828156\n",
            "Epoch 1/14\n",
            "----------\n",
            "train Loss: 19924.5036\n",
            "\n",
            "val Loss: 4974.2205\n",
            "\n",
            "Training complete in 1m 21s\n",
            "Best val loss: 4974.220522\n",
            "Epoch 2/14\n",
            "----------\n",
            "train Loss: 19851.6704\n",
            "\n",
            "val Loss: 4959.2310\n",
            "\n",
            "Training complete in 2m 3s\n",
            "Best val loss: 4959.230974\n",
            "Epoch 3/14\n",
            "----------\n",
            "train Loss: 19811.2705\n",
            "\n",
            "val Loss: 4949.5878\n",
            "\n",
            "Training complete in 2m 46s\n",
            "Best val loss: 4949.587789\n",
            "Epoch 4/14\n",
            "----------\n",
            "train Loss: 19777.3743\n",
            "\n",
            "val Loss: 4942.8096\n",
            "\n",
            "Training complete in 3m 29s\n",
            "Best val loss: 4942.809641\n",
            "Epoch 5/14\n",
            "----------\n",
            "train Loss: 19740.2344\n",
            "\n",
            "val Loss: 4935.9177\n",
            "\n",
            "Training complete in 4m 12s\n",
            "Best val loss: 4935.917716\n",
            "Epoch 6/14\n",
            "----------\n"
          ]
        },
        {
          "output_type": "error",
          "ename": "KeyboardInterrupt",
          "evalue": "ignored",
          "traceback": [
            "\u001b[0;31m---------------------------------------------------------------------------\u001b[0m",
            "\u001b[0;31mKeyboardInterrupt\u001b[0m                         Traceback (most recent call last)",
            "\u001b[0;32m<ipython-input-84-4a174102f3c6>\u001b[0m in \u001b[0;36m<module>\u001b[0;34m\u001b[0m\n\u001b[1;32m     10\u001b[0m \u001b[0;34m\u001b[0m\u001b[0m\n\u001b[1;32m     11\u001b[0m \u001b[0;31m# Train and evaluate\u001b[0m\u001b[0;34m\u001b[0m\u001b[0;34m\u001b[0m\u001b[0;34m\u001b[0m\u001b[0m\n\u001b[0;32m---> 12\u001b[0;31m modified_model, hist = train_model(modified_model,\n\u001b[0m\u001b[1;32m     13\u001b[0m                                    \u001b[0mdataloaders_dict\u001b[0m\u001b[0;34m,\u001b[0m\u001b[0;34m\u001b[0m\u001b[0;34m\u001b[0m\u001b[0m\n\u001b[1;32m     14\u001b[0m                                    \u001b[0mmy_criterion\u001b[0m\u001b[0;34m,\u001b[0m\u001b[0;34m\u001b[0m\u001b[0;34m\u001b[0m\u001b[0m\n",
            "\u001b[0;32m<ipython-input-83-6a5e2ef7edeb>\u001b[0m in \u001b[0;36mtrain_model\u001b[0;34m(model, dataloaders, criterion, optimizer, num_epochs, is_aux)\u001b[0m\n\u001b[1;32m     55\u001b[0m \u001b[0;34m\u001b[0m\u001b[0m\n\u001b[1;32m     56\u001b[0m                     \u001b[0;31m# statistics\u001b[0m\u001b[0;34m\u001b[0m\u001b[0;34m\u001b[0m\u001b[0;34m\u001b[0m\u001b[0m\n\u001b[0;32m---> 57\u001b[0;31m                     \u001b[0mrunning_loss\u001b[0m \u001b[0;34m+=\u001b[0m \u001b[0mloss\u001b[0m\u001b[0;34m.\u001b[0m\u001b[0mitem\u001b[0m\u001b[0;34m(\u001b[0m\u001b[0;34m)\u001b[0m \u001b[0;34m*\u001b[0m \u001b[0minputs\u001b[0m\u001b[0;34m.\u001b[0m\u001b[0msize\u001b[0m\u001b[0;34m(\u001b[0m\u001b[0;36m0\u001b[0m\u001b[0;34m)\u001b[0m\u001b[0;34m\u001b[0m\u001b[0;34m\u001b[0m\u001b[0m\n\u001b[0m\u001b[1;32m     58\u001b[0m \u001b[0;34m\u001b[0m\u001b[0m\n\u001b[1;32m     59\u001b[0m             \u001b[0mepoch_loss\u001b[0m \u001b[0;34m=\u001b[0m \u001b[0mrunning_loss\u001b[0m \u001b[0;34m/\u001b[0m \u001b[0mlen\u001b[0m\u001b[0;34m(\u001b[0m\u001b[0mdataloaders\u001b[0m\u001b[0;34m[\u001b[0m\u001b[0mphase\u001b[0m\u001b[0;34m]\u001b[0m\u001b[0;34m.\u001b[0m\u001b[0mdataset\u001b[0m\u001b[0;34m)\u001b[0m\u001b[0;34m\u001b[0m\u001b[0;34m\u001b[0m\u001b[0m\n",
            "\u001b[0;31mKeyboardInterrupt\u001b[0m: "
          ]
        }
      ]
    }
  ]
}