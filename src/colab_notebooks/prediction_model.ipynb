{
  "nbformat": 4,
  "nbformat_minor": 0,
  "metadata": {
    "colab": {
      "provenance": []
    },
    "kernelspec": {
      "name": "python3",
      "display_name": "Python 3"
    },
    "language_info": {
      "name": "python"
    }
  },
  "cells": [
    {
      "cell_type": "markdown",
      "source": [
        "# Fine-tuning the modified model with our data"
      ],
      "metadata": {
        "id": "bn3RvCIca8I4"
      }
    },
    {
      "cell_type": "markdown",
      "source": [
        "## Imports\n"
      ],
      "metadata": {
        "id": "Pzg01dJvZX7c"
      }
    },
    {
      "cell_type": "code",
      "source": [
        "# connecting drive to colab notebook\n",
        "from google.colab import drive\n",
        "drive.mount('/content/drive')"
      ],
      "metadata": {
        "colab": {
          "base_uri": "https://localhost:8080/"
        },
        "id": "d8EsrI8UYlGq",
        "outputId": "8b62f307-e86c-4ed7-9c9d-d63786fbd57d"
      },
      "execution_count": 3,
      "outputs": [
        {
          "output_type": "stream",
          "name": "stdout",
          "text": [
            "Mounted at /content/drive\n"
          ]
        }
      ]
    },
    {
      "cell_type": "code",
      "source": [
        "import torchvision\n",
        "import numpy as np\n",
        "import torch\n",
        "import argparse\n",
        "import cv2\n",
        "from PIL import Image\n",
        "from google.colab.patches import cv2_imshow\n",
        "import torch.nn as nn\n",
        "from collections import OrderedDict\n",
        "import torch.optim as optim\n",
        "import time\n",
        "import copy\n",
        "import torchvision.transforms as transforms\n",
        "from torchvision.io.image import read_image\n",
        "from torchvision.models.segmentation import fcn_resnet50, FCN_ResNet50_Weights\n",
        "from torchvision.transforms.functional import to_pil_image\n",
        "from torch.utils.data import Dataset, DataLoader"
      ],
      "metadata": {
        "colab": {
          "base_uri": "https://localhost:8080/",
          "height": 347
        },
        "id": "Bp5Dfv5mYtHW",
        "outputId": "8d3fdcab-450d-48eb-b348-b67c84637671"
      },
      "execution_count": 5,
      "outputs": [
        {
          "output_type": "error",
          "ename": "ModuleNotFoundError",
          "evalue": "ignored",
          "traceback": [
            "\u001b[0;31m---------------------------------------------------------------------------\u001b[0m",
            "\u001b[0;31mModuleNotFoundError\u001b[0m                       Traceback (most recent call last)",
            "\u001b[0;32m<ipython-input-5-82846156693f>\u001b[0m in \u001b[0;36m<module>\u001b[0;34m\u001b[0m\n\u001b[1;32m     19\u001b[0m \u001b[0;32mimport\u001b[0m \u001b[0msys\u001b[0m\u001b[0;34m\u001b[0m\u001b[0;34m\u001b[0m\u001b[0m\n\u001b[1;32m     20\u001b[0m \u001b[0msys\u001b[0m\u001b[0;34m.\u001b[0m\u001b[0mpath\u001b[0m\u001b[0;34m.\u001b[0m\u001b[0mappend\u001b[0m\u001b[0;34m(\u001b[0m\u001b[0;34m'/content/drive/MyDrive/drive_folder'\u001b[0m\u001b[0;34m)\u001b[0m\u001b[0;34m\u001b[0m\u001b[0;34m\u001b[0m\u001b[0m\n\u001b[0;32m---> 21\u001b[0;31m \u001b[0;32mfrom\u001b[0m \u001b[0mcustom_dataset_loader\u001b[0m \u001b[0;32mimport\u001b[0m \u001b[0mTaiChiDataset\u001b[0m\u001b[0;34m,\u001b[0m \u001b[0mToTensor\u001b[0m\u001b[0;34m\u001b[0m\u001b[0;34m\u001b[0m\u001b[0m\n\u001b[0m",
            "\u001b[0;31mModuleNotFoundError\u001b[0m: No module named 'custom_dataset_loader'",
            "",
            "\u001b[0;31m---------------------------------------------------------------------------\u001b[0;32m\nNOTE: If your import is failing due to a missing package, you can\nmanually install dependencies using either !pip or !apt.\n\nTo view examples of installing some common dependencies, click the\n\"Open Examples\" button below.\n\u001b[0;31m---------------------------------------------------------------------------\u001b[0m\n"
          ],
          "errorDetails": {
            "actions": [
              {
                "action": "open_url",
                "actionText": "Open Examples",
                "url": "/notebooks/snippets/importing_libraries.ipynb"
              }
            ]
          }
        }
      ]
    },
    {
      "cell_type": "markdown",
      "source": [
        "## Helper functions"
      ],
      "metadata": {
        "id": "7pjuHO5HZhxE"
      }
    },
    {
      "cell_type": "code",
      "execution_count": null,
      "metadata": {
        "id": "PyfjK8dkYgUA"
      },
      "outputs": [],
      "source": [
        "# converting all the images to tensors and then normalize them\n",
        "transform = transforms.Compose([\n",
        "    transforms.ToTensor(),\n",
        "    transforms.Normalize(mean=[0.485, 0.456, 0.406],\n",
        "                         std=[0.229, 0.224, 0.225])\n",
        "])\n",
        "\n",
        "def set_parameter_requires_grad(model, feature_extracting):\n",
        "    if feature_extracting:\n",
        "        for param in model.parameters():\n",
        "            param.requires_grad = False"
      ]
    },
    {
      "cell_type": "markdown",
      "source": [
        "## Our prediction model"
      ],
      "metadata": {
        "id": "6bCCvwlYaTa6"
      }
    },
    {
      "cell_type": "code",
      "source": [
        "# Initialize model with the best available weights\n",
        "# create an instance of (e.g.) torchvision.models.segmentation.fcn_resnet50\n",
        "# and tell it to load pretrained weights\n",
        "weights = FCN_ResNet50_Weights.DEFAULT\n",
        "modified_model = fcn_resnet50(weights=weights)\n",
        "\n",
        "# set computation device\n",
        "device = torch.device('cuda')\n",
        "\n",
        "# model to train() and load onto computation devicce\n",
        "modified_model.train().to(device)\n",
        "\n",
        "# we are feature extracting so we only need to compute weights for the new layer\n",
        "set_parameter_requires_grad(modified_model, True)"
      ],
      "metadata": {
        "id": "1IHNxy3-Y6d6"
      },
      "execution_count": null,
      "outputs": []
    },
    {
      "cell_type": "code",
      "source": [
        "# modify that model by removing its final layer and replacing with a 2D vector output at each pixel(?) (instead of 20 class logits)\n",
        "\n",
        "# (classifier): FCNHead(\n",
        "#     (0): Conv2d(2048, 512, kernel_size=(3, 3), stride=(1, 1), padding=(1, 1), bias=False)\n",
        "#     (1): BatchNorm2d(512, eps=1e-05, momentum=0.1, affine=True, track_running_stats=True)\n",
        "#     (2): ReLU()\n",
        "#     (3): Dropout(p=0.1, inplace=False)\n",
        "#     (4): Conv2d(512, 21, kernel_size=(1, 1), stride=(1, 1))\n",
        "#   )\n",
        "# (aux_classifier): FCNHead(\n",
        "#     (0): Conv2d(1024, 256, kernel_size=(3, 3), stride=(1, 1), padding=(1, 1), bias=False)\n",
        "#     (1): BatchNorm2d(256, eps=1e-05, momentum=0.1, affine=True, track_running_stats=True)\n",
        "#     (2): ReLU()\n",
        "#     (3): Dropout(p=0.1, inplace=False)\n",
        "#     (4): Conv2d(256, 21, kernel_size=(1, 1), stride=(1, 1))\n",
        "#   )\n",
        "# )\n",
        "\n",
        "# instead of torch.Size([1, 21, 120, 240]) -> torch.Size([1, 2, 120, 240])\n",
        "modified_model.classifier[3] = nn.Sequential()\n",
        "modified_model.classifier[4] = nn.Conv2d(512, 2, kernel_size=(1, 1), stride=(1, 1))\n",
        "modified_model.aux_classifier[3] = nn.Sequential()\n",
        "modified_model.aux_classifier[4] = nn.Conv2d(256, 2, kernel_size=(1, 1), stride=(1, 1))\n",
        "print(modified_model)"
      ],
      "metadata": {
        "id": "fZta1fBFZJ9d"
      },
      "execution_count": null,
      "outputs": []
    },
    {
      "cell_type": "code",
      "source": [
        "# see what parameters will be tuned\n",
        "params_to_update = modified_model.parameters()\n",
        "print('Params to learn:')\n",
        "for name, param in modified_model.named_parameters():\n",
        "  if param.requires_grad:\n",
        "      print(name)"
      ],
      "metadata": {
        "id": "3ejQlnWfZSt2"
      },
      "execution_count": null,
      "outputs": []
    },
    {
      "cell_type": "markdown",
      "source": [
        "### Train function"
      ],
      "metadata": {
        "id": "cb1eFevUae33"
      }
    },
    {
      "cell_type": "code",
      "source": [
        "# define train function\n",
        "def train_model(model, dataloaders, criterion, optimizer, num_epochs=25, is_aux=False):\n",
        "  since = time.time()\n",
        "\n",
        "  val_acc_history = []\n",
        "\n",
        "  best_model_wts = copy.deepcopy(model.state_dict())\n",
        "  best_acc = 0.0\n",
        "\n",
        "  for epoch in range(num_epochs):\n",
        "        print('Epoch {}/{}'.format(epoch, num_epochs - 1))\n",
        "        print('-' * 10)\n",
        "\n",
        "        # Each epoch has a training and validation phase\n",
        "        for phase in ['train', 'val']:\n",
        "            if phase == 'train':\n",
        "                model.train()  # Set model to training mode\n",
        "            else:\n",
        "                model.eval()   # Set model to evaluate mode\n",
        "\n",
        "            running_loss = 0.0\n",
        "            running_corrects = 0 # shall we have in our case?\n",
        "\n",
        "            # Iterate over data.\n",
        "            for inputs, labels in dataloaders[phase]:\n",
        "              inputs = inputs.to(device)\n",
        "              labels = labels.to(device)\n",
        "\n",
        "              # zero the parameter gradients\n",
        "              optimizer.zero_grad()\n",
        "\n",
        "              # forward\n",
        "              # track history if only in train\n",
        "              with torch.set_grad_enabled(phase == 'train'):\n",
        "                    # Get model outputs and calculate loss\n",
        "                    # Special case for inception because in training it has an auxiliary output. In train\n",
        "                    #   mode we calculate the loss by summing the final output and the auxiliary output\n",
        "                    #   but in testing we only consider the final output.\n",
        "                    if is_aux and phase == 'train': \n",
        "                      outputs, aux_outputs = model(inputs) # should we use aux? this is from inception model, aux works differently in fcn resnet\n",
        "                      loss1 = criterion(outputs, labels)\n",
        "                      loss2 = criterion(aux_outputs, labels)\n",
        "                      loss = loss1 + 0.4*loss2\n",
        "                    else:\n",
        "                      outputs = model(inputs)\n",
        "                      loss = criterion(outputs, labels)\n",
        "                    \n",
        "                    _, preds = torch.max(outputs, 1)\n",
        "\n",
        "                    # backward + optimize only if in training phase\n",
        "                    if phase == 'train':\n",
        "                        loss.backward()\n",
        "                        optimizer.step()\n",
        "\n",
        "                    # statistics\n",
        "                    running_loss += loss.item() * inputs.size(0)\n",
        "                    running_corrects += torch.sum(preds == labels.data)\n",
        "\n",
        "            epoch_loss = running_loss / len(dataloaders[phase].dataset)\n",
        "            epoch_acc = running_corrects.double() / len(dataloaders[phase].dataset)\n",
        "            print('{} Loss: {:.4f} Acc: {:.4f}'.format(phase, epoch_loss, epoch_acc))\n",
        "\n",
        "            # deep copy the model\n",
        "            if phase == 'val' and epoch_acc > best_acc:\n",
        "                best_acc = epoch_acc\n",
        "                best_model_wts = copy.deepcopy(model.state_dict())\n",
        "            if phase == 'val':\n",
        "                val_acc_history.append(epoch_acc)\n",
        "\n",
        "            print()\n",
        "            \n",
        "        time_elapsed = time.time() - since\n",
        "        print('Training complete in {:.0f}m {:.0f}s'.format(time_elapsed // 60, time_elapsed % 60))\n",
        "        print('Best val Acc: {:4f}'.format(best_acc))\n",
        "\n",
        "        # load best model weights\n",
        "        model.load_state_dict(best_model_wts)\n",
        "        return model, val_acc_history\n"
      ],
      "metadata": {
        "id": "ItzqEpfDZWoJ"
      },
      "execution_count": null,
      "outputs": []
    },
    {
      "cell_type": "markdown",
      "source": [
        "## Loading our dataset"
      ],
      "metadata": {
        "id": "jB0a8m5Ral92"
      }
    },
    {
      "cell_type": "code",
      "source": [
        "TRAIN_DATA = \"training_data_2023-01-02\"\n",
        "!unzip -d \"$TRAIN_DATA\"/ /content/drive/MyDrive/\"$TRAIN_DATA\".zip # unziping training data"
      ],
      "metadata": {
        "id": "fPDDjpIcb1ec"
      },
      "execution_count": null,
      "outputs": []
    },
    {
      "cell_type": "code",
      "source": [
        "import sys\n",
        "sys.path.append('/content/drive/MyDrive/drive_folder')\n",
        "from custom_dataset_loader import TaiChiDataset, ToTensor\n",
        "\n",
        "# Load dataset\n",
        "dataset = TaiChiDataset(log_file=TRAIN_DATA+'/sample_ids.txt',\n",
        "                        root_dir=TRAIN_DATA,\n",
        "                        check=True,\n",
        "                        transform=ToTensor()\n",
        "                        )\n",
        "\n",
        "print(len(dataset)) \n",
        "\n",
        "# and load data\n",
        "dataloaders_dict = {x: torch.utils.data.DataLoader(image_datasets[x], batch_size=batch_size, shuffle=True, num_workers=4) for x in ['train', 'val']}"
      ],
      "metadata": {
        "colab": {
          "base_uri": "https://localhost:8080/",
          "height": 383
        },
        "id": "RP7650LcaoNf",
        "outputId": "5e6da794-5a6a-40c8-beee-6c2fbf7a784f"
      },
      "execution_count": 7,
      "outputs": [
        {
          "output_type": "error",
          "ename": "ModuleNotFoundError",
          "evalue": "ignored",
          "traceback": [
            "\u001b[0;31m---------------------------------------------------------------------------\u001b[0m",
            "\u001b[0;31mModuleNotFoundError\u001b[0m                       Traceback (most recent call last)",
            "\u001b[0;32m<ipython-input-7-643511a3bc55>\u001b[0m in \u001b[0;36m<module>\u001b[0;34m\u001b[0m\n\u001b[1;32m      1\u001b[0m \u001b[0;32mimport\u001b[0m \u001b[0msys\u001b[0m\u001b[0;34m\u001b[0m\u001b[0;34m\u001b[0m\u001b[0m\n\u001b[1;32m      2\u001b[0m \u001b[0msys\u001b[0m\u001b[0;34m.\u001b[0m\u001b[0mpath\u001b[0m\u001b[0;34m.\u001b[0m\u001b[0mappend\u001b[0m\u001b[0;34m(\u001b[0m\u001b[0;34m'/content/drive/MyDrive/drive_folder'\u001b[0m\u001b[0;34m)\u001b[0m\u001b[0;34m\u001b[0m\u001b[0;34m\u001b[0m\u001b[0m\n\u001b[0;32m----> 3\u001b[0;31m \u001b[0;32mfrom\u001b[0m \u001b[0mcustom_dataset_loader\u001b[0m \u001b[0;32mimport\u001b[0m \u001b[0mTaiChiDataset\u001b[0m\u001b[0;34m,\u001b[0m \u001b[0mToTensor\u001b[0m\u001b[0;34m\u001b[0m\u001b[0;34m\u001b[0m\u001b[0m\n\u001b[0m\u001b[1;32m      4\u001b[0m \u001b[0;34m\u001b[0m\u001b[0m\n\u001b[1;32m      5\u001b[0m \u001b[0;31m# Load dataset\u001b[0m\u001b[0;34m\u001b[0m\u001b[0;34m\u001b[0m\u001b[0;34m\u001b[0m\u001b[0m\n",
            "\u001b[0;31mModuleNotFoundError\u001b[0m: No module named 'custom_dataset_loader'",
            "",
            "\u001b[0;31m---------------------------------------------------------------------------\u001b[0;32m\nNOTE: If your import is failing due to a missing package, you can\nmanually install dependencies using either !pip or !apt.\n\nTo view examples of installing some common dependencies, click the\n\"Open Examples\" button below.\n\u001b[0;31m---------------------------------------------------------------------------\u001b[0m\n"
          ],
          "errorDetails": {
            "actions": [
              {
                "action": "open_url",
                "actionText": "Open Examples",
                "url": "/notebooks/snippets/importing_libraries.ipynb"
              }
            ]
          }
        }
      ]
    },
    {
      "cell_type": "markdown",
      "source": [
        "## Training & evaluating the model"
      ],
      "metadata": {
        "id": "B_XIRuWYaotC"
      }
    },
    {
      "cell_type": "code",
      "source": [
        "batch_size = 8\n",
        "num_epochs = 15\n",
        "\n",
        "# define optimizer\n",
        "my_optimizer = optim.SGD(params_to_update, lr=0.001, momentum=0.9)\n",
        "\n",
        "# Setup the loss\n",
        "my_criterion = nn.CrossEntropyLoss()\n",
        "\n",
        "# Train and evaluate\n",
        "modified_model, hist = train_model(modified_model,\n",
        "                                   dataloaders_dict,\n",
        "                                   my_criterion,\n",
        "                                   my_optimizer,\n",
        "                                   num_epochs=num_epochs)"
      ],
      "metadata": {
        "id": "Cp-DDzyHaqvk"
      },
      "execution_count": null,
      "outputs": []
    }
  ]
}