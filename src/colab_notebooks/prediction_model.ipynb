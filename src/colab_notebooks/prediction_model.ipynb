{
  "nbformat": 4,
  "nbformat_minor": 0,
  "metadata": {
    "colab": {
      "provenance": []
    },
    "kernelspec": {
      "name": "python3",
      "display_name": "Python 3"
    },
    "language_info": {
      "name": "python"
    },
    "accelerator": "GPU",
    "gpuClass": "standard",
    "widgets": {
      "application/vnd.jupyter.widget-state+json": {
        "80b3a45be1844e2c8e81cdc183bc9c64": {
          "model_module": "@jupyter-widgets/controls",
          "model_name": "HBoxModel",
          "model_module_version": "1.5.0",
          "state": {
            "_dom_classes": [],
            "_model_module": "@jupyter-widgets/controls",
            "_model_module_version": "1.5.0",
            "_model_name": "HBoxModel",
            "_view_count": null,
            "_view_module": "@jupyter-widgets/controls",
            "_view_module_version": "1.5.0",
            "_view_name": "HBoxView",
            "box_style": "",
            "children": [
              "IPY_MODEL_32b37357579d4a1d950de73e8b312f7b",
              "IPY_MODEL_f504fe9a24144971ad36087241aa3521",
              "IPY_MODEL_715ad385563e4912916ec398459cace8"
            ],
            "layout": "IPY_MODEL_38fd1ce749494d9cb140825ec9e1ce20"
          }
        },
        "32b37357579d4a1d950de73e8b312f7b": {
          "model_module": "@jupyter-widgets/controls",
          "model_name": "HTMLModel",
          "model_module_version": "1.5.0",
          "state": {
            "_dom_classes": [],
            "_model_module": "@jupyter-widgets/controls",
            "_model_module_version": "1.5.0",
            "_model_name": "HTMLModel",
            "_view_count": null,
            "_view_module": "@jupyter-widgets/controls",
            "_view_module_version": "1.5.0",
            "_view_name": "HTMLView",
            "description": "",
            "description_tooltip": null,
            "layout": "IPY_MODEL_449a2e3b7e3945a4b936eface1731103",
            "placeholder": "​",
            "style": "IPY_MODEL_d64b382838394b788197c2ca8aef6de5",
            "value": "100%"
          }
        },
        "f504fe9a24144971ad36087241aa3521": {
          "model_module": "@jupyter-widgets/controls",
          "model_name": "FloatProgressModel",
          "model_module_version": "1.5.0",
          "state": {
            "_dom_classes": [],
            "_model_module": "@jupyter-widgets/controls",
            "_model_module_version": "1.5.0",
            "_model_name": "FloatProgressModel",
            "_view_count": null,
            "_view_module": "@jupyter-widgets/controls",
            "_view_module_version": "1.5.0",
            "_view_name": "ProgressView",
            "bar_style": "success",
            "description": "",
            "description_tooltip": null,
            "layout": "IPY_MODEL_3494fa98f5844a5d9a88b97d5434526f",
            "max": 141567418,
            "min": 0,
            "orientation": "horizontal",
            "style": "IPY_MODEL_2b6b9f9cf1a74bb1b5d8d02fe15b461e",
            "value": 141567418
          }
        },
        "715ad385563e4912916ec398459cace8": {
          "model_module": "@jupyter-widgets/controls",
          "model_name": "HTMLModel",
          "model_module_version": "1.5.0",
          "state": {
            "_dom_classes": [],
            "_model_module": "@jupyter-widgets/controls",
            "_model_module_version": "1.5.0",
            "_model_name": "HTMLModel",
            "_view_count": null,
            "_view_module": "@jupyter-widgets/controls",
            "_view_module_version": "1.5.0",
            "_view_name": "HTMLView",
            "description": "",
            "description_tooltip": null,
            "layout": "IPY_MODEL_09a4b374298545e58f7418c3bdc3cb56",
            "placeholder": "​",
            "style": "IPY_MODEL_be40207f7a804c4f97a277d70fe0a6e0",
            "value": " 135M/135M [00:01&lt;00:00, 132MB/s]"
          }
        },
        "38fd1ce749494d9cb140825ec9e1ce20": {
          "model_module": "@jupyter-widgets/base",
          "model_name": "LayoutModel",
          "model_module_version": "1.2.0",
          "state": {
            "_model_module": "@jupyter-widgets/base",
            "_model_module_version": "1.2.0",
            "_model_name": "LayoutModel",
            "_view_count": null,
            "_view_module": "@jupyter-widgets/base",
            "_view_module_version": "1.2.0",
            "_view_name": "LayoutView",
            "align_content": null,
            "align_items": null,
            "align_self": null,
            "border": null,
            "bottom": null,
            "display": null,
            "flex": null,
            "flex_flow": null,
            "grid_area": null,
            "grid_auto_columns": null,
            "grid_auto_flow": null,
            "grid_auto_rows": null,
            "grid_column": null,
            "grid_gap": null,
            "grid_row": null,
            "grid_template_areas": null,
            "grid_template_columns": null,
            "grid_template_rows": null,
            "height": null,
            "justify_content": null,
            "justify_items": null,
            "left": null,
            "margin": null,
            "max_height": null,
            "max_width": null,
            "min_height": null,
            "min_width": null,
            "object_fit": null,
            "object_position": null,
            "order": null,
            "overflow": null,
            "overflow_x": null,
            "overflow_y": null,
            "padding": null,
            "right": null,
            "top": null,
            "visibility": null,
            "width": null
          }
        },
        "449a2e3b7e3945a4b936eface1731103": {
          "model_module": "@jupyter-widgets/base",
          "model_name": "LayoutModel",
          "model_module_version": "1.2.0",
          "state": {
            "_model_module": "@jupyter-widgets/base",
            "_model_module_version": "1.2.0",
            "_model_name": "LayoutModel",
            "_view_count": null,
            "_view_module": "@jupyter-widgets/base",
            "_view_module_version": "1.2.0",
            "_view_name": "LayoutView",
            "align_content": null,
            "align_items": null,
            "align_self": null,
            "border": null,
            "bottom": null,
            "display": null,
            "flex": null,
            "flex_flow": null,
            "grid_area": null,
            "grid_auto_columns": null,
            "grid_auto_flow": null,
            "grid_auto_rows": null,
            "grid_column": null,
            "grid_gap": null,
            "grid_row": null,
            "grid_template_areas": null,
            "grid_template_columns": null,
            "grid_template_rows": null,
            "height": null,
            "justify_content": null,
            "justify_items": null,
            "left": null,
            "margin": null,
            "max_height": null,
            "max_width": null,
            "min_height": null,
            "min_width": null,
            "object_fit": null,
            "object_position": null,
            "order": null,
            "overflow": null,
            "overflow_x": null,
            "overflow_y": null,
            "padding": null,
            "right": null,
            "top": null,
            "visibility": null,
            "width": null
          }
        },
        "d64b382838394b788197c2ca8aef6de5": {
          "model_module": "@jupyter-widgets/controls",
          "model_name": "DescriptionStyleModel",
          "model_module_version": "1.5.0",
          "state": {
            "_model_module": "@jupyter-widgets/controls",
            "_model_module_version": "1.5.0",
            "_model_name": "DescriptionStyleModel",
            "_view_count": null,
            "_view_module": "@jupyter-widgets/base",
            "_view_module_version": "1.2.0",
            "_view_name": "StyleView",
            "description_width": ""
          }
        },
        "3494fa98f5844a5d9a88b97d5434526f": {
          "model_module": "@jupyter-widgets/base",
          "model_name": "LayoutModel",
          "model_module_version": "1.2.0",
          "state": {
            "_model_module": "@jupyter-widgets/base",
            "_model_module_version": "1.2.0",
            "_model_name": "LayoutModel",
            "_view_count": null,
            "_view_module": "@jupyter-widgets/base",
            "_view_module_version": "1.2.0",
            "_view_name": "LayoutView",
            "align_content": null,
            "align_items": null,
            "align_self": null,
            "border": null,
            "bottom": null,
            "display": null,
            "flex": null,
            "flex_flow": null,
            "grid_area": null,
            "grid_auto_columns": null,
            "grid_auto_flow": null,
            "grid_auto_rows": null,
            "grid_column": null,
            "grid_gap": null,
            "grid_row": null,
            "grid_template_areas": null,
            "grid_template_columns": null,
            "grid_template_rows": null,
            "height": null,
            "justify_content": null,
            "justify_items": null,
            "left": null,
            "margin": null,
            "max_height": null,
            "max_width": null,
            "min_height": null,
            "min_width": null,
            "object_fit": null,
            "object_position": null,
            "order": null,
            "overflow": null,
            "overflow_x": null,
            "overflow_y": null,
            "padding": null,
            "right": null,
            "top": null,
            "visibility": null,
            "width": null
          }
        },
        "2b6b9f9cf1a74bb1b5d8d02fe15b461e": {
          "model_module": "@jupyter-widgets/controls",
          "model_name": "ProgressStyleModel",
          "model_module_version": "1.5.0",
          "state": {
            "_model_module": "@jupyter-widgets/controls",
            "_model_module_version": "1.5.0",
            "_model_name": "ProgressStyleModel",
            "_view_count": null,
            "_view_module": "@jupyter-widgets/base",
            "_view_module_version": "1.2.0",
            "_view_name": "StyleView",
            "bar_color": null,
            "description_width": ""
          }
        },
        "09a4b374298545e58f7418c3bdc3cb56": {
          "model_module": "@jupyter-widgets/base",
          "model_name": "LayoutModel",
          "model_module_version": "1.2.0",
          "state": {
            "_model_module": "@jupyter-widgets/base",
            "_model_module_version": "1.2.0",
            "_model_name": "LayoutModel",
            "_view_count": null,
            "_view_module": "@jupyter-widgets/base",
            "_view_module_version": "1.2.0",
            "_view_name": "LayoutView",
            "align_content": null,
            "align_items": null,
            "align_self": null,
            "border": null,
            "bottom": null,
            "display": null,
            "flex": null,
            "flex_flow": null,
            "grid_area": null,
            "grid_auto_columns": null,
            "grid_auto_flow": null,
            "grid_auto_rows": null,
            "grid_column": null,
            "grid_gap": null,
            "grid_row": null,
            "grid_template_areas": null,
            "grid_template_columns": null,
            "grid_template_rows": null,
            "height": null,
            "justify_content": null,
            "justify_items": null,
            "left": null,
            "margin": null,
            "max_height": null,
            "max_width": null,
            "min_height": null,
            "min_width": null,
            "object_fit": null,
            "object_position": null,
            "order": null,
            "overflow": null,
            "overflow_x": null,
            "overflow_y": null,
            "padding": null,
            "right": null,
            "top": null,
            "visibility": null,
            "width": null
          }
        },
        "be40207f7a804c4f97a277d70fe0a6e0": {
          "model_module": "@jupyter-widgets/controls",
          "model_name": "DescriptionStyleModel",
          "model_module_version": "1.5.0",
          "state": {
            "_model_module": "@jupyter-widgets/controls",
            "_model_module_version": "1.5.0",
            "_model_name": "DescriptionStyleModel",
            "_view_count": null,
            "_view_module": "@jupyter-widgets/base",
            "_view_module_version": "1.2.0",
            "_view_name": "StyleView",
            "description_width": ""
          }
        }
      }
    }
  },
  "cells": [
    {
      "cell_type": "markdown",
      "source": [
        "# Fine-tuning the modified model with our data"
      ],
      "metadata": {
        "id": "bn3RvCIca8I4"
      }
    },
    {
      "cell_type": "markdown",
      "source": [
        "## Imports\n"
      ],
      "metadata": {
        "id": "Pzg01dJvZX7c"
      }
    },
    {
      "cell_type": "code",
      "source": [
        "# connecting drive to colab notebook\n",
        "from google.colab import drive\n",
        "drive.mount('/content/drive')"
      ],
      "metadata": {
        "colab": {
          "base_uri": "https://localhost:8080/"
        },
        "id": "d8EsrI8UYlGq",
        "outputId": "d1a932a2-0ed9-4e52-b8be-47d8b281e24a"
      },
      "execution_count": 1,
      "outputs": [
        {
          "output_type": "stream",
          "name": "stdout",
          "text": [
            "Mounted at /content/drive\n"
          ]
        }
      ]
    },
    {
      "cell_type": "code",
      "source": [
        "import torchvision\n",
        "import numpy as np\n",
        "import torch\n",
        "import argparse\n",
        "import cv2\n",
        "from PIL import Image\n",
        "from google.colab.patches import cv2_imshow\n",
        "import torch.nn as nn\n",
        "from collections import OrderedDict\n",
        "import torch.optim as optim\n",
        "import time\n",
        "import copy\n",
        "import torchvision.transforms as transforms\n",
        "from torchvision.io.image import read_image\n",
        "from torchvision.models.segmentation import fcn_resnet50, FCN_ResNet50_Weights\n",
        "from torchvision.transforms.functional import to_pil_image\n",
        "from torch.utils.data import Dataset, DataLoader\n",
        "from torch.utils.data.sampler import SubsetRandomSampler\n",
        "\n",
        "import sys\n",
        "sys.path.append('/content/drive/MyDrive/drive_folder')\n",
        "from custom_dataset_loader import TaiChiDataset, ToTensor"
      ],
      "metadata": {
        "id": "Bp5Dfv5mYtHW"
      },
      "execution_count": 2,
      "outputs": []
    },
    {
      "cell_type": "markdown",
      "source": [
        "## Helper functions"
      ],
      "metadata": {
        "id": "7pjuHO5HZhxE"
      }
    },
    {
      "cell_type": "code",
      "execution_count": 3,
      "metadata": {
        "id": "PyfjK8dkYgUA"
      },
      "outputs": [],
      "source": [
        "# converting all the images to tensors and then normalize them\n",
        "transform = transforms.Compose([\n",
        "    transforms.ToTensor(),\n",
        "    transforms.Normalize(mean=[0.485, 0.456, 0.406],\n",
        "                         std=[0.229, 0.224, 0.225])\n",
        "])\n",
        "\n",
        "def set_parameter_requires_grad(model, feature_extracting):\n",
        "    if feature_extracting:\n",
        "        for param in model.parameters():\n",
        "            param.requires_grad = False"
      ]
    },
    {
      "cell_type": "markdown",
      "source": [
        "## Our prediction model"
      ],
      "metadata": {
        "id": "6bCCvwlYaTa6"
      }
    },
    {
      "cell_type": "code",
      "source": [
        "# Initialize model with the best available weights\n",
        "# create an instance of (e.g.) torchvision.models.segmentation.fcn_resnet50\n",
        "# and tell it to load pretrained weights\n",
        "weights = FCN_ResNet50_Weights.DEFAULT\n",
        "modified_model = fcn_resnet50(weights=weights)\n",
        "\n",
        "# set computation device\n",
        "device = torch.device('cuda')\n",
        "\n",
        "# model to train() and load onto computation devicce\n",
        "modified_model.to(device)\n",
        "\n",
        "# we are feature extracting so we only need to compute weights for the new layer\n",
        "set_parameter_requires_grad(modified_model, True)"
      ],
      "metadata": {
        "id": "1IHNxy3-Y6d6",
        "colab": {
          "base_uri": "https://localhost:8080/",
          "height": 87,
          "referenced_widgets": [
            "80b3a45be1844e2c8e81cdc183bc9c64",
            "32b37357579d4a1d950de73e8b312f7b",
            "f504fe9a24144971ad36087241aa3521",
            "715ad385563e4912916ec398459cace8",
            "38fd1ce749494d9cb140825ec9e1ce20",
            "449a2e3b7e3945a4b936eface1731103",
            "d64b382838394b788197c2ca8aef6de5",
            "3494fa98f5844a5d9a88b97d5434526f",
            "2b6b9f9cf1a74bb1b5d8d02fe15b461e",
            "09a4b374298545e58f7418c3bdc3cb56",
            "be40207f7a804c4f97a277d70fe0a6e0"
          ]
        },
        "outputId": "b9101c03-b499-4366-a6c7-011dfe87714c"
      },
      "execution_count": 4,
      "outputs": [
        {
          "output_type": "stream",
          "name": "stderr",
          "text": [
            "Downloading: \"https://download.pytorch.org/models/fcn_resnet50_coco-1167a1af.pth\" to /root/.cache/torch/hub/checkpoints/fcn_resnet50_coco-1167a1af.pth\n"
          ]
        },
        {
          "output_type": "display_data",
          "data": {
            "text/plain": [
              "  0%|          | 0.00/135M [00:00<?, ?B/s]"
            ],
            "application/vnd.jupyter.widget-view+json": {
              "version_major": 2,
              "version_minor": 0,
              "model_id": "80b3a45be1844e2c8e81cdc183bc9c64"
            }
          },
          "metadata": {}
        }
      ]
    },
    {
      "cell_type": "code",
      "source": [
        "# modify that model by removing its final layer and replacing with a 2D vector output at each pixel(?) (instead of 20 class logits)\n",
        "\n",
        "# (classifier): FCNHead(\n",
        "#     (0): Conv2d(2048, 512, kernel_size=(3, 3), stride=(1, 1), padding=(1, 1), bias=False)\n",
        "#     (1): BatchNorm2d(512, eps=1e-05, momentum=0.1, affine=True, track_running_stats=True)\n",
        "#     (2): ReLU()\n",
        "#     (3): Dropout(p=0.1, inplace=False)\n",
        "#     (4): Conv2d(512, 21, kernel_size=(1, 1), stride=(1, 1))\n",
        "#   )\n",
        "# (aux_classifier): FCNHead(\n",
        "#     (0): Conv2d(1024, 256, kernel_size=(3, 3), stride=(1, 1), padding=(1, 1), bias=False)\n",
        "#     (1): BatchNorm2d(256, eps=1e-05, momentum=0.1, affine=True, track_running_stats=True)\n",
        "#     (2): ReLU()\n",
        "#     (3): Dropout(p=0.1, inplace=False)\n",
        "#     (4): Conv2d(256, 21, kernel_size=(1, 1), stride=(1, 1))\n",
        "#   )\n",
        "# )\n",
        "\n",
        "# instead of torch.Size([1, 21, 120, 240]) -> torch.Size([1, 2, 120, 240])\n",
        "modified_model.classifier[3] = nn.Sequential()\n",
        "modified_model.classifier[4] = nn.Conv2d(512, 2, kernel_size=(1, 1), stride=(1, 1))\n",
        "# modified_model.aux_classifier[3] = nn.Sequential()\n",
        "# modified_model.aux_classifier[4] = nn.Conv2d(256, 2, kernel_size=(1, 1), stride=(1, 1))\n",
        "print(modified_model)"
      ],
      "metadata": {
        "id": "fZta1fBFZJ9d"
      },
      "execution_count": null,
      "outputs": []
    },
    {
      "cell_type": "code",
      "source": [
        "# see what parameters will be tuned\n",
        "params_to_update = modified_model.parameters()\n",
        "print('Params to learn:')\n",
        "for name, param in modified_model.named_parameters():\n",
        "  if param.requires_grad:\n",
        "      print(name)"
      ],
      "metadata": {
        "id": "3ejQlnWfZSt2",
        "colab": {
          "base_uri": "https://localhost:8080/"
        },
        "outputId": "3b910b2a-2df3-4beb-bc6f-05970a2dac71"
      },
      "execution_count": 16,
      "outputs": [
        {
          "output_type": "stream",
          "name": "stdout",
          "text": [
            "Params to learn:\n",
            "classifier.4.weight\n",
            "classifier.4.bias\n"
          ]
        }
      ]
    },
    {
      "cell_type": "markdown",
      "source": [
        "### Train function"
      ],
      "metadata": {
        "id": "cb1eFevUae33"
      }
    },
    {
      "cell_type": "code",
      "source": [
        "# define train function\n",
        "def train_model(model, dataloaders, criterion, optimizer, num_epochs=25, is_aux=False):\n",
        "  model.to(device)\n",
        "  since = time.time()\n",
        "\n",
        "  val_loss_history = []\n",
        "\n",
        "  best_model_wts = copy.deepcopy(model.state_dict())\n",
        "\n",
        "  for epoch in range(num_epochs):\n",
        "        print('-' * 10)\n",
        "        print('Epoch {}/{}'.format(epoch, num_epochs - 1))\n",
        "        print('-' * 10)\n",
        "        \n",
        "        # Each epoch has a training and validation phase\n",
        "        for phase in ['train', 'val']:\n",
        "            if phase == 'train':\n",
        "                model.train()  # Set model to training mode\n",
        "            else:\n",
        "                model.eval()   # Set model to evaluate mode\n",
        "\n",
        "            running_loss = 0.0\n",
        "            total_samples=0\n",
        "\n",
        "            # Iterate over data.\n",
        "            for i_batch, sample_batched in enumerate(dataloaders[phase]):\n",
        "              batch_size = len(sample_batched['id'])\n",
        "              total_samples+=batch_size\n",
        "\n",
        "              inputs = sample_batched['image0']\n",
        "              coords = sample_batched['coords']\n",
        "\n",
        "              coords = coords.view(batch_size,2,4096,1) # torch.Size([16, 1, 4096, 2])-> torch.Size([16, 2, 4096, 1])\n",
        "\n",
        "\n",
        "              inputs = inputs.to(device).float() #torch.Size([16, 3, 120, 240])\n",
        "              coords = coords.to(device) \n",
        "              \n",
        "              # zero the parameter gradients\n",
        "              optimizer.zero_grad()\n",
        "\n",
        "              # forward\n",
        "              # track history if only in train\n",
        "              with torch.set_grad_enabled(phase == 'train'):\n",
        "                    # Get model outputs and calculate loss\n",
        "                    outputs = model(inputs)\n",
        "                    outputs = outputs['out'].view(batch_size,2,-1,1) # torch.Size([16, 2, 120*240, 1])\n",
        "                    # print(outputs.shape)\n",
        "                    outputs = outputs[:, :, :4096, :]\n",
        "                    loss = criterion(outputs, coords)\n",
        "                    \n",
        "                    _, preds = torch.max(outputs, 1)\n",
        "\n",
        "                    # backward + optimize only if in training phase\n",
        "                    if phase == 'train':\n",
        "                        loss.backward()\n",
        "                        optimizer.step()\n",
        "\n",
        "                    # statistics\n",
        "                    running_loss += loss.item() * inputs.size(0)\n",
        "\n",
        "            epoch_loss = running_loss / total_samples\n",
        "            print('{} Loss: {:.4f}'.format(phase, epoch_loss))\n",
        "\n",
        "            # deep copy the model\n",
        "            if epoch == 0:\n",
        "              best_loss = epoch_loss\n",
        "            if phase == 'val' and epoch_loss < best_loss:\n",
        "                best_loss = epoch_loss\n",
        "                best_model_wts = copy.deepcopy(model.state_dict())\n",
        "            if phase == 'val':\n",
        "                val_loss_history.append(epoch_loss)\n",
        "\n",
        "            print()\n",
        "            \n",
        "        time_elapsed = time.time() - since\n",
        "        print('Training complete in {:.0f}m {:.0f}s'.format(time_elapsed // 60, time_elapsed % 60))\n",
        "        print('Best val loss: {:4f}\\n'.format(best_loss))\n",
        "\n",
        "  # load best model weights\n",
        "  model.load_state_dict(best_model_wts)\n",
        "  return model, val_loss_history\n"
      ],
      "metadata": {
        "id": "ItzqEpfDZWoJ"
      },
      "execution_count": 67,
      "outputs": []
    },
    {
      "cell_type": "markdown",
      "source": [
        "\n",
        "\n",
        "## Initializing Datasets and Dataloaders"
      ],
      "metadata": {
        "id": "jB0a8m5Ral92"
      }
    },
    {
      "cell_type": "code",
      "source": [
        "# Load dataset\n",
        "\n",
        "TRAIN_DATA = \"training_data_2023-01-02\"\n",
        "!unzip -d \"$TRAIN_DATA\"/ /content/drive/MyDrive/\"$TRAIN_DATA\".zip # unziping training data\n",
        "\n",
        "dataset = TaiChiDataset(log_file=TRAIN_DATA+'/sample_ids.txt',\n",
        "                        root_dir=TRAIN_DATA,\n",
        "                        check=True,\n",
        "                        transform=ToTensor()\n",
        "                        )"
      ],
      "metadata": {
        "id": "fPDDjpIcb1ec"
      },
      "execution_count": null,
      "outputs": []
    },
    {
      "cell_type": "code",
      "source": [
        "def split_dataset(dataset, validation_split, batch_size, shuffle_dataset, random_seed):\n",
        "  dataset_size = len(dataset)\n",
        "  indices = list(range(dataset_size))\n",
        "  split = int(np.floor(validation_split * dataset_size))\n",
        "  if shuffle_dataset:\n",
        "    np.random.seed(random_seed)\n",
        "    np.random.shuffle(indices)\n",
        "  train_indices, val_indices = indices[split:], indices[:split]\n",
        "  train_sampler = SubsetRandomSampler(train_indices)\n",
        "  valid_sampler = SubsetRandomSampler(val_indices)\n",
        "  \n",
        "  # print(len(train_sampler))\n",
        "  # print(len(valid_sampler))\n",
        "  \n",
        "  train_loader = DataLoader(dataset, batch_size=batch_size, sampler=train_sampler)\n",
        "  validation_loader = DataLoader(dataset, batch_size=batch_size, sampler=valid_sampler)\n",
        "\n",
        "  return train_loader, validation_loader"
      ],
      "metadata": {
        "id": "RP7650LcaoNf"
      },
      "execution_count": 65,
      "outputs": []
    },
    {
      "cell_type": "markdown",
      "source": [
        "## Training & evaluating the model"
      ],
      "metadata": {
        "id": "B_XIRuWYaotC"
      }
    },
    {
      "cell_type": "code",
      "source": [
        "# Define parameters\n",
        "validation_split = .1\n",
        "shuffle_dataset = True\n",
        "random_seed = 42\n",
        "batch_size = 16\n",
        "num_epochs = 10\n",
        "\n",
        "# Get train and validation dataloaders\n",
        "train_loader, validation_loader = split_dataset(dataset, validation_split, batch_size, shuffle_dataset, random_seed)\n",
        "dataloaders_dict = {'train': train_loader, 'val': validation_loader}\n",
        "\n",
        "# Define optimizer\n",
        "params_to_update = modified_model.parameters()\n",
        "my_optimizer = optim.SGD(params_to_update, lr=0.001, momentum=0.9)\n",
        "\n",
        "# Setup the loss\n",
        "my_criterion = nn.MSELoss()\n",
        "\n",
        "# Train and evaluate\n",
        "modified_model, hist = train_model(modified_model,\n",
        "                                   dataloaders_dict,\n",
        "                                   my_criterion,\n",
        "                                   my_optimizer,\n",
        "                                   num_epochs=num_epochs)"
      ],
      "metadata": {
        "id": "Cp-DDzyHaqvk",
        "colab": {
          "base_uri": "https://localhost:8080/"
        },
        "outputId": "6d985340-54c6-4c90-f746-fa4ae10b7b84"
      },
      "execution_count": 68,
      "outputs": [
        {
          "output_type": "stream",
          "name": "stdout",
          "text": [
            "----------\n",
            "Epoch 0/9\n",
            "----------\n",
            "train Loss: 24337.7993\n",
            "\n",
            "val Loss: 24396.1207\n",
            "\n",
            "Training complete in 0m 40s\n",
            "Best val loss: 24396.120665\n",
            "\n",
            "----------\n",
            "Epoch 1/9\n",
            "----------\n",
            "train Loss: 24330.2801\n",
            "\n",
            "val Loss: 24396.6210\n",
            "\n",
            "Training complete in 1m 21s\n",
            "Best val loss: 24396.120665\n",
            "\n",
            "----------\n",
            "Epoch 2/9\n",
            "----------\n",
            "train Loss: 24329.9730\n",
            "\n",
            "val Loss: 24395.9841\n",
            "\n",
            "Training complete in 2m 2s\n",
            "Best val loss: 24395.984136\n",
            "\n",
            "----------\n",
            "Epoch 3/9\n",
            "----------\n",
            "train Loss: 24327.2450\n",
            "\n",
            "val Loss: 24385.0486\n",
            "\n",
            "Training complete in 2m 43s\n",
            "Best val loss: 24385.048573\n",
            "\n",
            "----------\n",
            "Epoch 4/9\n",
            "----------\n",
            "train Loss: 24323.9414\n",
            "\n",
            "val Loss: 24376.1339\n",
            "\n",
            "Training complete in 3m 23s\n",
            "Best val loss: 24376.133868\n",
            "\n",
            "----------\n",
            "Epoch 5/9\n",
            "----------\n",
            "train Loss: 24321.9224\n",
            "\n",
            "val Loss: 24375.6873\n",
            "\n",
            "Training complete in 4m 3s\n",
            "Best val loss: 24375.687314\n",
            "\n",
            "----------\n",
            "Epoch 6/9\n",
            "----------\n",
            "train Loss: 24318.9053\n",
            "\n",
            "val Loss: 24370.8090\n",
            "\n",
            "Training complete in 4m 43s\n",
            "Best val loss: 24370.809010\n",
            "\n",
            "----------\n",
            "Epoch 7/9\n",
            "----------\n",
            "train Loss: 24315.4900\n",
            "\n",
            "val Loss: 24384.6012\n",
            "\n",
            "Training complete in 5m 24s\n",
            "Best val loss: 24370.809010\n",
            "\n",
            "----------\n",
            "Epoch 8/9\n",
            "----------\n",
            "train Loss: 24316.6896\n",
            "\n",
            "val Loss: 24382.1347\n",
            "\n",
            "Training complete in 6m 4s\n",
            "Best val loss: 24370.809010\n",
            "\n",
            "----------\n",
            "Epoch 9/9\n",
            "----------\n",
            "train Loss: 24310.4208\n",
            "\n",
            "val Loss: 24385.0279\n",
            "\n",
            "Training complete in 6m 44s\n",
            "Best val loss: 24370.809010\n",
            "\n"
          ]
        }
      ]
    }
  ]
}